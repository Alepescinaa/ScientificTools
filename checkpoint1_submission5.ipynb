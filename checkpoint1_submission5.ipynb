{
  "nbformat": 4,
  "nbformat_minor": 0,
  "metadata": {
    "colab": {
      "provenance": [],
      "authorship_tag": "ABX9TyMxqMzLAj2ng/l21myoafUY",
      "include_colab_link": true
    },
    "kernelspec": {
      "name": "python3",
      "display_name": "Python 3"
    },
    "language_info": {
      "name": "python"
    }
  },
  "cells": [
    {
      "cell_type": "markdown",
      "metadata": {
        "id": "view-in-github",
        "colab_type": "text"
      },
      "source": [
        "<a href=\"https://colab.research.google.com/github/Alepescinaa/ScientificTools/blob/main/checkpoint1_submission5.ipynb\" target=\"_parent\"><img src=\"https://colab.research.google.com/assets/colab-badge.svg\" alt=\"Open In Colab\"/></a>"
      ]
    },
    {
      "cell_type": "code",
      "execution_count": null,
      "metadata": {
        "id": "j_O3M4JnBx5e"
      },
      "outputs": [],
      "source": [
        "from scipy.interpolate import RBFInterpolator\n",
        "\n",
        "def checkpoint1_solution(x, y, t, X, Y, s_value=0.05, s_aniso_1=0.5, s_aniso_2=0.5):\n",
        "    coordinates = np.column_stack((x, y))\n",
        "\n",
        "    mesh_coordinates=np.column_stack((X.ravel(), Y.ravel()))\n",
        "\n",
        "    s = [s_value,s_value,s_value,s_value,s_value,s_value,s_value,s_value,s_value,s_value,s_aniso_1, s_value,s_value,s_value,s_value, s_aniso_2,s_value,s_value,s_value,s_value]\n",
        "\n",
        "    rbf = RBFInterpolator(coordinates, t, neighbors=None, smoothing=s, kernel='thin_plate_spline', epsilon=None, degree=1)\n",
        "\n",
        "    time_pred = rbf(mesh_coordinates)\n",
        "    time_pred=time_pred.reshape(1501,1501)\n",
        "\n",
        "    grad_x, grad_y = np.gradient(time_pred)\n",
        "\n",
        "    vel_pred = 1.0/( np.sqrt((grad_x/(3.0/1500))**2+(grad_y/(3.0/1500))**2) + 1e-4)\n",
        "    treshold=160\n",
        "    if np.max(vel_pred)>treshold:\n",
        "      source_indices = np.where(time_pred < 1e-2)\n",
        "      indices_2d = np.array(source_indices).T\n",
        "      vel_pred[indices_2d[:, 0],indices_2d[:, 1]] = 1.0/( np.sqrt((grad_x[indices_2d[:, 0],indices_2d[:, 1]]/(3.0/1500))**2+(grad_y[indices_2d[:, 0],indices_2d[:, 1]]/(3.0/1500))**2) + 1e-3)\n",
        "      vel_pred=vel_pred*(vel_pred<treshold)+treshold*(vel_pred>treshold)\n",
        "\n",
        "    return time_pred, vel_pred"
      ]
    },
    {
      "cell_type": "code",
      "source": [
        "from scipy.interpolate import RBFInterpolator\n",
        "\n",
        "def checkpoint1_solution_bis(x, y, t, X, Y, s_value=0.05, s_aniso_1=0.5, s_aniso_2=0.5):\n",
        "    coordinates = np.column_stack((x, y))\n",
        "\n",
        "    mesh_coordinates=np.column_stack((X.ravel(), Y.ravel()))\n",
        "\n",
        "    s = [s_value,s_value,s_value,s_value,s_value,s_value,s_value,s_value,s_value,s_value,s_aniso_1, s_value,s_value,s_value,s_value, s_aniso_2,s_value,s_value,s_value,s_value]\n",
        "\n",
        "    rbf = RBFInterpolator(coordinates, t, neighbors=None, smoothing=s, kernel='thin_plate_spline', epsilon=None, degree=1)\n",
        "\n",
        "    time_pred = rbf(mesh_coordinates)\n",
        "    time_pred=time_pred.reshape(1501,1501)\n",
        "\n",
        "    grad_x, grad_y = np.gradient(time_pred)\n",
        "\n",
        "    vel_pred = 1.0/( np.sqrt((grad_x/(3.0/1500))**2+(grad_y/(3.0/1500))**2) + 1e-4)\n",
        "    treshold=160\n",
        "    if np.max(vel_pred)>treshold:\n",
        "      source_indices = np.where(vel_pred >treshold)\n",
        "      indices_2d = np.array(source_indices).T\n",
        "      vel_pred[indices_2d[:, 0],indices_2d[:, 1]] = 1.0/( np.sqrt((grad_x[indices_2d[:, 0],indices_2d[:, 1]]/(3.0/1500))**2+(grad_y[indices_2d[:, 0],indices_2d[:, 1]]/(3.0/1500))**2) + 1e-3)\n",
        "      vel_pred=vel_pred*(vel_pred<treshold)+treshold*(vel_pred>treshold)\n",
        "\n",
        "    return time_pred, vel_pred"
      ],
      "metadata": {
        "id": "xYcyNElEB4ia"
      },
      "execution_count": null,
      "outputs": []
    }
  ]
}