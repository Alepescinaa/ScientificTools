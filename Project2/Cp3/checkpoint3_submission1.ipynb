{
  "nbformat": 4,
  "nbformat_minor": 0,
  "metadata": {
    "colab": {
      "provenance": [],
      "mount_file_id": "175iFumrqiWARMWvEyy_twTQViPCvc350",
      "authorship_tag": "ABX9TyNYAy8uzTFZaRaGad/vo04W",
      "include_colab_link": true
    },
    "kernelspec": {
      "name": "python3",
      "display_name": "Python 3"
    },
    "language_info": {
      "name": "python"
    }
  },
  "cells": [
    {
      "cell_type": "markdown",
      "metadata": {
        "id": "view-in-github",
        "colab_type": "text"
      },
      "source": [
        "<a href=\"https://colab.research.google.com/github/Alepescinaa/ScientificTools/blob/main/Project2/Cp3/checkpoint3_submission1.ipynb\" target=\"_parent\"><img src=\"https://colab.research.google.com/assets/colab-badge.svg\" alt=\"Open In Colab\"/></a>"
      ]
    },
    {
      "cell_type": "code",
      "source": [
        "import os\n",
        "import numpy as np\n",
        "from tensorflow.keras.models import load_model\n",
        "\n",
        "cwd_folder = os.getcwd()\n",
        "spe10_folder = cwd_folder + \"/spe10/\"\n",
        "import sys; sys.path.insert(1, spe10_folder)\n",
        "\n",
        "from spe10 import Spe10"
      ],
      "metadata": {
        "colab": {
          "base_uri": "https://localhost:8080/"
        },
        "id": "VQA7RiG9l_g1",
        "outputId": "946f6a7c-5e7d-42c5-a12e-e5414d7447ae"
      },
      "execution_count": 2,
      "outputs": [
        {
          "output_type": "stream",
          "name": "stderr",
          "text": [
            "/usr/local/lib/python3.10/dist-packages/porepy/numerics/nonlinear/nonlinear_solvers.py:14: TqdmExperimentalWarning: Using `tqdm.autonotebook.tqdm` in notebook mode. Use `tqdm.tqdm` instead to force console mode (e.g. in jupyter console)\n",
            "  from tqdm.autonotebook import trange  # type: ignore\n"
          ]
        }
      ]
    },
    {
      "cell_type": "code",
      "source": [
        "model = load_model('/content/drive/MyDrive/model_tot1')"
      ],
      "metadata": {
        "id": "DRD9pbT1mtcH"
      },
      "execution_count": 3,
      "outputs": []
    },
    {
      "cell_type": "code",
      "source": [
        "def Checkpoint3_solution(selected_layers,initial_conc_pos, L=50):\n",
        "\n",
        "    outflow = np.zeros((200,))\n",
        "\n",
        "    spe10 = Spe10(selected_layers)\n",
        "    perm_folder = spe10_folder + \"/perm/\"\n",
        "    spe10.read_perm(perm_folder)\n",
        "    perm_dict = spe10.perm_as_dict()\n",
        "    perm_values = perm_dict['kxx']\n",
        "\n",
        "    i = np.floor(initial_conc_pos[0] / spe10.spacing[0])\n",
        "    j = np.floor(initial_conc_pos[1] / spe10.spacing[1])\n",
        "    index = int(i + spe10.full_shape[0] * j)\n",
        "\n",
        "    if selected_layers == 2:\n",
        "        pos_well = [216.40800000000002, 370.332]\n",
        "    elif selected_layers == 12:\n",
        "        pos_well = [204.216, 550.1639999999999]\n",
        "    elif selected_layers == 20:\n",
        "        pos_well = [198.12, 217.93199999999993]\n",
        "    elif selected_layers == 42:\n",
        "        pos_well = [76.2, 446.53199999999987]\n",
        "    elif selected_layers == 51:\n",
        "        pos_well = [313.9440000000001, 598.9319999999999]\n",
        "    elif selected_layers == 71:\n",
        "        pos_well = [192.024, 574.5479999999999]\n",
        "    else:\n",
        "        pos_well = [271.272, 41.147999999999996]\n",
        "\n",
        "    dist = np.sqrt((initial_conc_pos[0] - pos_well[0]) ** 2 + (initial_conc_pos[1] - pos_well[1]) ** 2)\n",
        "    X = np.column_stack((initial_conc_pos[0], initial_conc_pos[1], perm_values[index], dist, selected_layers))\n",
        "\n",
        "    outflow = model.predict(X)\n",
        "\n",
        "    return outflow"
      ],
      "metadata": {
        "id": "9XRk46gDmKKr"
      },
      "execution_count": 4,
      "outputs": []
    },
    {
      "cell_type": "code",
      "source": [
        "selected_layers = [51, 71, 42, 20, 12, 2, 82]\n",
        "\n",
        "if __name__ == '__main__':\n",
        "\n",
        "  for i in range(7):\n",
        "\n",
        "     outflow = Checkpoint3_solution(selected_layers[i], [120, 250] )"
      ],
      "metadata": {
        "colab": {
          "base_uri": "https://localhost:8080/"
        },
        "id": "u8jE2UwNmTUq",
        "outputId": "49f25435-b9e7-4e34-9f59-573d3d454619"
      },
      "execution_count": 5,
      "outputs": [
        {
          "output_type": "stream",
          "name": "stdout",
          "text": [
            "1/1 [==============================] - 0s 278ms/step\n",
            "1/1 [==============================] - 0s 56ms/step\n",
            "1/1 [==============================] - 0s 63ms/step\n",
            "1/1 [==============================] - 0s 91ms/step\n",
            "1/1 [==============================] - 0s 104ms/step\n",
            "1/1 [==============================] - 0s 40ms/step\n",
            "1/1 [==============================] - 0s 72ms/step\n"
          ]
        }
      ]
    }
  ]
}