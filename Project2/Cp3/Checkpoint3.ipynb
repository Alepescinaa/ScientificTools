{
  "cells": [
    {
      "cell_type": "markdown",
      "metadata": {
        "id": "view-in-github",
        "colab_type": "text"
      },
      "source": [
        "<a href=\"https://colab.research.google.com/github/Alepescinaa/ScientificTools/blob/main/Project2/Cp3/Checkpoint3.ipynb\" target=\"_parent\"><img src=\"https://colab.research.google.com/assets/colab-badge.svg\" alt=\"Open In Colab\"/></a>"
      ]
    },
    {
      "cell_type": "markdown",
      "metadata": {
        "id": "FrJdE9CN5SOm"
      },
      "source": [
        "# Flow and transport problem - SPE10"
      ]
    },
    {
      "cell_type": "markdown",
      "metadata": {
        "id": "XNxWDSWg5SOm"
      },
      "source": [
        "In this checkpoint we investigate the transport problem where the advective field is computed with a Darcy model."
      ]
    },
    {
      "cell_type": "markdown",
      "metadata": {
        "id": "lP_WsB6Q5SOn"
      },
      "source": [
        "Before creating the grid we import NumPy, the SciPy sparse library and PorePy."
      ]
    },
    {
      "cell_type": "code",
      "source": [
        "%%capture\n",
        "!git clone https://github.com/Alepescinaa/ScientificTools\n",
        "%cd ScientificTools/Project2/Cp3\n",
        "\n",
        "!apt-get update\n",
        "!apt-get install libglu1-mesa\n",
        "\n",
        "!git clone https://github.com/pmgbergen/porepy.git\n",
        "%cd porepy\n",
        "\n",
        "!git checkout main\n",
        "\n",
        "!pip install -r requirements.txt\n",
        "\n",
        "!pip install .\n",
        "\n",
        "%cd .."
      ],
      "metadata": {
        "id": "lA-6Oz115T12"
      },
      "execution_count": 1,
      "outputs": []
    },
    {
      "cell_type": "code",
      "execution_count": 2,
      "metadata": {
        "colab": {
          "base_uri": "https://localhost:8080/"
        },
        "id": "ptnPhtUi5SOn",
        "outputId": "04bfa22d-557d-4fbe-bbf9-a7a267747602"
      },
      "outputs": [
        {
          "output_type": "stream",
          "name": "stderr",
          "text": [
            "/usr/local/lib/python3.10/dist-packages/porepy/numerics/nonlinear/nonlinear_solvers.py:14: TqdmExperimentalWarning: Using `tqdm.autonotebook.tqdm` in notebook mode. Use `tqdm.tqdm` instead to force console mode (e.g. in jupyter console)\n",
            "  from tqdm.autonotebook import trange  # type: ignore\n"
          ]
        }
      ],
      "source": [
        "import os\n",
        "import numpy as np\n",
        "import porepy as pp\n",
        "from tqdm import tqdm\n",
        "import scipy.sparse as sps\n",
        "import matplotlib.pyplot as plt\n",
        "\n",
        "cwd_folder = os.getcwd()\n",
        "spe10_folder = cwd_folder + \"/spe10/\"\n",
        "import sys; sys.path.insert(1, spe10_folder)\n",
        "\n",
        "from spe10 import Spe10"
      ]
    },
    {
      "cell_type": "markdown",
      "source": [
        "# Forward problem"
      ],
      "metadata": {
        "id": "1b4u56uLx3hu"
      }
    },
    {
      "cell_type": "markdown",
      "metadata": {
        "id": "KcBBtGaL5SOo"
      },
      "source": [
        "We specify number of cells in each dimension and the physical size of the domain. Then we create a Cartesian grid and compute geometric properties such as face centers, cell volumes etc."
      ]
    },
    {
      "cell_type": "code",
      "execution_count": null,
      "metadata": {
        "scrolled": true,
        "id": "D1Siox335SOo"
      },
      "outputs": [],
      "source": [
        "selected_layers = 2\n",
        "\n",
        "# Define the class with the corresponding layer(s)\n",
        "spe10 = Spe10(selected_layers)\n",
        "# For simplicity we extract the grid form the class spe10\n",
        "sd = spe10.sd\n",
        "\n",
        "# Read the permeability associated to the given layer(s)\n",
        "perm_folder = spe10_folder + \"/perm/\"\n",
        "spe10.read_perm(perm_folder)\n",
        "perm_dict = spe10.perm_as_dict()"
      ]
    },
    {
      "cell_type": "markdown",
      "metadata": {
        "id": "N_lwVRDr5SOo"
      },
      "source": [
        "We declare the data for the Darcy problem."
      ]
    },
    {
      "cell_type": "code",
      "execution_count": null,
      "metadata": {
        "id": "TMku6PNt5SOo"
      },
      "outputs": [],
      "source": [
        "# Permeability\n",
        "perm = pp.SecondOrderTensor(kxx=perm_dict[\"kxx\"], kyy=perm_dict[\"kyy\"], kzz=perm_dict[\"kzz\"])\n",
        "injection_rate = 1\n",
        "pos_well = [216.40800000000002, 370.332]\n",
        "  #this is the position found with the optimization\n",
        "#it will be kept fixed\n",
        "\n",
        "# Boundary conditions: homogeneous neumann everywhere\n",
        "b_faces = sd.tags[\"domain_boundary_faces\"].nonzero()[0]\n",
        "b_face_centers = sd.face_centers[:, b_faces]\n",
        "labels = np.array([\"neu\"] * b_faces.size)\n",
        "bc_val = np.zeros(sd.num_faces)\n",
        "bc = pp.BoundaryCondition(sd, b_faces, labels)\n",
        "\n",
        "# Collect all parameters in a dictionary\n",
        "parameters = {\"second_order_tensor\": perm, \"bc\": bc, \"bc_values\": bc_val}"
      ]
    },
    {
      "cell_type": "markdown",
      "metadata": {
        "id": "av6ZBR_m5SOo"
      },
      "source": [
        "We now set the data for the Darcy problem"
      ]
    },
    {
      "cell_type": "code",
      "execution_count": null,
      "metadata": {
        "id": "8leajT115SOo"
      },
      "outputs": [],
      "source": [
        "flow_key = \"flow\"\n",
        "flow_data = pp.initialize_default_data(sd, {}, flow_key, parameters)"
      ]
    },
    {
      "cell_type": "markdown",
      "metadata": {
        "id": "0MaaKPE25SOo"
      },
      "source": [
        "We now solve the Darcy problem by using the MPFA scheme."
      ]
    },
    {
      "cell_type": "code",
      "execution_count": null,
      "metadata": {
        "id": "u839-ook5SOo"
      },
      "outputs": [],
      "source": [
        "# construct the lhr and rhs from the discretization of the diffusion operator\n",
        "mpfa = pp.Mpfa(flow_key)\n",
        "mpfa.discretize(sd, flow_data)\n",
        "A, b = mpfa.assemble_matrix_rhs(sd, flow_data)\n",
        "\n",
        "# Add the injection wells, all with the same injection rate\n",
        "b_wells = np.zeros_like(b)\n",
        "index_iwells = [\n",
        "   0,\n",
        "   spe10.full_shape[0] - 1,\n",
        "   spe10.full_shape[0] * spe10.full_shape[1] - spe10.full_shape[0],\n",
        "   spe10.full_shape[0] * spe10.full_shape[1] - 1,\n",
        "   ]\n",
        "b_wells[index_iwells] = injection_rate\n",
        "\n",
        "# Add the production well by using a Lagrange multiplier, first we identify the cell\n",
        "ij_well = np.floor( (np.asarray(pos_well) / spe10.spacing[:-1])).astype(int)\n",
        "index_pwell = spe10.full_shape[0] * ij_well[1] + ij_well[0]\n",
        "vect = np.zeros((sd.num_cells, 1))\n",
        "vect[index_pwell] = 1\n",
        "\n",
        "# Solve the linear system and compute the pressure by adding the constraint\n",
        "A = sps.bmat([[A, vect], [vect.T, None]], format=\"csc\")\n",
        "b = np.append(b + b_wells, 0)\n",
        "cell_p = sps.linalg.spsolve(A, b)[:-1]\n",
        "\n",
        "# now data contains the discretization matrices build from MPFA\n",
        "mat_discr = flow_data[pp.DISCRETIZATION_MATRICES][flow_key]\n",
        "\n",
        "q = mat_discr[\"flux\"] @ cell_p + mat_discr[\"bound_flux\"] @ bc_val"
      ]
    },
    {
      "cell_type": "markdown",
      "metadata": {
        "id": "0xVhBNkT5SOo"
      },
      "source": [
        "And we export the corresponding solutions."
      ]
    },
    {
      "cell_type": "code",
      "execution_count": null,
      "metadata": {
        "id": "TQCuId2g5SOp"
      },
      "outputs": [],
      "source": [
        "# to export the flux\n",
        "mvem = pp.MVEM(flow_key)\n",
        "mvem.discretize(sd, flow_data)\n",
        "\n",
        "# construct the P0 flux reconstruction\n",
        "cell_q = mvem.project_flux(sd, q, flow_data)\n",
        "\n",
        "save = pp.Exporter(sd, \"sol_p\", folder_name=\"transport\")\n",
        "\n",
        "data_to_export = [(\"kxx\", np.log10(perm_dict[\"kxx\"])),\n",
        "                  (\"kyy\", np.log10(perm_dict[\"kyy\"])),\n",
        "                  (\"kzz\", np.log10(perm_dict[\"kzz\"])),\n",
        "                  (\"cell_p\", cell_p),\n",
        "                  (\"cell_q\", cell_q)]\n",
        "save.write_vtu(data_to_export)"
      ]
    },
    {
      "cell_type": "markdown",
      "metadata": {
        "id": "sNV7SUPK5SOp"
      },
      "source": [
        "We now consider the transport problem where now the advective field is the one computed from the Darcy problem. First we set the data."
      ]
    },
    {
      "cell_type": "code",
      "execution_count": null,
      "metadata": {
        "id": "GuZ0yZTp5SOp"
      },
      "outputs": [],
      "source": [
        "# Transport problem\n",
        "transport_key = \"transport\"\n",
        "delta_t = 500\n",
        "num_steps = 200\n",
        "\n",
        "# boundary conditions for the advection problem: no flow everywhere\n",
        "labels = np.array([\"neu\"] * b_faces.size)\n",
        "bc_val = np.zeros(sd.num_faces)\n",
        "bc = pp.BoundaryCondition(sd, b_faces, labels)\n",
        "\n",
        "parameters = {\"darcy_flux\": q, \"bc\": bc, \"bc_values\": bc_val}\n",
        "transport_data = pp.initialize_default_data(sd, {}, transport_key, parameters)"
      ]
    },
    {
      "cell_type": "markdown",
      "metadata": {
        "id": "e8Bpn7965SOp"
      },
      "source": [
        "As done in the other cases, we now construct the upwind matrix and the mass matrix."
      ]
    },
    {
      "cell_type": "code",
      "execution_count": null,
      "metadata": {
        "id": "_mW6XSoM5SOp"
      },
      "outputs": [],
      "source": [
        "# create the upwind and mass matrices\n",
        "upwind = pp.Upwind(transport_key)  #the problem is linear, upwind flux is fine (a bit diffusive)\n",
        "\n",
        "# discretize and get the matrices\n",
        "upwind.discretize(sd, transport_data)\n",
        "\n",
        "U, b_upwind = upwind.assemble_matrix_rhs(sd, transport_data)\n",
        "\n",
        "M = sps.csr_matrix(np.diag(sd.cell_volumes), shape=np.shape(U))\n"
      ]
    },
    {
      "cell_type": "markdown",
      "metadata": {
        "id": "VfD6n9KT5SOp"
      },
      "source": [
        "Finally, by using the implicit Euler we compute the concentration that is transported in the porous medium"
      ]
    },
    {
      "cell_type": "code",
      "execution_count": null,
      "metadata": {
        "colab": {
          "base_uri": "https://localhost:8080/",
          "height": 499
        },
        "id": "KQPaQaM-5SOp",
        "outputId": "9ef06e5d-9a9a-4531-a1ef-e1c6ff3fecb2"
      },
      "outputs": [
        {
          "output_type": "stream",
          "name": "stdout",
          "text": [
            "initial mass 2675.6075520000013\n",
            "total outflow 2473.2124642670915\n",
            "mass trapped in the domain 202.3950877329109\n",
            "error in mass conservation -1.0800249583553523e-12\n"
          ]
        },
        {
          "output_type": "display_data",
          "data": {
            "text/plain": [
              "<Figure size 640x480 with 1 Axes>"
            ],
            "image/png": "[encoded data removed]"
          },
          "metadata": {}
        }
      ],
      "source": [
        "# Initial condition: we have zero concentration except for a small square. The position of this square\n",
        "# is what we aim to find to match the curve measured at the well\n",
        "\n",
        "initial_conc_pos = [58,603]  # [292,505] #[300,400]\n",
        "L = 50\n",
        "\n",
        "ini_cond = np.logical_and((np.abs(sd.cell_centers[0,:]-initial_conc_pos[0])<L/2),(np.abs(sd.cell_centers[1,:]-initial_conc_pos[1])<L/2))\n",
        "c = np.zeros(sd.num_cells)\n",
        "c[ini_cond] = 1\n",
        "\n",
        "initial_mass = np.sum(c*sd.cell_volumes) #total mass. This is the max we can collect at the well over time\n",
        "\n",
        "#export initial condition\n",
        "save = pp.Exporter(sd, \"sol_c\", folder_name=\"transport\")\n",
        "save.write_vtu([(\"conc\", c)], time_step=0)\n",
        "\n",
        "# IE with LU factorization\n",
        "S = M + delta_t * U\n",
        "\n",
        "# this part is a bit tricky: at the production well I chose to enforce zero concentration or, if you want,\n",
        "# infinite storage volume. This is because flow and concentration flux should be able to exit the cell to mimic\n",
        "# a production well.\n",
        "\n",
        "# like for pressure, this is done with a Lagrange multiplier, adding a row and a column\n",
        "S = sps.bmat([[S, vect], [vect.T, None]], format=\"csc\")\n",
        "\n",
        "outflow = [] #this is to store the flow exiting from the well in time\n",
        "#the matrix will not change so it is convenient to factorize it once and for all\n",
        "lu = sps.linalg.splu(S.tocsc())\n",
        "\n",
        "for i in np.arange(num_steps):\n",
        "    b = M @ c + delta_t * b_upwind\n",
        "    b = np.append(b,0)\n",
        "    sol = lu.solve(b)\n",
        "    c = sol[:-1]\n",
        "    ll = sol[-1] #this is the Lagrange multiplier and represents the flux exiting from the \"well\"\n",
        "    save.write_vtu([(\"conc\", c)], time_step=(i+1)*delta_t)\n",
        "    outflow.append(ll)\n",
        "\n",
        "plt.plot(np.arange(num_steps),outflow)\n",
        "# export the main pvd file\n",
        "time = np.arange((num_steps+1))*delta_t\n",
        "save.write_pvd(time)\n",
        "\n",
        "# let's check: mass conservation\n",
        "\n",
        "total_outflow = np.sum(outflow)\n",
        "final_internal_mass = np.sum(c*sd.cell_volumes)\n",
        "\n",
        "print('initial mass', initial_mass)\n",
        "print('total outflow', total_outflow)\n",
        "print('mass trapped in the domain', final_internal_mass)\n",
        "\n",
        "print('error in mass conservation',initial_mass-total_outflow-final_internal_mass) #must be 0 or machine eps."
      ]
    },
    {
      "cell_type": "code",
      "execution_count": null,
      "metadata": {
        "id": "AYtTlLXI5SOp"
      },
      "outputs": [],
      "source": [
        "def compute_conc(coord):\n",
        "\n",
        "    initial_conc_pos = coord\n",
        "    L = 50\n",
        "\n",
        "    ini_cond = np.logical_and((np.abs(sd.cell_centers[0,:]-initial_conc_pos[0])<L/2),(np.abs(sd.cell_centers[1,:]-initial_conc_pos[1])<L/2))\n",
        "    c = np.zeros(sd.num_cells)\n",
        "    c[ini_cond] = 1\n",
        "\n",
        "    outflow = []\n",
        "    lu = sps.linalg.splu(S.tocsc())\n",
        "\n",
        "    for i in np.arange(num_steps):\n",
        "        b = M @ c + delta_t * b_upwind\n",
        "        b = np.append(b,0)\n",
        "        sol = lu.solve(b)\n",
        "        c = sol[:-1]\n",
        "        ll = sol[-1]\n",
        "        outflow.append(ll)\n",
        "\n",
        "    return np.array(outflow).reshape(1,200)"
      ]
    },
    {
      "cell_type": "code",
      "execution_count": null,
      "metadata": {
        "id": "r9Eo5ahz5SOp"
      },
      "outputs": [],
      "source": [
        "def sampling(step,layer,well_pos):\n",
        "\n",
        "    spacing_fine = np.asarray(spe10.full_physdims[:-1])/np.asarray(spe10.full_shape[:-1])\n",
        "\n",
        "    x = spacing_fine[0] / 2 + spacing_fine[0] * np.arange(spe10.full_shape[0])\n",
        "    y = spacing_fine[1] / 2 + spacing_fine[1] * np.arange(spe10.full_shape[1])\n",
        "\n",
        "    X , Y = np.meshgrid(x,y)\n",
        "\n",
        "    coord = np.vstack((X.flatten(), Y.flatten())).T\n",
        "    coord_coarse = coord[::step,:]\n",
        "\n",
        "    # conc contains all the curves for every point\n",
        "    n = coord_coarse.shape[0]\n",
        "    conc = np.zeros((n,200))\n",
        "\n",
        "    for i in tqdm(range(n)):\n",
        "        conc[i,:] = compute_conc(coord[i,:])\n",
        "\n",
        "    np.save('data_conc_' + str(layer) + '.npy', conc)\n",
        "    np.save('data_coord_' + str(layer) + '.npy', coord_coarse)\n",
        "\n",
        "    return conc, coord_coarse"
      ]
    },
    {
      "cell_type": "code",
      "source": [
        "conc, coord_coarse = sampling(4, selected_layers, pos_well)"
      ],
      "metadata": {
        "colab": {
          "base_uri": "https://localhost:8080/"
        },
        "id": "mCcnsDLk6NFK",
        "outputId": "46454dbf-9a1f-4325-81ce-66cf37643c0b"
      },
      "execution_count": null,
      "outputs": [
        {
          "output_type": "stream",
          "name": "stderr",
          "text": [
            "100%|██████████| 3300/3300 [19:51<00:00,  2.77it/s]\n"
          ]
        }
      ]
    },
    {
      "cell_type": "code",
      "source": [
        "import matplotlib.pyplot as plt\n",
        "\n",
        "# Assuming `conc` is your data array and `coord_coarse` is your coordinate array\n",
        "num_plots = conc.shape[0]\n",
        "num_columns = 5\n",
        "num_rows = -(-num_plots // num_columns)  # Ceiling division to determine number of rows\n",
        "\n",
        "fig, axs = plt.subplots(num_rows, num_columns, figsize=(4 * num_columns, 4 * num_rows))\n",
        "\n",
        "for i in range(num_plots):\n",
        "    row = i // num_columns\n",
        "    col = i % num_columns\n",
        "    axs[row, col].plot(np.arange(num_steps), conc[i])\n",
        "    axs[row, col].set_title(f'Initial conc in {coord_coarse[i]}')\n",
        "\n",
        "# Hide any unused subplots\n",
        "for i in range(num_plots, num_rows * num_columns):\n",
        "    row = i // num_columns\n",
        "    col = i % num_columns\n",
        "    fig.delaxes(axs[row, col])\n",
        "\n",
        "plt.tight_layout()\n",
        "plt.show()"
      ],
      "metadata": {
        "id": "YmCzJj4-CIb4"
      },
      "execution_count": null,
      "outputs": []
    },
    {
      "cell_type": "markdown",
      "source": [
        "# Surrogate NN"
      ],
      "metadata": {
        "id": "m1z5EFtKxyBr"
      }
    },
    {
      "cell_type": "code",
      "source": [
        "import random\n",
        "import tensorflow as tf\n",
        "import tensorflow.keras as tfk\n",
        "import scipy.optimize as optimize\n",
        "from sklearn.preprocessing import MinMaxScaler\n",
        "from sklearn.model_selection import train_test_split\n",
        "from tensorflow.keras.callbacks import EarlyStopping\n",
        "from sklearn.metrics import mean_squared_error as mse\n",
        "from tensorflow.keras import layers, models, regularizers, constraints"
      ],
      "metadata": {
        "id": "t7lMZGuW14MM"
      },
      "execution_count": 3,
      "outputs": []
    },
    {
      "cell_type": "code",
      "source": [
        "def build_surrogate(input_shape):\n",
        "\n",
        "    inputs = tf.keras.layers.Input(shape=input_shape, name='Input')\n",
        "\n",
        "    x = tf.keras.layers.Dense(32,activation = 'relu')(inputs)\n",
        "    x = tf.keras.layers.Dense(64,activation = 'relu', kernel_regularizer=regularizers.l1_l2(l1=0.001, l2=0.001))(x)\n",
        "    x = tf.keras.layers.Dense(128,activation = 'relu')(x)\n",
        "    x = tf.keras.layers.Dense(256,activation = 'relu', kernel_regularizer=regularizers.l1_l2(l1=0.001, l2=0.001))(x)\n",
        "    x = tf.keras.layers.Dense(512,activation = 'relu')(x)\n",
        "    x = tf.keras.layers.Dense(1024,activation = 'relu', kernel_regularizer=regularizers.l1_l2(l1=0.001, l2=0.001))(x)\n",
        "    x = tf.keras.layers.Dense(2048,activation = 'relu')(x)\n",
        "    x = tf.keras.layers.Dense(1024,activation = 'relu')(x)\n",
        "    x = tf.keras.layers.Dense(512,activation = 'relu')(x)\n",
        "    x = tf.keras.layers.Dense(256,activation = 'relu')(x)\n",
        "\n",
        "    output = tf.keras.layers.Dense(200,activation = 'linear', kernel_constraint = constraints.NonNeg())(x)\n",
        "\n",
        "    model = tf.keras.Model(inputs, output)\n",
        "\n",
        "    return model"
      ],
      "metadata": {
        "id": "RZ1VcqOJDDsC"
      },
      "execution_count": 4,
      "outputs": []
    },
    {
      "cell_type": "code",
      "source": [
        "outflow = np.zeros((200,))\n",
        "\n",
        "\n",
        "coord_2 = np.load('data/data_coord_2.npy')\n",
        "Y_2 = np.load('data/data_conc_2.npy')\n",
        "\n",
        "coord_12 = np.load('data/data_coord_12.npy')\n",
        "Y_12 = np.load('data/data_conc_12.npy')\n",
        "\n",
        "coord_20 = np.load('data/data_coord_20.npy')\n",
        "Y_20 = np.load('data/data_conc_20.npy')\n",
        "\n",
        "coord_42 = np.load('data/data_coord_42.npy')\n",
        "Y_42 = np.load('data/data_conc_42.npy')\n",
        "\n",
        "coord_51 = np.load('data/data_coord_51.npy')\n",
        "Y_51 = np.load('data/data_conc_51.npy')\n",
        "\n",
        "coord_71 = np.load('data/data_coord_71.npy')\n",
        "Y_71 = np.load('data/data_conc_71.npy')\n",
        "\n",
        "coord_82 = np.load('data/data_coord_82.npy')\n",
        "Y_82 = np.load('data/data_conc_82.npy')\n",
        "\n",
        "coord = np.vstack((coord_2, coord_12, coord_20, coord_42, coord_51, coord_71, coord_82))\n",
        "\n",
        "selected_layers = 2\n",
        "spe10 = Spe10(selected_layers)\n",
        "perm_folder = spe10_folder + \"/perm/\"\n",
        "spe10.read_perm(perm_folder)\n",
        "perm_dict = spe10.perm_as_dict()\n",
        "perm_values_2 = perm_dict['kxx']\n",
        "\n",
        "selected_layers = 12\n",
        "spe10 = Spe10(selected_layers)\n",
        "perm_folder = spe10_folder + \"/perm/\"\n",
        "spe10.read_perm(perm_folder)\n",
        "perm_dict = spe10.perm_as_dict()\n",
        "perm_values_12 = perm_dict['kxx']\n",
        "\n",
        "selected_layers = 20\n",
        "spe10 = Spe10(selected_layers)\n",
        "perm_folder = spe10_folder + \"/perm/\"\n",
        "spe10.read_perm(perm_folder)\n",
        "perm_dict = spe10.perm_as_dict()\n",
        "perm_values_20 = perm_dict['kxx']\n",
        "\n",
        "selected_layers = 42\n",
        "spe10 = Spe10(selected_layers)\n",
        "perm_folder = spe10_folder + \"/perm/\"\n",
        "spe10.read_perm(perm_folder)\n",
        "perm_dict = spe10.perm_as_dict()\n",
        "perm_values_42 = perm_dict['kxx']\n",
        "\n",
        "selected_layers = 51\n",
        "spe10 = Spe10(selected_layers)\n",
        "perm_folder = spe10_folder + \"/perm/\"\n",
        "spe10.read_perm(perm_folder)\n",
        "perm_dict = spe10.perm_as_dict()\n",
        "perm_values_51 = perm_dict['kxx']\n",
        "\n",
        "selected_layers = 71\n",
        "spe10 = Spe10(selected_layers)\n",
        "perm_folder = spe10_folder + \"/perm/\"\n",
        "spe10.read_perm(perm_folder)\n",
        "perm_dict = spe10.perm_as_dict()\n",
        "perm_values_71 = perm_dict['kxx']\n",
        "\n",
        "selected_layers = 82\n",
        "spe10 = Spe10(selected_layers)\n",
        "perm_folder = spe10_folder + \"/perm/\"\n",
        "spe10.read_perm(perm_folder)\n",
        "perm_dict = spe10.perm_as_dict()\n",
        "perm_values_82 = perm_dict['kxx']\n",
        "\n",
        "pos_well_2 = [216.40800000000002, 370.332]\n",
        "dist_2 = np.sqrt((coord_2[:,0]-pos_well_2[0])**2+(coord_2[:,1]-pos_well_2[1])**2)\n",
        "\n",
        "pos_well_12 = [204.216, 550.1639999999999]\n",
        "dist_12 = np.sqrt((coord_12[:,0]-pos_well_12[0])**2+(coord_12[:,1]-pos_well_12[1])**2)\n",
        "\n",
        "pos_well_20 = [198.12, 217.93199999999993]\n",
        "dist_20 = np.sqrt((coord_20[:,0]-pos_well_20[0])**2+(coord_20[:,1]-pos_well_20[1])**2)\n",
        "\n",
        "pos_well_42 = [76.2, 446.53199999999987]\n",
        "dist_42 = np.sqrt((coord_42[:,0]-pos_well_42[0])**2+(coord_42[:,1]-pos_well_42[1])**2)\n",
        "\n",
        "pos_well_51 = [313.9440000000001, 598.9319999999999]\n",
        "dist_51 = np.sqrt((coord_51[:,0]-pos_well_51[0])**2+(coord_51[:,1]-pos_well_51[1])**2)\n",
        "\n",
        "pos_well_71 = [192.024, 574.5479999999999]\n",
        "dist_71 = np.sqrt((coord_71[:,0]-pos_well_71[0])**2+(coord_71[:,1]-pos_well_71[1])**2)\n",
        "\n",
        "pos_well_82 = [271.272, 41.147999999999996]\n",
        "dist_82 = np.sqrt((coord_82[:,0]-pos_well_82[0])**2+(coord_82[:,1]-pos_well_82[1])**2)\n",
        "\n",
        "dist = np.hstack((dist_2,dist_12,dist_20,dist_42,dist_51,dist_71,dist_82))\n",
        "\n",
        "perm_values = np.hstack((perm_values_2,perm_values_12,perm_values_20,perm_values_42,perm_values_51,perm_values_71,perm_values_82))\n",
        "\n",
        "tags = np.array([2, 12, 20, 42, 51, 71, 82])\n",
        "tag = np.repeat(tags, 13200)\n",
        "\n",
        "X = np.column_stack((coord, perm_values, dist, tag))\n",
        "Y = np.vstack((Y_2,Y_12,Y_20,Y_42,Y_51,Y_71,Y_82))\n",
        "\n",
        "X_train, X_test, y_train, y_test = train_test_split(X, Y, test_size = 0.1, random_state = 4768442)"
      ],
      "metadata": {
        "id": "tueJD5dtL_XS"
      },
      "execution_count": 5,
      "outputs": []
    },
    {
      "cell_type": "code",
      "source": [
        "# outflow = np.zeros((200,))\n",
        "\n",
        "\n",
        "# coord = np.load('data/data_coord_2.npy')\n",
        "# Y = np.load('data/data_conc_2.npy')\n",
        "\n",
        "# selected_layers = 12\n",
        "# spe10 = Spe10(selected_layers)\n",
        "# sd = spe10.sd\n",
        "# perm_folder = spe10_folder + \"/perm/\"\n",
        "# spe10.read_perm(perm_folder)\n",
        "# perm_dict = spe10.perm_as_dict()\n",
        "# perm_values=perm_dict['kxx']\n",
        "# pos_well = [216.40800000000002, 370.332]\n",
        "# dist=np.sqrt((coord[:,0]-pos_well[0])**2+(coord[:,1]-pos_well[1])**2)\n",
        "\n",
        "# X = np.column_stack((coord, perm_values, dist))\n",
        "\n",
        "# #Y_min = np.min(Y)\n",
        "# #Y_max = np.max(Y)\n",
        "# #Y_std = (Y-Y_min)/(Y_max-Y_min)\n",
        "\n",
        "# X_train, X_test, y_train, y_test = train_test_split(X, Y, test_size=0.1, random_state=4768442)"
      ],
      "metadata": {
        "id": "Jz3uZaI01rfW"
      },
      "execution_count": null,
      "outputs": []
    },
    {
      "cell_type": "code",
      "source": [
        "surrogate = build_surrogate((5,))\n",
        "surrogate.summary()\n",
        "\n",
        "optimizer = tfk.optimizers.AdamW(learning_rate = 1e-3)\n",
        "\n",
        "surrogate.compile(optimizer=optimizer, loss='mse', metrics = ['mae'])\n",
        "\n",
        "callbacks = [tf.keras.callbacks.ReduceLROnPlateau(monitor='val_loss',factor = 0.5, patience = 20),tf.keras.callbacks.EarlyStopping(monitor='val_loss', patience = 40, restore_best_weights=True)]\n",
        "\n",
        "surrogate.fit(X_train, y_train, validation_data = (X_test, y_test), batch_size = 128, epochs = 1000 , callbacks = callbacks)"
      ],
      "metadata": {
        "id": "rV4rMbAc1xgn"
      },
      "execution_count": null,
      "outputs": []
    },
    {
      "cell_type": "code",
      "source": [
        "surrogate.save('model_tot1')\n",
        "!zip -r model_tot1.zip model_tot1/"
      ],
      "metadata": {
        "id": "C5iYIE9rlhFm"
      },
      "execution_count": null,
      "outputs": []
    },
    {
      "cell_type": "code",
      "source": [
        "y_pred = surrogate.predict(X_test[4].reshape(1,5,))\n",
        "mse = np.sqrt(np.mean((y_pred-y_test[4])**2))\n",
        "mse"
      ],
      "metadata": {
        "colab": {
          "base_uri": "https://localhost:8080/"
        },
        "id": "Jj9zoHE13C1c",
        "outputId": "6262c624-d993-4be2-e3bc-1d68964bf54c"
      },
      "execution_count": 16,
      "outputs": [
        {
          "output_type": "stream",
          "name": "stdout",
          "text": [
            "1/1 [==============================] - 0s 22ms/step\n"
          ]
        }
      ]
    },
    {
      "cell_type": "code",
      "source": [
        "idx = np.random.choice(range(y_test.shape[0]),50)\n",
        "for i,j in enumerate(idx):\n",
        "\n",
        "    y_pred = surrogate.predict(X_test[j].reshape(1,5,))\n",
        "\n",
        "    plt.figure(i)\n",
        "    plt.plot(range(200), y_pred.reshape(200,), 'r', range(200), y_test[j], 'b')\n",
        "    plt.show()"
      ],
      "metadata": {
        "id": "urVdsLPo3F7B"
      },
      "execution_count": null,
      "outputs": []
    },
    {
      "cell_type": "code",
      "execution_count": 5,
      "metadata": {
        "id": "nwH5uBnx5SOq"
      },
      "outputs": [],
      "source": [
        "def Checkpoint3_solution(selected_layers,initial_conc_pos, L=50):\n",
        "\n",
        "    outflow = np.zeros((200,))\n",
        "\n",
        "    spe10 = Spe10(selected_layers)\n",
        "    perm_folder = spe10_folder + \"/perm/\"\n",
        "    spe10.read_perm(perm_folder)\n",
        "    perm_dict = spe10.perm_as_dict()\n",
        "    perm_values = perm_dict['kxx']\n",
        "\n",
        "    if selected_layers == 2:\n",
        "        pos_well = [216.40800000000002, 370.332]\n",
        "    elif selected_layers == 12:\n",
        "        pos_well = [204.216, 550.1639999999999]\n",
        "    elif selected_layers == 20:\n",
        "        pos_well = [198.12, 217.93199999999993]\n",
        "    elif selected_layers == 42:\n",
        "        pos_well = [76.2, 446.53199999999987]\n",
        "    elif selected_layers == 51:\n",
        "        pos_well = [313.9440000000001, 598.9319999999999]\n",
        "    elif selected_layers == 71:\n",
        "        pos_well = [192.024, 574.5479999999999]\n",
        "    else:\n",
        "        pos_well = [271.272, 41.147999999999996]\n",
        "\n",
        "    dist = np.sqrt((initial_conc_pos[0] - pos_well[0]) ** 2 + (initial_conc_pos[1] - pos_well[1]) ** 2)\n",
        "\n",
        "    #X = np.column_stack((initial_conc_pos, perm_values, dist, selected_layers))\n",
        "    print(pos_well)\n",
        "\n",
        "    return outflow"
      ]
    },
    {
      "cell_type": "code",
      "execution_count": 6,
      "metadata": {
        "id": "PBeueAAf5SOq",
        "colab": {
          "base_uri": "https://localhost:8080/"
        },
        "outputId": "5c4ed495-863f-4110-c3c0-cadb4b51ed98"
      },
      "outputs": [
        {
          "output_type": "stream",
          "name": "stdout",
          "text": [
            "[313.9440000000001, 598.9319999999999]\n",
            "[192.024, 574.5479999999999]\n",
            "[76.2, 446.53199999999987]\n",
            "[198.12, 217.93199999999993]\n",
            "[204.216, 550.1639999999999]\n",
            "[216.40800000000002, 370.332]\n",
            "[271.272, 41.147999999999996]\n"
          ]
        }
      ],
      "source": [
        "selected_layers = [51, 71, 42, 20, 12, 2, 82]\n",
        "\n",
        "if __name__ == '__main__':\n",
        "\n",
        "     for i in range(7):\n",
        "\n",
        "         outflow = Checkpoint3_solution(selected_layers[i], [120, 250] )\n",
        "\n",
        "    #outflow = Checkpoint3_solution(selected_layers[0], [120, 250])"
      ]
    }
  ],
  "metadata": {
    "kernelspec": {
      "display_name": "Python 3",
      "name": "python3"
    },
    "language_info": {
      "codemirror_mode": {
        "name": "ipython",
        "version": 3
      },
      "file_extension": ".py",
      "mimetype": "text/x-python",
      "name": "python",
      "nbconvert_exporter": "python",
      "pygments_lexer": "ipython3",
      "version": "3.10.2"
    },
    "colab": {
      "provenance": [],
      "include_colab_link": true
    }
  },
  "nbformat": 4,
  "nbformat_minor": 0
}