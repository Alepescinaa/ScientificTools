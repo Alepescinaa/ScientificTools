{
  "cells": [
    {
      "cell_type": "markdown",
      "metadata": {
        "id": "view-in-github",
        "colab_type": "text"
      },
      "source": [
        "<a href=\"https://colab.research.google.com/github/Alepescinaa/ScientificTools/blob/main/Project2/PorusMedia_example.ipynb\" target=\"_parent\"><img src=\"https://colab.research.google.com/assets/colab-badge.svg\" alt=\"Open In Colab\"/></a>"
      ]
    },
    {
      "cell_type": "markdown",
      "id": "essential-american",
      "metadata": {
        "id": "essential-american"
      },
      "source": [
        "# Finite volume methods for the Darcy equation\n",
        "\n",
        "In this tutorial we present how to solve a Darcy equation with [PorePy](https://github.com/pmgbergen/porepy) by using two finite volume methods: two-point flux approximation (TPFA) and multi-point flux approximation (MPFA).\n",
        "\n",
        "## Exercise\n",
        "\n",
        "We consider the primal formulation of the Darcy problem: the only unknown is the pressure $p$.\n",
        "We want to solve the problem on different families of grids.\n",
        "\n",
        "Let $\\Omega = [0, 1]^2$ be the domain of interest with boundary $\\partial \\Omega$ and outward unit normal ${\\nu}$. Given\n",
        "$k=I$ the matrix permeability and $f = 1$ the source term, we want to solve the following problem: find $p$ such that\n",
        "$$\n",
        "\\nabla \\cdot (- \\nabla p) = f\n",
        "\\quad \\text{in } \\Omega\n",
        "$$\n",
        "with boundary conditions:\n",
        "$$ p = 0 \\text{ on } \\partial \\Omega$$\n",
        "\n",
        "\n",
        "We present *step-by-step* how to create the grid, declare the problem data, and finally solve the problem."
      ]
    },
    {
      "cell_type": "markdown",
      "id": "planned-danger",
      "metadata": {
        "id": "planned-danger"
      },
      "source": [
        "First we import some of the standard modules."
      ]
    },
    {
      "cell_type": "code",
      "source": [
        "!apt-get update\n",
        "!apt-get install libglu1-mesa"
      ],
      "metadata": {
        "id": "qULq03VgIXqI",
        "outputId": "96364677-b77f-4163-a6ae-3e6f6bc55961",
        "colab": {
          "base_uri": "https://localhost:8080/"
        }
      },
      "id": "qULq03VgIXqI",
      "execution_count": 1,
      "outputs": [
        {
          "output_type": "stream",
          "name": "stdout",
          "text": [
            "\r0% [Working]\r            \rHit:1 http://security.ubuntu.com/ubuntu jammy-security InRelease\n",
            "\r0% [Connecting to archive.ubuntu.com (185.125.190.36)] [Waiting for headers] [Connecting to ppa.laun\r                                                                                                    \rHit:2 https://cloud.r-project.org/bin/linux/ubuntu jammy-cran40/ InRelease\n",
            "\r0% [Connecting to archive.ubuntu.com (185.125.190.36)] [Connecting to ppa.launchpadcontent.net] [Con\r                                                                                                    \rHit:3 https://developer.download.nvidia.com/compute/cuda/repos/ubuntu2204/x86_64  InRelease\n",
            "\r                                                                                                    \r0% [Waiting for headers] [Connecting to ppa.launchpadcontent.net (185.125.190.80)]\r                                                                                  \rHit:4 http://archive.ubuntu.com/ubuntu jammy InRelease\n",
            "Hit:5 http://archive.ubuntu.com/ubuntu jammy-updates InRelease\n",
            "Hit:6 http://archive.ubuntu.com/ubuntu jammy-backports InRelease\n",
            "Hit:7 https://ppa.launchpadcontent.net/c2d4u.team/c2d4u4.0+/ubuntu jammy InRelease\n",
            "Hit:8 https://ppa.launchpadcontent.net/deadsnakes/ppa/ubuntu jammy InRelease\n",
            "Hit:9 https://ppa.launchpadcontent.net/graphics-drivers/ppa/ubuntu jammy InRelease\n",
            "Hit:10 https://ppa.launchpadcontent.net/ubuntugis/ppa/ubuntu jammy InRelease\n",
            "Reading package lists... Done\n",
            "Reading package lists... Done\n",
            "Building dependency tree... Done\n",
            "Reading state information... Done\n",
            "libglu1-mesa is already the newest version (9.0.2-1).\n",
            "0 upgraded, 0 newly installed, 0 to remove and 46 not upgraded.\n"
          ]
        }
      ]
    },
    {
      "cell_type": "code",
      "source": [
        "!git clone https://github.com/pmgbergen/porepy.git\n",
        "%cd porepy\n",
        "\n",
        "!git checkout main\n",
        "\n",
        "!pip install -r requirements.txt\n",
        "\n",
        "!pip install ."
      ],
      "metadata": {
        "id": "NcCqZVarE4H5",
        "outputId": "7a098943-f1d5-40f8-fbd5-9f5e28df7fac",
        "colab": {
          "base_uri": "https://localhost:8080/"
        }
      },
      "id": "NcCqZVarE4H5",
      "execution_count": 2,
      "outputs": [
        {
          "output_type": "stream",
          "name": "stdout",
          "text": [
            "fatal: destination path 'porepy' already exists and is not an empty directory.\n",
            "/content/porepy\n",
            "Already on 'main'\n",
            "Your branch is up to date with 'origin/main'.\n",
            "Requirement already satisfied: future in /usr/local/lib/python3.10/dist-packages (from -r requirements.txt (line 1)) (0.18.3)\n",
            "Requirement already satisfied: gmsh in /usr/local/lib/python3.10/dist-packages (from -r requirements.txt (line 2)) (4.12.2)\n",
            "Requirement already satisfied: matplotlib in /usr/local/lib/python3.10/dist-packages (from -r requirements.txt (line 3)) (3.7.1)\n",
            "Requirement already satisfied: meshio>=5.0 in /usr/local/lib/python3.10/dist-packages (from -r requirements.txt (line 4)) (5.3.5)\n",
            "Requirement already satisfied: networkx in /usr/local/lib/python3.10/dist-packages (from -r requirements.txt (line 5)) (3.2.1)\n",
            "Requirement already satisfied: numba>=0.57 in /usr/local/lib/python3.10/dist-packages (from -r requirements.txt (line 6)) (0.58.1)\n",
            "Requirement already satisfied: numpy in /usr/local/lib/python3.10/dist-packages (from -r requirements.txt (line 7)) (1.25.2)\n",
            "Requirement already satisfied: requests in /usr/local/lib/python3.10/dist-packages (from -r requirements.txt (line 8)) (2.31.0)\n",
            "Requirement already satisfied: scipy<=1.10 in /usr/local/lib/python3.10/dist-packages (from -r requirements.txt (line 9)) (1.10.0)\n",
            "Requirement already satisfied: seaborn in /usr/local/lib/python3.10/dist-packages (from -r requirements.txt (line 10)) (0.13.1)\n",
            "Requirement already satisfied: shapely in /usr/local/lib/python3.10/dist-packages (from -r requirements.txt (line 11)) (2.0.3)\n",
            "Requirement already satisfied: six in /usr/local/lib/python3.10/dist-packages (from -r requirements.txt (line 12)) (1.16.0)\n",
            "Requirement already satisfied: sympy in /usr/local/lib/python3.10/dist-packages (from -r requirements.txt (line 13)) (1.12)\n",
            "Requirement already satisfied: typing_extensions in /usr/local/lib/python3.10/dist-packages (from -r requirements.txt (line 14)) (4.10.0)\n",
            "Requirement already satisfied: black==23.* in /usr/local/lib/python3.10/dist-packages (from -r requirements.txt (line 15)) (23.12.1)\n",
            "Requirement already satisfied: deepdiff in /usr/local/lib/python3.10/dist-packages (from -r requirements.txt (line 16)) (7.0.0)\n",
            "Requirement already satisfied: flake8 in /usr/local/lib/python3.10/dist-packages (from -r requirements.txt (line 17)) (7.0.0)\n",
            "Requirement already satisfied: isort in /usr/local/lib/python3.10/dist-packages (from -r requirements.txt (line 18)) (5.13.2)\n",
            "Requirement already satisfied: mypy in /usr/local/lib/python3.10/dist-packages (from -r requirements.txt (line 19)) (1.9.0)\n",
            "Requirement already satisfied: pytest>=4.6 in /usr/local/lib/python3.10/dist-packages (from -r requirements.txt (line 20)) (7.4.4)\n",
            "Requirement already satisfied: pytest-cov in /usr/local/lib/python3.10/dist-packages (from -r requirements.txt (line 21)) (5.0.0)\n",
            "Requirement already satisfied: pytest-runner in /usr/local/lib/python3.10/dist-packages (from -r requirements.txt (line 22)) (6.0.1)\n",
            "Requirement already satisfied: click>=8.0.0 in /usr/local/lib/python3.10/dist-packages (from black==23.*->-r requirements.txt (line 15)) (8.1.7)\n",
            "Requirement already satisfied: mypy-extensions>=0.4.3 in /usr/local/lib/python3.10/dist-packages (from black==23.*->-r requirements.txt (line 15)) (1.0.0)\n",
            "Requirement already satisfied: packaging>=22.0 in /usr/local/lib/python3.10/dist-packages (from black==23.*->-r requirements.txt (line 15)) (24.0)\n",
            "Requirement already satisfied: pathspec>=0.9.0 in /usr/local/lib/python3.10/dist-packages (from black==23.*->-r requirements.txt (line 15)) (0.12.1)\n",
            "Requirement already satisfied: platformdirs>=2 in /usr/local/lib/python3.10/dist-packages (from black==23.*->-r requirements.txt (line 15)) (4.2.0)\n",
            "Requirement already satisfied: tomli>=1.1.0 in /usr/local/lib/python3.10/dist-packages (from black==23.*->-r requirements.txt (line 15)) (2.0.1)\n",
            "Requirement already satisfied: contourpy>=1.0.1 in /usr/local/lib/python3.10/dist-packages (from matplotlib->-r requirements.txt (line 3)) (1.2.0)\n",
            "Requirement already satisfied: cycler>=0.10 in /usr/local/lib/python3.10/dist-packages (from matplotlib->-r requirements.txt (line 3)) (0.12.1)\n",
            "Requirement already satisfied: fonttools>=4.22.0 in /usr/local/lib/python3.10/dist-packages (from matplotlib->-r requirements.txt (line 3)) (4.50.0)\n",
            "Requirement already satisfied: kiwisolver>=1.0.1 in /usr/local/lib/python3.10/dist-packages (from matplotlib->-r requirements.txt (line 3)) (1.4.5)\n",
            "Requirement already satisfied: pillow>=6.2.0 in /usr/local/lib/python3.10/dist-packages (from matplotlib->-r requirements.txt (line 3)) (9.4.0)\n",
            "Requirement already satisfied: pyparsing>=2.3.1 in /usr/local/lib/python3.10/dist-packages (from matplotlib->-r requirements.txt (line 3)) (3.1.2)\n",
            "Requirement already satisfied: python-dateutil>=2.7 in /usr/local/lib/python3.10/dist-packages (from matplotlib->-r requirements.txt (line 3)) (2.8.2)\n",
            "Requirement already satisfied: rich in /usr/local/lib/python3.10/dist-packages (from meshio>=5.0->-r requirements.txt (line 4)) (13.7.1)\n",
            "Requirement already satisfied: llvmlite<0.42,>=0.41.0dev0 in /usr/local/lib/python3.10/dist-packages (from numba>=0.57->-r requirements.txt (line 6)) (0.41.1)\n",
            "Requirement already satisfied: charset-normalizer<4,>=2 in /usr/local/lib/python3.10/dist-packages (from requests->-r requirements.txt (line 8)) (3.3.2)\n",
            "Requirement already satisfied: idna<4,>=2.5 in /usr/local/lib/python3.10/dist-packages (from requests->-r requirements.txt (line 8)) (3.6)\n",
            "Requirement already satisfied: urllib3<3,>=1.21.1 in /usr/local/lib/python3.10/dist-packages (from requests->-r requirements.txt (line 8)) (2.0.7)\n",
            "Requirement already satisfied: certifi>=2017.4.17 in /usr/local/lib/python3.10/dist-packages (from requests->-r requirements.txt (line 8)) (2024.2.2)\n",
            "Requirement already satisfied: pandas>=1.2 in /usr/local/lib/python3.10/dist-packages (from seaborn->-r requirements.txt (line 10)) (2.0.3)\n",
            "Requirement already satisfied: mpmath>=0.19 in /usr/local/lib/python3.10/dist-packages (from sympy->-r requirements.txt (line 13)) (1.3.0)\n",
            "Requirement already satisfied: ordered-set<4.2.0,>=4.1.0 in /usr/local/lib/python3.10/dist-packages (from deepdiff->-r requirements.txt (line 16)) (4.1.0)\n",
            "Requirement already satisfied: mccabe<0.8.0,>=0.7.0 in /usr/local/lib/python3.10/dist-packages (from flake8->-r requirements.txt (line 17)) (0.7.0)\n",
            "Requirement already satisfied: pycodestyle<2.12.0,>=2.11.0 in /usr/local/lib/python3.10/dist-packages (from flake8->-r requirements.txt (line 17)) (2.11.1)\n",
            "Requirement already satisfied: pyflakes<3.3.0,>=3.2.0 in /usr/local/lib/python3.10/dist-packages (from flake8->-r requirements.txt (line 17)) (3.2.0)\n",
            "Requirement already satisfied: iniconfig in /usr/local/lib/python3.10/dist-packages (from pytest>=4.6->-r requirements.txt (line 20)) (2.0.0)\n",
            "Requirement already satisfied: pluggy<2.0,>=0.12 in /usr/local/lib/python3.10/dist-packages (from pytest>=4.6->-r requirements.txt (line 20)) (1.4.0)\n",
            "Requirement already satisfied: exceptiongroup>=1.0.0rc8 in /usr/local/lib/python3.10/dist-packages (from pytest>=4.6->-r requirements.txt (line 20)) (1.2.0)\n",
            "Requirement already satisfied: coverage[toml]>=5.2.1 in /usr/local/lib/python3.10/dist-packages (from pytest-cov->-r requirements.txt (line 21)) (7.4.4)\n",
            "Requirement already satisfied: pytz>=2020.1 in /usr/local/lib/python3.10/dist-packages (from pandas>=1.2->seaborn->-r requirements.txt (line 10)) (2023.4)\n",
            "Requirement already satisfied: tzdata>=2022.1 in /usr/local/lib/python3.10/dist-packages (from pandas>=1.2->seaborn->-r requirements.txt (line 10)) (2024.1)\n",
            "Requirement already satisfied: markdown-it-py>=2.2.0 in /usr/local/lib/python3.10/dist-packages (from rich->meshio>=5.0->-r requirements.txt (line 4)) (3.0.0)\n",
            "Requirement already satisfied: pygments<3.0.0,>=2.13.0 in /usr/local/lib/python3.10/dist-packages (from rich->meshio>=5.0->-r requirements.txt (line 4)) (2.16.1)\n",
            "Requirement already satisfied: mdurl~=0.1 in /usr/local/lib/python3.10/dist-packages (from markdown-it-py>=2.2.0->rich->meshio>=5.0->-r requirements.txt (line 4)) (0.1.2)\n",
            "Processing /content/porepy\n",
            "  Preparing metadata (setup.py) ... \u001b[?25l\u001b[?25hdone\n",
            "Requirement already satisfied: future in /usr/local/lib/python3.10/dist-packages (from porepy==1.8.0) (0.18.3)\n",
            "Requirement already satisfied: gmsh in /usr/local/lib/python3.10/dist-packages (from porepy==1.8.0) (4.12.2)\n",
            "Requirement already satisfied: matplotlib in /usr/local/lib/python3.10/dist-packages (from porepy==1.8.0) (3.7.1)\n",
            "Requirement already satisfied: meshio>=5.0 in /usr/local/lib/python3.10/dist-packages (from porepy==1.8.0) (5.3.5)\n",
            "Requirement already satisfied: networkx in /usr/local/lib/python3.10/dist-packages (from porepy==1.8.0) (3.2.1)\n",
            "Requirement already satisfied: numba>=0.57 in /usr/local/lib/python3.10/dist-packages (from porepy==1.8.0) (0.58.1)\n",
            "Requirement already satisfied: numpy in /usr/local/lib/python3.10/dist-packages (from porepy==1.8.0) (1.25.2)\n",
            "Requirement already satisfied: requests in /usr/local/lib/python3.10/dist-packages (from porepy==1.8.0) (2.31.0)\n",
            "Requirement already satisfied: scipy<=1.10 in /usr/local/lib/python3.10/dist-packages (from porepy==1.8.0) (1.10.0)\n",
            "Requirement already satisfied: seaborn in /usr/local/lib/python3.10/dist-packages (from porepy==1.8.0) (0.13.1)\n",
            "Requirement already satisfied: shapely in /usr/local/lib/python3.10/dist-packages (from porepy==1.8.0) (2.0.3)\n",
            "Requirement already satisfied: six in /usr/local/lib/python3.10/dist-packages (from porepy==1.8.0) (1.16.0)\n",
            "Requirement already satisfied: sympy in /usr/local/lib/python3.10/dist-packages (from porepy==1.8.0) (1.12)\n",
            "Requirement already satisfied: typing_extensions in /usr/local/lib/python3.10/dist-packages (from porepy==1.8.0) (4.10.0)\n",
            "Requirement already satisfied: black==23.* in /usr/local/lib/python3.10/dist-packages (from porepy==1.8.0) (23.12.1)\n",
            "Requirement already satisfied: deepdiff in /usr/local/lib/python3.10/dist-packages (from porepy==1.8.0) (7.0.0)\n",
            "Requirement already satisfied: flake8 in /usr/local/lib/python3.10/dist-packages (from porepy==1.8.0) (7.0.0)\n",
            "Requirement already satisfied: isort in /usr/local/lib/python3.10/dist-packages (from porepy==1.8.0) (5.13.2)\n",
            "Requirement already satisfied: mypy in /usr/local/lib/python3.10/dist-packages (from porepy==1.8.0) (1.9.0)\n",
            "Requirement already satisfied: pytest>=4.6 in /usr/local/lib/python3.10/dist-packages (from porepy==1.8.0) (7.4.4)\n",
            "Requirement already satisfied: pytest-cov in /usr/local/lib/python3.10/dist-packages (from porepy==1.8.0) (5.0.0)\n",
            "Requirement already satisfied: pytest-runner in /usr/local/lib/python3.10/dist-packages (from porepy==1.8.0) (6.0.1)\n",
            "Requirement already satisfied: click>=8.0.0 in /usr/local/lib/python3.10/dist-packages (from black==23.*->porepy==1.8.0) (8.1.7)\n",
            "Requirement already satisfied: mypy-extensions>=0.4.3 in /usr/local/lib/python3.10/dist-packages (from black==23.*->porepy==1.8.0) (1.0.0)\n",
            "Requirement already satisfied: packaging>=22.0 in /usr/local/lib/python3.10/dist-packages (from black==23.*->porepy==1.8.0) (24.0)\n",
            "Requirement already satisfied: pathspec>=0.9.0 in /usr/local/lib/python3.10/dist-packages (from black==23.*->porepy==1.8.0) (0.12.1)\n",
            "Requirement already satisfied: platformdirs>=2 in /usr/local/lib/python3.10/dist-packages (from black==23.*->porepy==1.8.0) (4.2.0)\n",
            "Requirement already satisfied: tomli>=1.1.0 in /usr/local/lib/python3.10/dist-packages (from black==23.*->porepy==1.8.0) (2.0.1)\n",
            "Requirement already satisfied: rich in /usr/local/lib/python3.10/dist-packages (from meshio>=5.0->porepy==1.8.0) (13.7.1)\n",
            "Requirement already satisfied: llvmlite<0.42,>=0.41.0dev0 in /usr/local/lib/python3.10/dist-packages (from numba>=0.57->porepy==1.8.0) (0.41.1)\n",
            "Requirement already satisfied: iniconfig in /usr/local/lib/python3.10/dist-packages (from pytest>=4.6->porepy==1.8.0) (2.0.0)\n",
            "Requirement already satisfied: pluggy<2.0,>=0.12 in /usr/local/lib/python3.10/dist-packages (from pytest>=4.6->porepy==1.8.0) (1.4.0)\n",
            "Requirement already satisfied: exceptiongroup>=1.0.0rc8 in /usr/local/lib/python3.10/dist-packages (from pytest>=4.6->porepy==1.8.0) (1.2.0)\n",
            "Requirement already satisfied: ordered-set<4.2.0,>=4.1.0 in /usr/local/lib/python3.10/dist-packages (from deepdiff->porepy==1.8.0) (4.1.0)\n",
            "Requirement already satisfied: mccabe<0.8.0,>=0.7.0 in /usr/local/lib/python3.10/dist-packages (from flake8->porepy==1.8.0) (0.7.0)\n",
            "Requirement already satisfied: pycodestyle<2.12.0,>=2.11.0 in /usr/local/lib/python3.10/dist-packages (from flake8->porepy==1.8.0) (2.11.1)\n",
            "Requirement already satisfied: pyflakes<3.3.0,>=3.2.0 in /usr/local/lib/python3.10/dist-packages (from flake8->porepy==1.8.0) (3.2.0)\n",
            "Requirement already satisfied: contourpy>=1.0.1 in /usr/local/lib/python3.10/dist-packages (from matplotlib->porepy==1.8.0) (1.2.0)\n",
            "Requirement already satisfied: cycler>=0.10 in /usr/local/lib/python3.10/dist-packages (from matplotlib->porepy==1.8.0) (0.12.1)\n",
            "Requirement already satisfied: fonttools>=4.22.0 in /usr/local/lib/python3.10/dist-packages (from matplotlib->porepy==1.8.0) (4.50.0)\n",
            "Requirement already satisfied: kiwisolver>=1.0.1 in /usr/local/lib/python3.10/dist-packages (from matplotlib->porepy==1.8.0) (1.4.5)\n",
            "Requirement already satisfied: pillow>=6.2.0 in /usr/local/lib/python3.10/dist-packages (from matplotlib->porepy==1.8.0) (9.4.0)\n",
            "Requirement already satisfied: pyparsing>=2.3.1 in /usr/local/lib/python3.10/dist-packages (from matplotlib->porepy==1.8.0) (3.1.2)\n",
            "Requirement already satisfied: python-dateutil>=2.7 in /usr/local/lib/python3.10/dist-packages (from matplotlib->porepy==1.8.0) (2.8.2)\n",
            "Requirement already satisfied: coverage[toml]>=5.2.1 in /usr/local/lib/python3.10/dist-packages (from pytest-cov->porepy==1.8.0) (7.4.4)\n",
            "Requirement already satisfied: charset-normalizer<4,>=2 in /usr/local/lib/python3.10/dist-packages (from requests->porepy==1.8.0) (3.3.2)\n",
            "Requirement already satisfied: idna<4,>=2.5 in /usr/local/lib/python3.10/dist-packages (from requests->porepy==1.8.0) (3.6)\n",
            "Requirement already satisfied: urllib3<3,>=1.21.1 in /usr/local/lib/python3.10/dist-packages (from requests->porepy==1.8.0) (2.0.7)\n",
            "Requirement already satisfied: certifi>=2017.4.17 in /usr/local/lib/python3.10/dist-packages (from requests->porepy==1.8.0) (2024.2.2)\n",
            "Requirement already satisfied: pandas>=1.2 in /usr/local/lib/python3.10/dist-packages (from seaborn->porepy==1.8.0) (2.0.3)\n",
            "Requirement already satisfied: mpmath>=0.19 in /usr/local/lib/python3.10/dist-packages (from sympy->porepy==1.8.0) (1.3.0)\n",
            "Requirement already satisfied: pytz>=2020.1 in /usr/local/lib/python3.10/dist-packages (from pandas>=1.2->seaborn->porepy==1.8.0) (2023.4)\n",
            "Requirement already satisfied: tzdata>=2022.1 in /usr/local/lib/python3.10/dist-packages (from pandas>=1.2->seaborn->porepy==1.8.0) (2024.1)\n",
            "Requirement already satisfied: markdown-it-py>=2.2.0 in /usr/local/lib/python3.10/dist-packages (from rich->meshio>=5.0->porepy==1.8.0) (3.0.0)\n",
            "Requirement already satisfied: pygments<3.0.0,>=2.13.0 in /usr/local/lib/python3.10/dist-packages (from rich->meshio>=5.0->porepy==1.8.0) (2.16.1)\n",
            "Requirement already satisfied: mdurl~=0.1 in /usr/local/lib/python3.10/dist-packages (from markdown-it-py>=2.2.0->rich->meshio>=5.0->porepy==1.8.0) (0.1.2)\n",
            "Building wheels for collected packages: porepy\n",
            "  Building wheel for porepy (setup.py) ... \u001b[?25l\u001b[?25hdone\n",
            "  Created wheel for porepy: filename=porepy-1.8.0-py3-none-any.whl size=753047 sha256=da658bce5e8fdebd729d07f40ef51e258c94ab63aeb666dd07fc2c115044bd4c\n",
            "  Stored in directory: /tmp/pip-ephem-wheel-cache-tkkffd5x/wheels/d9/d9/fa/8afb8ba92bf19b47ad153c458476bbb077bee04f943776be28\n",
            "Successfully built porepy\n",
            "Installing collected packages: porepy\n",
            "  Attempting uninstall: porepy\n",
            "    Found existing installation: porepy 1.8.0\n",
            "    Uninstalling porepy-1.8.0:\n",
            "      Successfully uninstalled porepy-1.8.0\n",
            "Successfully installed porepy-1.8.0\n"
          ]
        }
      ]
    },
    {
      "cell_type": "code",
      "execution_count": 3,
      "id": "dietary-perth",
      "metadata": {
        "colab": {
          "base_uri": "https://localhost:8080/"
        },
        "id": "dietary-perth",
        "outputId": "8074a5f1-2cd1-49d6-995e-843906eb6486"
      },
      "outputs": [
        {
          "output_type": "stream",
          "name": "stderr",
          "text": [
            "/usr/local/lib/python3.10/dist-packages/porepy/numerics/nonlinear/nonlinear_solvers.py:13: TqdmExperimentalWarning: Using `tqdm.autonotebook.tqdm` in notebook mode. Use `tqdm.tqdm` instead to force console mode (e.g. in jupyter console)\n",
            "  from tqdm.autonotebook import trange  # type: ignore\n"
          ]
        }
      ],
      "source": [
        "import numpy as np\n",
        "import scipy.sparse as sps\n",
        "\n",
        "import porepy as pp"
      ]
    },
    {
      "cell_type": "code",
      "source": [
        "import porepy\n",
        "print(porepy.__version__)"
      ],
      "metadata": {
        "colab": {
          "base_uri": "https://localhost:8080/"
        },
        "id": "x5v2j4agBzra",
        "outputId": "f0374b31-6bd6-48a7-9e46-753436208d77"
      },
      "id": "x5v2j4agBzra",
      "execution_count": 4,
      "outputs": [
        {
          "output_type": "stream",
          "name": "stdout",
          "text": [
            "1.8.0\n"
          ]
        }
      ]
    },
    {
      "cell_type": "markdown",
      "id": "roman-glossary",
      "metadata": {
        "id": "roman-glossary"
      },
      "source": [
        "We create now the grid, which could be: Cartesian or simplicial."
      ]
    },
    {
      "cell_type": "code",
      "execution_count": 12,
      "id": "spectacular-saturn",
      "metadata": {
        "colab": {
          "base_uri": "https://localhost:8080/",
          "height": 472
        },
        "id": "spectacular-saturn",
        "outputId": "c15c67fa-1cec-458a-c525-70b9e2c05c1a"
      },
      "outputs": [
        {
          "output_type": "display_data",
          "data": {
            "text/plain": [
              "<Figure size 640x480 with 1 Axes>"
            ],
            "image/png": "[encoded data removed]"
          },
          "metadata": {}
        }
      ],
      "source": [
        "dim = 2\n",
        "N = 30\n",
        "\n",
        "# creation of a Cartesian grid\n",
        "# sd = pp.CartGrid([N]*dim, [1]*dim)\n",
        "\n",
        "# creation of a simplex grid\n",
        "sd = pp.StructuredTriangleGrid([N] * dim, [1] * dim)\n",
        "\n",
        "# compute the geometrical properties of the grid\n",
        "sd.compute_geometry()\n",
        "\n",
        "# represent the grid\n",
        "pp.plot_grid(sd, plot_2d=True)"
      ]
    },
    {
      "cell_type": "markdown",
      "id": "precious-belle",
      "metadata": {
        "id": "precious-belle"
      },
      "source": [
        "With the following code we set the data, in particular the permeability tensor and the scalar source."
      ]
    },
    {
      "cell_type": "code",
      "execution_count": 13,
      "id": "spare-person",
      "metadata": {
        "id": "spare-person"
      },
      "outputs": [],
      "source": [
        "key = \"flow\"\n",
        "\n",
        "# Permeability\n",
        "perm = pp.SecondOrderTensor(kxx=np.ones(sd.num_cells))\n",
        "\n",
        "# Unitary scalar source already integrated in each cell\n",
        "f = sd.cell_volumes\n",
        "\n",
        "# Boundary conditions\n",
        "b_faces = sd.tags[\"domain_boundary_faces\"].nonzero()[0]\n",
        "bc = pp.BoundaryCondition(sd, b_faces, [\"dir\"] * b_faces.size)\n",
        "bc_val = np.zeros(sd.num_faces)\n",
        "\n",
        "# Collect all parameters in a dictionary\n",
        "parameters = {\"second_order_tensor\": perm, \"bc\": bc, \"bc_values\": bc_val}\n",
        "\n",
        "data = pp.initialize_default_data(sd, {}, key, parameters)"
      ]
    },
    {
      "cell_type": "markdown",
      "id": "secure-flesh",
      "metadata": {
        "id": "secure-flesh"
      },
      "source": [
        "Once the data are assigned to the grid, we need to construct the discrete problem. In particular, the linear system associated with the equation is given as\n",
        "$$\n",
        "A p = b\n",
        "$$<br>\n",
        "The right-hand side term $b$ includes the part associated with the scalar source term and with the boundary conditions, we construct first the former."
      ]
    },
    {
      "cell_type": "markdown",
      "id": "27f95284",
      "metadata": {
        "id": "27f95284"
      },
      "source": [
        "Second, we construct the matrix $A$ from the TPFA approximation and the part of the right-hand side associated to the boundary conditions. We can compute the pressure $p$ by solving the linear system."
      ]
    },
    {
      "cell_type": "code",
      "execution_count": 14,
      "id": "romance-findings",
      "metadata": {
        "id": "romance-findings"
      },
      "outputs": [],
      "source": [
        "# construct the lhr and rhs from the discretization of the diffusion operator\n",
        "tpfa = pp.Tpfa(key)\n",
        "tpfa.discretize(sd, data)\n",
        "A_tpfa, b_tpfa = tpfa.assemble_matrix_rhs(sd, data)\n",
        "\n",
        "\n",
        "# solve the problem\n",
        "cell_p_tpfa = sps.linalg.spsolve(A_tpfa, b_tpfa + f)"
      ]
    },
    {
      "cell_type": "markdown",
      "id": "07970afc",
      "metadata": {
        "id": "07970afc"
      },
      "source": [
        "Alternatively to TPFA we can use the MPFA scheme to construct the matrix $A$, and associated right-hand side, and then compute the pressure $p$."
      ]
    },
    {
      "cell_type": "code",
      "execution_count": 15,
      "id": "b2e5aa5a",
      "metadata": {
        "id": "b2e5aa5a"
      },
      "outputs": [],
      "source": [
        "# construct the lhr and rhs from the discretization of the diffusion operator\n",
        "mpfa = pp.Mpfa(key)\n",
        "mpfa.discretize(sd, data)\n",
        "A_mpfa, b_mpfa = mpfa.assemble_matrix_rhs(sd, data)\n",
        "\n",
        "# solve the problem\n",
        "cell_p_mpfa = sps.linalg.spsolve(A_mpfa, b_mpfa + f)"
      ]
    },
    {
      "cell_type": "markdown",
      "id": "pacific-alpha",
      "metadata": {
        "id": "pacific-alpha"
      },
      "source": [
        "We export the solutions to be visualized by [ParaView](https://www.paraview.org/)."
      ]
    },
    {
      "cell_type": "code",
      "execution_count": 16,
      "id": "satisfactory-jerusalem",
      "metadata": {
        "id": "satisfactory-jerusalem"
      },
      "outputs": [],
      "source": [
        "save = pp.Exporter(sd, \"sol\", folder_name=\"sol\")\n",
        "save.write_vtu([(\"cell_p_tpfa\", cell_p_tpfa), (\"cell_p_mpfa\", cell_p_mpfa)])"
      ]
    }
  ],
  "metadata": {
    "kernelspec": {
      "display_name": "Python 3 (ipykernel)",
      "language": "python",
      "name": "python3"
    },
    "language_info": {
      "codemirror_mode": {
        "name": "ipython",
        "version": 3
      },
      "file_extension": ".py",
      "mimetype": "text/x-python",
      "name": "python",
      "nbconvert_exporter": "python",
      "pygments_lexer": "ipython3",
      "version": "3.11.1"
    },
    "vscode": {
      "interpreter": {
        "hash": "e4cc1db98167c7fd7d55a1da8057731abc6cd6fe154328a2ae319df8aab4e24d"
      }
    },
    "colab": {
      "provenance": [],
      "include_colab_link": true
    }
  },
  "nbformat": 4,
  "nbformat_minor": 5
}