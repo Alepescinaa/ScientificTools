{
  "cells": [
    {
      "cell_type": "markdown",
      "metadata": {
        "id": "view-in-github",
        "colab_type": "text"
      },
      "source": [
        "<a href=\"https://colab.research.google.com/github/Alepescinaa/ScientificTools/blob/main/Project2/Cp2/Checkpoint2.ipynb\" target=\"_parent\"><img src=\"https://colab.research.google.com/assets/colab-badge.svg\" alt=\"Open In Colab\"/></a>"
      ]
    },
    {
      "cell_type": "markdown",
      "id": "essential-american",
      "metadata": {
        "id": "essential-american"
      },
      "source": [
        "# Optimal well disposition for the Darcy problem"
      ]
    },
    {
      "cell_type": "markdown",
      "source": [
        "## Import"
      ],
      "metadata": {
        "id": "sjcMBK8129-Y"
      },
      "id": "sjcMBK8129-Y"
    },
    {
      "cell_type": "code",
      "source": [
        "%%capture\n",
        "!git clone https://github.com/Alepescinaa/ScientificTools\n",
        "%cd ScientificTools/Project2/Cp2\n",
        "\n",
        "!apt-get update\n",
        "!apt-get install libglu1-mesa\n",
        "\n",
        "!git clone https://github.com/pmgbergen/porepy.git\n",
        "%cd porepy\n",
        "\n",
        "!git checkout main\n",
        "\n",
        "!pip install -r requirements.txt\n",
        "\n",
        "!pip install .\n",
        "\n",
        "%cd .."
      ],
      "metadata": {
        "id": "KN9kDR_WshqK"
      },
      "id": "KN9kDR_WshqK",
      "execution_count": 1,
      "outputs": []
    },
    {
      "cell_type": "code",
      "execution_count": 2,
      "id": "dietary-perth",
      "metadata": {
        "id": "dietary-perth",
        "colab": {
          "base_uri": "https://localhost:8080/"
        },
        "outputId": "ed830902-e962-4e87-c678-3e4a31b0094c"
      },
      "outputs": [
        {
          "output_type": "stream",
          "name": "stderr",
          "text": [
            "/usr/local/lib/python3.10/dist-packages/porepy/numerics/nonlinear/nonlinear_solvers.py:13: TqdmExperimentalWarning: Using `tqdm.autonotebook.tqdm` in notebook mode. Use `tqdm.tqdm` instead to force console mode (e.g. in jupyter console)\n",
            "  from tqdm.autonotebook import trange  # type: ignore\n"
          ]
        }
      ],
      "source": [
        "import sys\n",
        "import scipy\n",
        "import numpy as np\n",
        "import porepy as pp\n",
        "from tqdm import tqdm\n",
        "import multiprocessing\n",
        "import scipy.sparse as sps\n",
        "import matplotlib.pyplot as plt"
      ]
    },
    {
      "cell_type": "code",
      "execution_count": 3,
      "id": "bdef9bd1",
      "metadata": {
        "id": "bdef9bd1"
      },
      "outputs": [],
      "source": [
        "main_folder = \"./\"\n",
        "spe10_folder = main_folder + \"spe10\"\n",
        "sys.path.insert(1, spe10_folder)\n",
        "\n",
        "from functions import *\n",
        "from spe10 import Spe10"
      ]
    },
    {
      "cell_type": "markdown",
      "source": [
        "## Fine solver"
      ],
      "metadata": {
        "id": "Ss2DkRVf2eF1"
      },
      "id": "Ss2DkRVf2eF1"
    },
    {
      "cell_type": "code",
      "execution_count": 4,
      "id": "0d4ff136",
      "metadata": {
        "id": "0d4ff136"
      },
      "outputs": [],
      "source": [
        "def solve_fine(spe10, pos_well, injection_rate=1, well_pressure=0, export_folder=None):\n",
        "    \"\"\"\n",
        "    Compute the averaged gradient and flux for a given subdomain and direction of the pressure\n",
        "    gradient.\n",
        "\n",
        "    Args:\n",
        "        spe10 (object): The object representing the subdomain.\n",
        "        pos_well (np.ndarray): The position of the production well.\n",
        "        injection_rate (float, optional): The injection rate of the wells. Defaults to 1.\n",
        "        well_pressure (float, optional): The pressure at the production well. Defaults to 0.\n",
        "        export_folder (str, optional): If given, path where to export the results. Defaults to\n",
        "            None.\n",
        "\n",
        "    Returns:\n",
        "        float: The maximum pressure at the injection wells.\n",
        "    \"\"\"\n",
        "    # Extract the grid for simplicity\n",
        "    sd = spe10.sd\n",
        "    perm_dict = spe10.perm_as_dict()\n",
        "\n",
        "    # Permeability\n",
        "    perm_tensor = pp.SecondOrderTensor(kxx=perm_dict[\"kxx\"])\n",
        "    #print(perm_tensor)\n",
        "\n",
        "    # Boundary conditions\n",
        "    b_faces = sd.tags[\"domain_boundary_faces\"].nonzero()[0]\n",
        "\n",
        "    # Define the labels and values for the boundary faces\n",
        "    labels = np.array([\"neu\"] * b_faces.size)\n",
        "    bc_val = np.zeros(sd.num_faces)\n",
        "    bc = pp.BoundaryCondition(sd, b_faces, labels)\n",
        "\n",
        "    # Collect all parameters in a dictionary\n",
        "    key = \"flow\"\n",
        "    parameters = {\"second_order_tensor\": perm_tensor, \"bc\": bc, \"bc_values\": bc_val}\n",
        "    data = pp.initialize_default_data(sd, {}, key, parameters)\n",
        "\n",
        "    # Discretize the problem\n",
        "    discr = pp.Mpfa(key)\n",
        "    discr.discretize(sd, data)\n",
        "\n",
        "    A, b = discr.assemble_matrix_rhs(sd, data)\n",
        "\n",
        "    # Add the injection wells, all with the same injection rate\n",
        "    b_wells = np.zeros_like(b)\n",
        "    index_iwells = [\n",
        "        0,\n",
        "        spe10.full_shape[0] - 1,\n",
        "        spe10.full_shape[0] * spe10.full_shape[1] - spe10.full_shape[0],\n",
        "        spe10.full_shape[0] * spe10.full_shape[1] - 1,\n",
        "    ]\n",
        "    b_wells[index_iwells] = injection_rate\n",
        "\n",
        "    # Add the production well by using a Lagrange multiplier, first we identify the cell\n",
        "    ij_well = np.floor((np.asarray(pos_well) / spe10.spacing[:-1])).astype(int)\n",
        "    #print(ij_well)\n",
        "    index_pwell = spe10.full_shape[0] * ij_well[1] + ij_well[0]\n",
        "    vect = np.zeros((sd.num_cells, 1))\n",
        "    vect[index_pwell] = 1\n",
        "\n",
        "    # Solve the linear system and compute the pressure by adding the constraint\n",
        "    A = sps.bmat([[A, vect], [vect.T, None]], format=\"csc\")\n",
        "    b = np.append(b + b_wells, well_pressure)\n",
        "    p = sps.linalg.spsolve(A, b)[:-1]\n",
        "\n",
        "    # extract the discretization matrices build\n",
        "    mat_discr = data[pp.DISCRETIZATION_MATRICES][key]\n",
        "\n",
        "    # reconstruct the flux as post-process\n",
        "    q_tpfa = mat_discr[\"flux\"] @ p + mat_discr[\"bound_flux\"] @ bc_val\n",
        "\n",
        "    # to export the flux\n",
        "    mvem = pp.MVEM(key)\n",
        "    mvem.discretize(sd, data)\n",
        "    # construct the P0 flux reconstruction\n",
        "    cell_q_mpfa = mvem.project_flux(sd, q_tpfa, data)\n",
        "\n",
        "\n",
        "    # Export the solution\n",
        "    if export_folder is not None:\n",
        "        save = pp.Exporter(sd, \"sol\", folder_name=export_folder)\n",
        "        save.write_vtu([(\"p\", p), (\"log_kxx\", np.log10(perm_dict[\"kxx\"])),(\"q_mpfa\", cell_q_mpfa)])\n",
        "\n",
        "    # Return the maximum pressure at the injection wells\n",
        "    return np.max(p[index_iwells])"
      ]
    },
    {
      "cell_type": "markdown",
      "source": [
        "## Upscaling"
      ],
      "metadata": {
        "id": "wFrOZbQ52hJx"
      },
      "id": "wFrOZbQ52hJx"
    },
    {
      "cell_type": "code",
      "source": [
        "def upscale(sd, perm, dir, export_folder=None):\n",
        "    \"\"\"\n",
        "    Compute the averaged gradient and flux for a given subdomain and direction of the pressure\n",
        "    gradient.\n",
        "\n",
        "    Args:\n",
        "        sd (pp.Grid): The grid representing the subdomain.\n",
        "        perm (dict): The permeability of the subdomain divided in the fields \"kxx\" and \"kyy\"\n",
        "        dir (int): The direction of the flow, 0 means x-direction and 1 means y-direction.\n",
        "        export_folder (str): If given, path where to export the results.\n",
        "            Default to None, no exporting.\n",
        "\n",
        "    Returns:\n",
        "        (np.ndarray, np.ndarray): averaged gradient and flux.\n",
        "    \"\"\"\n",
        "    # Permeability\n",
        "    perm_tensor = pp.SecondOrderTensor(kxx=perm[\"kxx\"], kyy=perm[\"kyy\"])\n",
        "\n",
        "    # Boundary conditions\n",
        "    b_faces = sd.tags[\"domain_boundary_faces\"].nonzero()[0]\n",
        "    b_face_centers = sd.face_centers[:, b_faces]\n",
        "\n",
        "    # Find the min and max values of the boundary faces\n",
        "    sd_min = np.amin(sd.face_centers[dir, :])\n",
        "    sd_max = np.amax(sd.face_centers[dir, :])\n",
        "\n",
        "    # define outflow and inflow type boundary conditions\n",
        "    out_flow = np.isclose(b_face_centers[dir, :], sd_max)\n",
        "    in_flow = np.isclose(b_face_centers[dir, :], sd_min)\n",
        "\n",
        "    # define the labels and values for the boundary faces\n",
        "    labels = np.array([\"neu\"] * b_faces.size)\n",
        "    labels[np.logical_or(in_flow, out_flow)] = \"dir\"\n",
        "\n",
        "    bc_val = np.zeros(sd.num_faces)\n",
        "    bc_val[b_faces[in_flow]] = sd_max - sd_min\n",
        "\n",
        "    bc = pp.BoundaryCondition(sd, b_faces, labels)\n",
        "\n",
        "    # Collect all parameters in a dictionary\n",
        "    key = \"flow\"\n",
        "    parameters = {\"second_order_tensor\": perm_tensor, \"bc\": bc, \"bc_values\": bc_val}\n",
        "    data = pp.initialize_default_data(sd, {}, key, parameters)\n",
        "\n",
        "    # Discretize the problem (construct the lhr and rhs)\n",
        "    discr = pp.Tpfa(key)\n",
        "    discr.discretize(sd, data)\n",
        "\n",
        "    A, b = discr.assemble_matrix_rhs(sd, data)\n",
        "\n",
        "    # Solve the linear system and compute the pressure\n",
        "    p = sps.linalg.spsolve(A, b)\n",
        "\n",
        "    # Export the solution\n",
        "    if export_folder is not None:\n",
        "        save = pp.Exporter(sd, \"sol\", folder_name=export_folder)\n",
        "        save.write_vtu([(\"p\", p), (\"log_perm\", np.log10(perm[\"kxx\"]))])\n",
        "\n",
        "    # Post-process the solution to get the flux\n",
        "    return compute_avg_q_grad(sd, p, data, key, bc, bc_val)"
      ],
      "metadata": {
        "id": "Q4p-yhCCvmR7"
      },
      "id": "Q4p-yhCCvmR7",
      "execution_count": 5,
      "outputs": []
    },
    {
      "cell_type": "code",
      "source": [
        "def compute_tensor(grad_h, grad_v, q_h, q_v):\n",
        "    \"\"\"\n",
        "    Compute the upscaled permeability tensor.\n",
        "\n",
        "    Args:\n",
        "        grad_h (np.ndarray): Gradient in the horizontal direction.\n",
        "        grad_v (np.ndarray): Gradient in the vertical direction.\n",
        "        q_h (np.ndarray): Flux in the horizontal direction.\n",
        "        q_v (np.ndarray): Flux in the vertical direction.\n",
        "\n",
        "    Returns:\n",
        "        perm (np.ndarray): Upscaled permeability tensor.\n",
        "\n",
        "    The function solves a linear system to obtain the upscaled permeability tensor\n",
        "    based on the given gradients and fluxes. It enforces numerical symmetry and\n",
        "    checks if the resulting tensor is symmetric positive definite (SPD).\n",
        "    \"\"\"\n",
        "    # Solve the linear system to get the upscaled permeability\n",
        "    lhs = np.array([\n",
        "        [grad_h[0], grad_h[1], 0, 0],\n",
        "        [0, 0, grad_h[0], grad_h[1]],\n",
        "        [grad_v[0], grad_v[1], 0, 0],\n",
        "        [0, 0, grad_v[0], grad_v[1]],\n",
        "        [0, 1, -1, 0]\n",
        "    ])\n",
        "\n",
        "    rhs = np.array([q_h[0], q_h[1], q_v[0], q_v[1], 0])\n",
        "\n",
        "    perm = np.linalg.lstsq(lhs, rhs, rcond=None)[0]\n",
        "\n",
        "    # make it symmetric positive definite\n",
        "    perm = nearest_spd(perm.reshape(2, 2)).ravel()\n",
        "\n",
        "    return perm"
      ],
      "metadata": {
        "id": "DA4gjqYcvrWs"
      },
      "id": "DA4gjqYcvrWs",
      "execution_count": 6,
      "outputs": []
    },
    {
      "cell_type": "code",
      "source": [
        "def process_subdomain(sub_sd_id, sub_sd, perm_dict, folder_results, part, kxx_up, kxy_up, kyx_up, kyy_up):\n",
        "    mask = part == sub_sd_id\n",
        "    sub_perm = {key: val[mask] for key, val in perm_dict.items()}\n",
        "\n",
        "    folder_x = folder_results + str(sub_sd_id) + \"_x\"\n",
        "    q_h, grad_h = upscale(sub_sd, sub_perm, 0, folder_x)\n",
        "\n",
        "    folder_y = folder_results + str(sub_sd_id) + \"_y\"\n",
        "    q_v, grad_v = upscale(sub_sd, sub_perm, 1, folder_y)\n",
        "\n",
        "    kk = compute_tensor(grad_h, grad_v, q_h, q_v)\n",
        "\n",
        "    return [kk[0], kk[1], kk[2], kk[3]]\n",
        "\n",
        "def Checkpoint1_solution(selected_layers, folder_results):\n",
        "    spe10 = Spe10(selected_layers)\n",
        "    perm_folder = spe10_folder + \"/perm/\"\n",
        "    spe10.read_perm(perm_folder)\n",
        "    perm_dict = spe10.perm_as_dict()\n",
        "\n",
        "    num_part = 100\n",
        "    part, sub_sds, sd_coarse = coarse_grid(spe10.sd, num_part)\n",
        "\n",
        "    kxx_up = np.zeros(spe10.sd.num_cells)\n",
        "    kxy_up = np.zeros(spe10.sd.num_cells)\n",
        "    kyx_up = np.zeros(spe10.sd.num_cells)\n",
        "    kyy_up = np.zeros(spe10.sd.num_cells)\n",
        "    kxx = np.zeros(spe10.sd.num_cells)\n",
        "\n",
        "    pool = multiprocessing.Pool(processes=multiprocessing.cpu_count())\n",
        "    result = pool.starmap_async(process_subdomain, [(sub_sd_id, sub_sd, perm_dict, folder_results, part, kxx_up, kxy_up, kyx_up, kyy_up) for sub_sd_id, sub_sd in enumerate(sub_sds)]).get()\n",
        "\n",
        "    for sub_sd_id, kk in enumerate(result):\n",
        "        mask = part == sub_sd_id\n",
        "        sub_perm = {key: val[mask] for key, val in perm_dict.items()}\n",
        "        kxx[mask] = sub_perm[\"kxx\"]\n",
        "        kxx_up[mask], kxy_up[mask], kyx_up[mask], kyy_up[mask] = kk\n",
        "        #print(f\"Subdomain {sub_sd_id}: {kk}\")\n",
        "\n",
        "    var_to_save = [\n",
        "        (\"kxx\", np.log10(kxx_up)),\n",
        "        (\"kxy\", kxy_up),\n",
        "        (\"kyx\", kyx_up),\n",
        "        (\"kyy\", np.log10(kyy_up)),\n",
        "        (\"fine\", np.log10(kxx))\n",
        "    ]\n",
        "\n",
        "    save = pp.Exporter(spe10.sd, \"upscaled_k\", folder_name=folder_results)\n",
        "    save.write_vtu(var_to_save)\n",
        "\n",
        "    write_upscaled_perm(\"as_tensor\", sd_coarse, result, folder_results)\n",
        "\n",
        "    return sd_coarse, result"
      ],
      "metadata": {
        "id": "vnUm6muuJJR7"
      },
      "id": "vnUm6muuJJR7",
      "execution_count": 7,
      "outputs": []
    },
    {
      "cell_type": "markdown",
      "source": [
        "## Solve coarse"
      ],
      "metadata": {
        "id": "3NXkFzic2oxC"
      },
      "id": "3NXkFzic2oxC"
    },
    {
      "cell_type": "code",
      "execution_count": 8,
      "id": "41d2d511",
      "metadata": {
        "id": "41d2d511"
      },
      "outputs": [],
      "source": [
        "def solve_coarse(\n",
        "    sd,\n",
        "    pos_well,\n",
        "    kk,\n",
        "    injection_rate=1,\n",
        "    well_pressure=0,\n",
        "    export_folder=None,\n",
        "):\n",
        "    \"\"\"\n",
        "    Compute the averaged gradient and flux for a given subdomain and direction of the pressure\n",
        "    gradient.\n",
        "\n",
        "    Args:\n",
        "        spe10 (object): The object representing the subdomain.\n",
        "        pos_well (np.ndarray): The position of the production well.\n",
        "        injection_rate (float, optional): The injection rate of the wells. Defaults to 1.\n",
        "        well_pressure (float, optional): The pressure at the production well. Defaults to 0.\n",
        "        export_folder (str, optional): If given, path where to export the results. Defaults to\n",
        "            None.\n",
        "\n",
        "    Returns:\n",
        "        float: The maximum pressure at the injection wells.\n",
        "    \"\"\"\n",
        "\n",
        "    # Permeability\n",
        "    result = np.array(kk).T\n",
        "    perm_tensor = pp.SecondOrderTensor(kxx=result[0], kyy=result[3], kxy=result[1])\n",
        "    #print(perm_tensor)\n",
        "\n",
        "    # Boundary conditions\n",
        "    b_faces = sd.tags[\"domain_boundary_faces\"].nonzero()[0]\n",
        "\n",
        "    # Define the labels and values for the boundary faces\n",
        "    labels = np.array([\"neu\"] * b_faces.size)\n",
        "    bc_val = np.zeros(sd.num_faces)\n",
        "    bc = pp.BoundaryCondition(sd, b_faces, labels)\n",
        "\n",
        "    # Collect all parameters in a dictionary\n",
        "\n",
        "    key = \"flow\"\n",
        "    parameters = {\"second_order_tensor\": perm_tensor, \"bc\": bc, \"bc_values\": bc_val}\n",
        "    data = pp.initialize_default_data(sd, {}, key, parameters)\n",
        "\n",
        "    # Discretize the problem\n",
        "    discr = pp.Mpfa(key)\n",
        "    discr.discretize(sd, data)\n",
        "\n",
        "    A, b = discr.assemble_matrix_rhs(sd, data)\n",
        "\n",
        "    #properties of the grid\n",
        "    N_x = 10\n",
        "    N_y = 10\n",
        "    width = 365.76\n",
        "    height = 670.56\n",
        "    spacing = np.array([width / N_x, height / N_y])\n",
        "\n",
        "    # Add the injection wells, all with the same injection rate\n",
        "    b_wells = np.zeros_like(b)\n",
        "    index_iwells = [\n",
        "        0,\n",
        "        N_x - 1,\n",
        "        N_x * N_y - N_x,\n",
        "        N_x * N_y - 1,\n",
        "    ]\n",
        "    b_wells[index_iwells] = injection_rate\n",
        "\n",
        "    # Add the production well by using a Lagrange multiplier, first we identify the cell\n",
        "    ij_well = np.floor((np.asarray(pos_well) / spacing)).astype(int)\n",
        "    #print(ij_well)\n",
        "    index_pwell = N_x * ij_well[1] + ij_well[0]\n",
        "    vect = np.zeros((sd.num_cells, 1))\n",
        "    vect[index_pwell] = 1\n",
        "\n",
        "    # Solve the linear system and compute the pressure by adding the constraint\n",
        "    A = sps.bmat([[A, vect], [vect.T, None]], format=\"csc\")\n",
        "    b = np.append(b + b_wells, well_pressure)\n",
        "    p = sps.linalg.spsolve(A, b)[:-1]\n",
        "\n",
        "    # extract the discretization matrices build\n",
        "    mat_discr = data[pp.DISCRETIZATION_MATRICES][key]\n",
        "\n",
        "    # reconstruct the flux as post-process\n",
        "    q_tpfa = mat_discr[\"flux\"] @ p + mat_discr[\"bound_flux\"] @ bc_val\n",
        "\n",
        "    # to export the flux\n",
        "    mvem = pp.MVEM(key)\n",
        "    mvem.discretize(sd, data)\n",
        "    # construct the P0 flux reconstruction\n",
        "    cell_q_mpfa = mvem.project_flux(sd, q_tpfa, data)\n",
        "\n",
        "\n",
        "    # Export the solution\n",
        "    if export_folder is not None:\n",
        "        save = pp.Exporter(sd, \"sol\", folder_name=export_folder)\n",
        "        save.write_vtu([(\"p\", p), (\"log_kxx\", np.log10(result[0])),(\"q_mpfa\", cell_q_mpfa)])\n",
        "\n",
        "    # Return the maximum pressure at the injection wells\n",
        "    return np.max(p[index_iwells])"
      ]
    },
    {
      "cell_type": "markdown",
      "id": "precious-belle",
      "metadata": {
        "id": "precious-belle"
      },
      "source": [
        "## Perform upscaling and test functions"
      ]
    },
    {
      "cell_type": "code",
      "execution_count": 40,
      "id": "spare-person",
      "metadata": {
        "id": "spare-person",
        "outputId": "3509c4ee-4fff-4206-9936-d418861fe1af",
        "colab": {
          "base_uri": "https://localhost:8080/"
        }
      },
      "outputs": [
        {
          "output_type": "stream",
          "name": "stdout",
          "text": [
            "12.218891098554334\n",
            "41.092931461640255\n"
          ]
        }
      ],
      "source": [
        "selected_layers = 75\n",
        "folder_results = main_folder + \"results/\"\n",
        "\n",
        "# Read the SPE10 grid\n",
        "spe10 = Spe10(selected_layers)\n",
        "\n",
        "# Read the permeability associated to the given layer(s)\n",
        "perm_folder = spe10_folder + \"/perm/\"\n",
        "spe10.read_perm(perm_folder)\n",
        "\n",
        "# Read the permeability associated to the given layer(s) for coarse grid\n",
        "sd_coarse, result = Checkpoint1_solution(selected_layers, folder_results)\n",
        "\n",
        "# Define the function to evaluate that depends only on the position of the injection well\n",
        "CostFunctional = lambda x: solve_coarse(\n",
        "    sd_coarse, x, result, export_folder=folder_results\n",
        ")\n",
        "\n",
        "CostFunctionalFine = lambda x: solve_fine(\n",
        "    spe10, x, export_folder=folder_results\n",
        ")\n",
        "\n",
        "print(CostFunctional([231, 481]))\n",
        "print(CostFunctionalFine([231, 481]))"
      ]
    },
    {
      "cell_type": "markdown",
      "id": "25631b9b",
      "metadata": {
        "id": "25631b9b"
      },
      "source": [
        "## Optimization"
      ]
    },
    {
      "cell_type": "code",
      "execution_count": 44,
      "id": "48fdd2f3",
      "metadata": {
        "id": "48fdd2f3"
      },
      "outputs": [],
      "source": [
        "def checkpoint2_solution(selected_layers, folder_results):\n",
        "\n",
        "    # Read the SPE10 grid\n",
        "    spe10 = Spe10(selected_layers)\n",
        "\n",
        "    # Read the permeability associated to the given layer(s)\n",
        "    perm_folder = spe10_folder + \"/perm/\"\n",
        "    spe10.read_perm(perm_folder)\n",
        "\n",
        "    # define cost functional on coarse scale (note that it depends on the upscaling)\n",
        "    CostFunctional = lambda x: solve_coarse(sd_coarse, x, result, export_folder = folder_results)\n",
        "\n",
        "    # define cost functional on fine scale\n",
        "    CostFunctionalFine = lambda x: solve_fine(spe10, x, export_folder = folder_results)\n",
        "\n",
        "    #definition of the position of wells on coarse grid\n",
        "    N_x = 10\n",
        "    N_y = 10\n",
        "    width = 365.76\n",
        "    height = 670.56\n",
        "    spacing = np.array([width / N_x, height / N_y])\n",
        "    starting_point_x = spacing[0] / 2 + spacing[0] * np.arange(10)\n",
        "    starting_point_y = spacing[1] / 2 + spacing[1] * np.arange(10)\n",
        "\n",
        "    grid_points = []\n",
        "    for x in starting_point_x:\n",
        "        for y in starting_point_y:\n",
        "            grid_points.append((x, y))\n",
        "\n",
        "    grid_points = np.array(grid_points)\n",
        "\n",
        "    # solve_coarse\n",
        "    print('Starting coarse solver')\n",
        "    print()\n",
        "    loss_list = []\n",
        "\n",
        "    for k in tqdm(range(len(grid_points))):\n",
        "      #print(f'Iteration {k + 1} / {len(grid_points)}')\n",
        "      loss = CostFunctional(grid_points[k])\n",
        "      loss_list.append(loss)\n",
        "      #print()\n",
        "\n",
        "    #position of well in the fine grid starting from 10 best coarse cells\n",
        "    loss = np.array(loss_list)\n",
        "    top10 = np.argsort(loss)[:3]\n",
        "    top10_xy = grid_points[top10].T\n",
        "\n",
        "    print()\n",
        "    print('#-------------------------------------------------#')\n",
        "    print()\n",
        "    print('Starting fine solver')\n",
        "    print()\n",
        "\n",
        "    x_min = top10_xy[0] - spacing[0] / 2\n",
        "    x_max = top10_xy[0] + spacing[0] / 2\n",
        "    y_min = top10_xy[1] - spacing[1] / 2\n",
        "    y_max = top10_xy[1] + spacing[1] / 2\n",
        "\n",
        "    spacing_fine_y = 3.048\n",
        "    grid_points_fine = []\n",
        "\n",
        "    for i in range(len(top10)):\n",
        "      vec_x = np.arange(x_min[i], x_max[i] - 1e-5, spe10.spacing[0])\n",
        "      vec_y = np.arange(y_min[i], y_max[i] - 1e-5, spacing_fine_y)\n",
        "      for x in vec_x:\n",
        "          for y in vec_y:\n",
        "              grid_points_fine.append((x, y))\n",
        "\n",
        "    grid_points_fine = np.array(grid_points_fine)\n",
        "\n",
        "    # solve_fine\n",
        "    loss_list_fine = []\n",
        "\n",
        "    for k in tqdm(range(len(grid_points_fine))):\n",
        "      #print(f'Iteration {k + 1} / {len(grid_points_fine)}')\n",
        "      loss_fine = CostFunctionalFine(grid_points_fine[k])\n",
        "      loss_list_fine.append(loss_fine)\n",
        "      #print()\n",
        "\n",
        "    loss = np.array(loss_list_fine)\n",
        "    top10_fine = np.argsort(loss)[:10]\n",
        "    top10_xy_fine = grid_points_fine[top10_fine].T\n",
        "\n",
        "    return  top10, top10_xy, loss_list, top10_fine, top10_xy_fine, loss_list_fine"
      ]
    },
    {
      "cell_type": "code",
      "source": [
        "top10, top10_xy, loss_list, top10_fine, top10_xy_fine, loss_list_fine = checkpoint2_solution(selected_layers, folder_results)"
      ],
      "metadata": {
        "id": "9OnCm9x6C1CL",
        "outputId": "5f7e1c44-3e5b-44a7-c49c-b181613271d5",
        "colab": {
          "base_uri": "https://localhost:8080/"
        }
      },
      "id": "9OnCm9x6C1CL",
      "execution_count": null,
      "outputs": [
        {
          "output_type": "stream",
          "name": "stdout",
          "text": [
            "Starting coarse solver\n",
            "\n"
          ]
        },
        {
          "output_type": "stream",
          "name": "stderr",
          "text": [
            "100%|██████████| 100/100 [00:20<00:00,  4.83it/s]\n"
          ]
        },
        {
          "output_type": "stream",
          "name": "stdout",
          "text": [
            "\n",
            "#-------------------------------------------------#\n",
            "\n",
            "Starting fine solver\n",
            "\n"
          ]
        },
        {
          "output_type": "stream",
          "name": "stderr",
          "text": [
            "  4%|▍         | 16/396 [03:32<1:19:58, 12.63s/it]"
          ]
        }
      ]
    },
    {
      "cell_type": "code",
      "source": [
        "# Read the SPE10 grid\n",
        "spe10 = Spe10(selected_layers)\n",
        "\n",
        "# Read the permeability associated to the given layer(s)\n",
        "perm_folder = spe10_folder + \"/perm/\"\n",
        "spe10.read_perm(perm_folder)\n",
        "perm_dict = spe10.perm_as_dict()\n",
        "perm = perm_dict[\"kxx\"]\n",
        "perm_2d = np.log10(perm).reshape((220, 60))\n",
        "\n",
        "plt.figure(figsize=(12, 8))\n",
        "plt.imshow(perm_2d, extent=[0, 365, 670, 0])\n",
        "plt.plot(top10_xy[0], top10_xy[1], marker='*', markersize = 10, linestyle = '', color = 'red', label = 'coarse')\n",
        "plt.plot(top10_xy_fine[0], top10_xy_fine[1], marker='*', markersize = 10, linestyle = '', color = 'white', label = 'fine')\n",
        "plt.title(f'Layer {selected_layers}')\n",
        "plt.colorbar()\n",
        "plt.legend()"
      ],
      "metadata": {
        "id": "QRXTADxpxbxb"
      },
      "id": "QRXTADxpxbxb",
      "execution_count": null,
      "outputs": []
    },
    {
      "cell_type": "code",
      "source": [
        "# Plot the magnitude\n",
        "loss = np.array(loss_list).reshape(10, 10).T\n",
        "loss_fine = np.array(loss_list_fine).reshape(6, 22).T\n",
        "\n",
        "best_ij = np.floor((np.asarray(top10_xy.T) / spacing)).astype(int).T\n",
        "best_ij_fine = np.floor((np.asarray(top10_xy_fine.T) / spe10.spacing[:-1])).astype(int).T\n",
        "\n",
        "fig, ax = plt.subplots(1, 2, figsize = (12, 6))\n",
        "\n",
        "im0 = ax[0].imshow(loss, cmap = 'turbo')\n",
        "ax[0].set_title('Coarse grid')\n",
        "fig.colorbar(im0, ax = ax[0], label='Loss')\n",
        "ax[0].plot(best_ij[0], best_ij[1], marker = '*', markersize = 10, linestyle = '', color = 'red')\n",
        "\n",
        "im1 = ax[1].imshow(loss_fine, cmap = 'turbo', extent = [np.min(best_ij[0])*6 - 0.5, np.max(best_ij[0])*6 + 5.5, np.max(best_ij[1])*22 + 21.5, np.min(best_ij[1])*22 - 0.5])\n",
        "ax[1].set_title('Fine sub grid')\n",
        "fig.colorbar(im1, ax = ax[1], label = 'Loss')\n",
        "ax[1].plot(best_ij_fine[0], best_ij_fine[1], marker = '*', markersize = 10, linestyle = '', color = 'red')\n",
        "\n",
        "plt.show()"
      ],
      "metadata": {
        "id": "HDPAG3OJedOs",
        "outputId": "c620610c-d6bf-4da2-da6a-6469da70c79d",
        "colab": {
          "base_uri": "https://localhost:8080/",
          "height": 211
        }
      },
      "id": "HDPAG3OJedOs",
      "execution_count": 21,
      "outputs": [
        {
          "output_type": "error",
          "ename": "ValueError",
          "evalue": "cannot reshape array of size 660 into shape (6,22)",
          "traceback": [
            "\u001b[0;31m---------------------------------------------------------------------------\u001b[0m",
            "\u001b[0;31mValueError\u001b[0m                                Traceback (most recent call last)",
            "\u001b[0;32m<ipython-input-21-291963dd3a2e>\u001b[0m in \u001b[0;36m<cell line: 3>\u001b[0;34m()\u001b[0m\n\u001b[1;32m      1\u001b[0m \u001b[0;31m# Plot the magnitude\u001b[0m\u001b[0;34m\u001b[0m\u001b[0;34m\u001b[0m\u001b[0m\n\u001b[1;32m      2\u001b[0m \u001b[0mloss\u001b[0m \u001b[0;34m=\u001b[0m \u001b[0mnp\u001b[0m\u001b[0;34m.\u001b[0m\u001b[0marray\u001b[0m\u001b[0;34m(\u001b[0m\u001b[0mloss_list\u001b[0m\u001b[0;34m)\u001b[0m\u001b[0;34m.\u001b[0m\u001b[0mreshape\u001b[0m\u001b[0;34m(\u001b[0m\u001b[0;36m10\u001b[0m\u001b[0;34m,\u001b[0m \u001b[0;36m10\u001b[0m\u001b[0;34m)\u001b[0m\u001b[0;34m.\u001b[0m\u001b[0mT\u001b[0m\u001b[0;34m\u001b[0m\u001b[0;34m\u001b[0m\u001b[0m\n\u001b[0;32m----> 3\u001b[0;31m \u001b[0mloss_fine\u001b[0m \u001b[0;34m=\u001b[0m \u001b[0mnp\u001b[0m\u001b[0;34m.\u001b[0m\u001b[0marray\u001b[0m\u001b[0;34m(\u001b[0m\u001b[0mloss_list_fine\u001b[0m\u001b[0;34m)\u001b[0m\u001b[0;34m.\u001b[0m\u001b[0mreshape\u001b[0m\u001b[0;34m(\u001b[0m\u001b[0;36m6\u001b[0m\u001b[0;34m,\u001b[0m \u001b[0;36m22\u001b[0m\u001b[0;34m)\u001b[0m\u001b[0;34m.\u001b[0m\u001b[0mT\u001b[0m\u001b[0;34m\u001b[0m\u001b[0;34m\u001b[0m\u001b[0m\n\u001b[0m\u001b[1;32m      4\u001b[0m \u001b[0;34m\u001b[0m\u001b[0m\n\u001b[1;32m      5\u001b[0m \u001b[0mbest_ij\u001b[0m \u001b[0;34m=\u001b[0m \u001b[0mnp\u001b[0m\u001b[0;34m.\u001b[0m\u001b[0mfloor\u001b[0m\u001b[0;34m(\u001b[0m\u001b[0;34m(\u001b[0m\u001b[0mnp\u001b[0m\u001b[0;34m.\u001b[0m\u001b[0masarray\u001b[0m\u001b[0;34m(\u001b[0m\u001b[0mtop10_xy\u001b[0m\u001b[0;34m.\u001b[0m\u001b[0mT\u001b[0m\u001b[0;34m)\u001b[0m \u001b[0;34m/\u001b[0m \u001b[0mspacing\u001b[0m\u001b[0;34m)\u001b[0m\u001b[0;34m)\u001b[0m\u001b[0;34m.\u001b[0m\u001b[0mastype\u001b[0m\u001b[0;34m(\u001b[0m\u001b[0mint\u001b[0m\u001b[0;34m)\u001b[0m\u001b[0;34m.\u001b[0m\u001b[0mT\u001b[0m\u001b[0;34m\u001b[0m\u001b[0;34m\u001b[0m\u001b[0m\n",
            "\u001b[0;31mValueError\u001b[0m: cannot reshape array of size 660 into shape (6,22)"
          ]
        }
      ]
    }
  ],
  "metadata": {
    "kernelspec": {
      "display_name": "Python 3 (ipykernel)",
      "language": "python",
      "name": "python3"
    },
    "language_info": {
      "codemirror_mode": {
        "name": "ipython",
        "version": 3
      },
      "file_extension": ".py",
      "mimetype": "text/x-python",
      "name": "python",
      "nbconvert_exporter": "python",
      "pygments_lexer": "ipython3",
      "version": "3.10.14"
    },
    "vscode": {
      "interpreter": {
        "hash": "e4cc1db98167c7fd7d55a1da8057731abc6cd6fe154328a2ae319df8aab4e24d"
      }
    },
    "colab": {
      "provenance": [],
      "include_colab_link": true
    }
  },
  "nbformat": 4,
  "nbformat_minor": 5
}