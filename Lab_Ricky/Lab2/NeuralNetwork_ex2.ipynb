{
  "cells": [
    {
      "cell_type": "markdown",
      "metadata": {
        "id": "9QxtRkHFzOQi"
      },
      "source": [
        "# Exercises: physics-informed neural network\n",
        "\n",
        "Exercise on the implementation of physics-informed neural network. \n",
        "\n",
        "Date: 2024\n",
        "\n",
        "Course: 056936 - SCIENTIFIC COMPUTING TOOLS FOR ADVANCED MATHEMATICAL MODELLING (PAGANI STEFANO) [2023-24].\n",
        "\n",
        "Example adapted from this [notebook](https://colab.research.google.com/drive/1qBrbgevkSBqqYc8bOPiaoJG1MBrBrluN?usp=share_link). "
      ]
    },
    {
      "cell_type": "markdown",
      "metadata": {},
      "source": [
        "\n",
        "Let us consider the problem\n",
        "\n",
        "\\begin{aligned}\n",
        "  & -\\nu \\Delta u = -2(x^2+y^2)  \\,, \\quad (x,y) \\in [-1,1] \\times [-1,1]\\,,\\\\\n",
        "  & u(x,-1) = u(x,1) = -x^2 \\,, \\quad -1 < x < 1\\,, \\\\\n",
        "  & u(-1,y) = u(1,y) = -y^2 \\,, \\quad -1 < y < 1\\,, \\\\\n",
        "\\end{aligned}\n",
        "\n",
        "where $\\nu=1$. We consider the PINN framework for solving this PDE."
      ]
    },
    {
      "cell_type": "code",
      "execution_count": null,
      "metadata": {
        "colab": {
          "base_uri": "https://localhost:8080/"
        },
        "id": "XJzSWQcWh85s",
        "outputId": "ee195e0f-9d72-4568-b886-cba89af5b1a1"
      },
      "outputs": [],
      "source": [
        "# import required libraries\n",
        "\n",
        "import tensorflow as tf\n",
        "import numpy as np\n",
        "import scipy.io\n",
        "from tensorflow import keras\n",
        "import matplotlib.pyplot as plt\n",
        "from mpl_toolkits.axes_grid1 import make_axes_locatable\n",
        "#!pip -q install pyDOE\n",
        "from pyDOE import lhs  # for latin hypercube sampling\n"
      ]
    },
    {
      "cell_type": "markdown",
      "metadata": {},
      "source": [
        "# Solution"
      ]
    },
    {
      "cell_type": "code",
      "execution_count": null,
      "metadata": {},
      "outputs": [],
      "source": [
        "# plot exact solution\n",
        "nu = 1.0 # diffusion parameter\n",
        "\n",
        "# define grid for sampling the exact solution\n",
        "N_h = 128\n",
        "ux = np.linspace(-1.0,1.0,N_h)\n",
        "uy = np.linspace (-1.0,1.0,N_h)\n",
        "\n",
        "# sampling loop:\n",
        "u_true = np.zeros([N_h,N_h])\n",
        "for i in range(N_h):\n",
        "    u_true[:,i] = (ux[i]**2)*(uy**2)\n",
        "\n",
        "X_plot,Y_plot = np.meshgrid(ux,uy)\n",
        "plt.pcolor(X_plot, Y_plot, u_true)\n",
        "plt.axis('equal')\n",
        "plt.colorbar()\n",
        "\n"
      ]
    },
    {
      "cell_type": "code",
      "execution_count": null,
      "metadata": {},
      "outputs": [],
      "source": [
        "# flatten grid and solution\n",
        "X,Y = np.meshgrid(ux,uy)\n",
        "X_flat = tf.convert_to_tensor(np.hstack((X.flatten()[:,None],Y.flatten()[:,None])),dtype=tf.float64)\n",
        "u_flat = u_true.T.flatten()"
      ]
    },
    {
      "cell_type": "code",
      "execution_count": null,
      "metadata": {},
      "outputs": [],
      "source": [
        "np.shape(u_true)"
      ]
    },
    {
      "cell_type": "code",
      "execution_count": null,
      "metadata": {
        "id": "wqZ_fC-1KON_"
      },
      "outputs": [],
      "source": [
        "\n",
        "# PINN loss function\n",
        "def loss(xcl,ycl,xlb,ylb,ulb,xub,yub,uub,xleft,yleft,uleft,xright,yright,uright):\n",
        "    ulb_pred = PINN(tf.concat([xlb,ylb],1))\n",
        "    uub_pred = PINN(tf.concat([xub,yub],1))\n",
        "    uleft_pred = PINN(tf.concat([xleft,yleft],1))\n",
        "    uright_pred = PINN(tf.concat([xright,yright],1))\n",
        "    r_pred   = r_PINN(xcl,ycl)\n",
        "\n",
        "    # loss components\n",
        "    mse_lb = tf.reduce_mean(tf.pow(ulb_pred-ulb,2))\n",
        "    mse_ub = tf.reduce_mean(tf.pow(uub_pred-uub,2))\n",
        "    mse_left = tf.reduce_mean(tf.pow(uleft_pred-uleft,2))\n",
        "    mse_right = tf.reduce_mean(tf.pow(uright_pred-uright,2))\n",
        "    mse_r  = tf.reduce_mean(tf.pow(r_pred,2))\n",
        "\n",
        "    return mse_r+mse_lb+mse_ub+mse_left+mse_right #mse_0+mse_r+mse_lb+mse_ub\n",
        "\n",
        "# neural network weight gradients\n",
        "@tf.function\n",
        "def grad(model,xcl,ycl,xlb,ylb,ulb,xub,yub,uub,xleft,yleft,uleft,xright,yright,uright):\n",
        "    with tf.GradientTape(persistent=True) as tape:\n",
        "        loss_value = loss(xcl,ycl,xlb,ylb,ulb,xub,yub,uub,xleft,yleft,uleft,xright,yright,uright)\n",
        "        grads = tape.gradient(loss_value,model.trainable_variables)\n",
        "    return loss_value, grads"
      ]
    },
    {
      "cell_type": "code",
      "execution_count": null,
      "metadata": {
        "id": "cXUPXsj0KUK0"
      },
      "outputs": [],
      "source": [
        "# collocation points\n",
        "Ncl = 2000\n",
        "X = lhs(2,Ncl)\n",
        "xcl = tf.expand_dims(tf.cast(-1.0+(2.0)*X[:,0],dtype=tf.float64),axis=-1)\n",
        "ycl = tf.expand_dims(tf.cast(-1.0+(2.0)*X[:,1],dtype=tf.float64),axis=-1)\n",
        "X_coll = tf.concat([xcl,ycl],1)\n",
        "\n",
        "\n",
        "# Dirichlet boundary condition points\n",
        "Nb = 500\n",
        "X = lhs(1,Nb)\n",
        "ylb = tf.expand_dims(tf.cast(-1.0+(2.0)*X[:,0],dtype=tf.float64),axis=-1)\n",
        "xlb = -1.0*tf.ones(tf.shape(ylb),dtype=tf.float64)\n",
        "ulb = (xlb**2)*(ylb**2)\n",
        "X_lb = tf.concat([xlb,ylb],1)\n",
        "\n",
        "X = lhs(1,Nb)\n",
        "yub = tf.expand_dims(tf.cast(-1.0+(2.0)*X[:,0],dtype=tf.float64),axis=-1)\n",
        "xub = 1.0*tf.ones(tf.shape(yub),dtype=tf.float64)\n",
        "uub = (xub**2)*(yub**2)\n",
        "X_ub = tf.concat([xub,yub],1)\n",
        "\n",
        "Y = lhs(1,Nb)\n",
        "xleft = tf.expand_dims(tf.cast(-1.0+(2.0)*Y[:,0],dtype=tf.float64),axis=-1)\n",
        "yleft = -1.0*tf.ones(tf.shape(xleft),dtype=tf.float64)\n",
        "uleft = (xleft**2)*(yleft**2)\n",
        "X_left = tf.concat([xleft,yleft],1)\n",
        "\n",
        "Y = lhs(1,Nb)\n",
        "xright = tf.expand_dims(tf.cast(-1.0+(2.0)*Y[:,0],dtype=tf.float64),axis=-1)\n",
        "yright = 1.0*tf.ones(tf.shape(xright),dtype=tf.float64)\n",
        "uright = (xright**2)*(yright**2)\n",
        "X_right = tf.concat([xright,yright],1)\n",
        "\n"
      ]
    },
    {
      "cell_type": "markdown",
      "metadata": {},
      "source": [
        "Task 1: Test the accuracy of the reconstruction with respect to the optimization configurations and the number of layers."
      ]
    },
    {
      "cell_type": "code",
      "execution_count": null,
      "metadata": {
        "colab": {
          "base_uri": "https://localhost:8080/",
          "height": 1000
        },
        "id": "z_cOmQDHKX4k",
        "outputId": "b270d41b-5706-4998-8216-ef717ba49ab1"
      },
      "outputs": [],
      "source": [
        "# training loop\n",
        "\n",
        "# initialize new instance of NN\n",
        "PINN = tf.keras.Sequential([\n",
        "    tf.keras.layers.Dense(4, activation='tanh', input_shape=(2,),kernel_initializer=\"glorot_normal\",dtype=tf.float64),\n",
        "    tf.keras.layers.Dense(4, activation='tanh',kernel_initializer=\"glorot_normal\",dtype=tf.float64),\n",
        "    tf.keras.layers.Dense(1,activation=None,kernel_initializer=\"glorot_normal\",dtype=tf.float64)\n",
        "])\n",
        "\n"
      ]
    },
    {
      "cell_type": "code",
      "execution_count": null,
      "metadata": {},
      "outputs": [],
      "source": [
        "\n",
        "# residual computation based on AD\n",
        "@tf.function\n",
        "def r_PINN(x,y):\n",
        "    u    = PINN(tf.concat([x,y], 1))\n",
        "    u_x  = tf.gradients(u,x)[0]\n",
        "    u_xx = tf.gradients(u_x, x)[0]\n",
        "    u_y  = tf.gradients(u,y)[0]\n",
        "    u_yy = tf.gradients(u_y, y)[0]\n",
        "    return - u_xx - u_yy + 2.0*( tf.pow(x,2) + tf.pow(y,2) )\n",
        "\n",
        "\n",
        "# Adam optimizer\n",
        "tf_optimizer = tf.keras.optimizers.Adam(learning_rate=0.1,beta_1=0.99)\n",
        "\n",
        "for iter in range(5000):\n",
        "\n",
        "  # compute gradients using AD\n",
        "  loss_value,grads = grad(PINN,xcl,ycl,xlb,ylb,ulb,xub,yub,uub,xleft,yleft,uleft,xright,yright,uright)\n",
        "\n",
        "  # update neural network weights\n",
        "  tf_optimizer.apply_gradients(zip(grads,PINN.trainable_variables))\n",
        "\n",
        "  # display intermediate results\n",
        "  if ((iter+1) % 200 == 0):\n",
        "    print('iter =  '+str(iter+1))\n",
        "    print('loss = {:.4f}'.format(loss_value))\n",
        "    PINN_flat = PINN(X_flat)\n",
        "    err = np.linalg.norm(u_flat-PINN_flat[:,-1],2)/np.linalg.norm(u_flat,2)\n",
        "    print('L2 error: %.4e' % (err))\n",
        "    "
      ]
    },
    {
      "cell_type": "code",
      "execution_count": null,
      "metadata": {
        "colab": {
          "base_uri": "https://localhost:8080/",
          "height": 443
        },
        "id": "xjbpEPkfWDJe",
        "outputId": "1a86cd1c-64a1-4080-a7cc-1267993fbedc"
      },
      "outputs": [],
      "source": [
        "#Display results\n",
        "\n",
        "fig = plt.figure(figsize=(16,9),dpi=150)\n",
        "#fig = plt.figure()\n",
        "#fig.subplots_adjust(wspace=0.3)\n",
        "plt.style.use('default')\n",
        "ax = fig.add_subplot(1,3,1)\n",
        "ax.set_aspect(1)\n",
        "im = plt.pcolor(X_plot, Y_plot, u_true)\n",
        "divider = make_axes_locatable(ax)\n",
        "cax = divider.append_axes(\"right\", size=\"5%\", pad=0.05)\n",
        "fig.colorbar(im,cax=cax)\n",
        "#ax.set_yticklabels(['-1.0','-0.6','-0.2','0.2','0.6','1.0'])\n",
        "ax.set_title('Exact Solution',fontsize=16)\n",
        "\n",
        "ax = fig.add_subplot(1,3,2)\n",
        "ax.set_aspect(1)\n",
        "im = plt.pcolor(X_plot, Y_plot, np.reshape(PINN_flat,(N_h,N_h)))\n",
        "divider = make_axes_locatable(ax)\n",
        "cax = divider.append_axes(\"right\", size=\"5%\", pad=0.05)\n",
        "fig.colorbar(im,cax=cax)\n",
        "ax.set_title('PINN Prediction'.format(err),fontsize=16)\n",
        "\n",
        "ax = fig.add_subplot(1,3,3)\n",
        "ax.set_aspect(1)\n",
        "im = plt.pcolor(X_plot, Y_plot, np.abs( np.reshape(PINN_flat,(N_h,N_h)) -u_true ) )\n",
        "divider = make_axes_locatable(ax)\n",
        "cax = divider.append_axes(\"right\", size=\"5%\", pad=0.05)\n",
        "fig.colorbar(im,cax=cax)\n",
        "ax.set_title('L2 error = {:.4f}'.format(err),fontsize=16)"
      ]
    },
    {
      "cell_type": "markdown",
      "metadata": {},
      "source": [
        "Task 2: Re-implement the notebook, considering the case where there are no boundary conditions and measurements are taken only on internal points (chosen randomly). Analyze the accuracy with respect to the number of measurements."
      ]
    }
  ],
  "metadata": {
    "accelerator": "GPU",
    "colab": {
      "provenance": []
    },
    "kernelspec": {
      "display_name": "Python 3",
      "language": "python",
      "name": "python3"
    },
    "language_info": {
      "codemirror_mode": {
        "name": "ipython",
        "version": 3
      },
      "file_extension": ".py",
      "mimetype": "text/x-python",
      "name": "python",
      "nbconvert_exporter": "python",
      "pygments_lexer": "ipython3",
      "version": "3.9.13"
    }
  },
  "nbformat": 4,
  "nbformat_minor": 0
}
