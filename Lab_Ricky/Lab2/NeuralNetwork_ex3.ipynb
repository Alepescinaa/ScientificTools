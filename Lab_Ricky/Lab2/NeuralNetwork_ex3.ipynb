{
  "cells": [
    {
      "cell_type": "markdown",
      "metadata": {
        "id": "view-in-github",
        "colab_type": "text"
      },
      "source": [
        "<a href=\"https://colab.research.google.com/github/Alepescinaa/ScientificTools/blob/main/Lab_Ricky/Lab2/NeuralNetwork_ex3.ipynb\" target=\"_parent\"><img src=\"https://colab.research.google.com/assets/colab-badge.svg\" alt=\"Open In Colab\"/></a>"
      ]
    },
    {
      "cell_type": "markdown",
      "metadata": {
        "id": "9QxtRkHFzOQi"
      },
      "source": [
        "# Exercises: physics-informed neural network\n",
        "\n",
        "Exercise on the implementation of physics-informed neural network.\n",
        "\n",
        "Date: 2024\n",
        "\n",
        "Course: 056936 - SCIENTIFIC COMPUTING TOOLS FOR ADVANCED MATHEMATICAL MODELLING (PAGANI STEFANO) [2023-24].\n",
        "\n",
        "Example adapted from this [notebook](https://colab.research.google.com/drive/1qBrbgevkSBqqYc8bOPiaoJG1MBrBrluN?usp=share_link)."
      ]
    },
    {
      "cell_type": "markdown",
      "metadata": {
        "id": "noSiqz6-1s-l"
      },
      "source": [
        "\n",
        "Let us consider the problem\n",
        "\n",
        "\\begin{aligned}\n",
        "  & -\\nu \\Delta u = -2(x^2+y^2)  \\,, \\quad (x,y) \\in [-1,1] \\times [-1,1]\\,,\\\\\n",
        "  & u(x,-1) = u(x,1) = -x^2 \\,, \\quad -1 < x < 1\\,, \\\\\n",
        "  & u(-1,y) = u(1,y) = -y^2 \\,, \\quad -1 < y < 1\\,, \\\\\n",
        "\\end{aligned}\n",
        "\n",
        "where $\\nu$ is unknown. We consider the PINN framework for solving the state/parameter estimation."
      ]
    },
    {
      "cell_type": "code",
      "execution_count": null,
      "metadata": {
        "id": "XJzSWQcWh85s"
      },
      "outputs": [],
      "source": [
        "# import required libraries\n",
        "import tensorflow as tf\n",
        "import numpy as np\n",
        "import scipy.io\n",
        "from tensorflow import keras\n",
        "import matplotlib.pyplot as plt\n",
        "from mpl_toolkits.axes_grid1 import make_axes_locatable\n",
        "#!pip -q install pyDOE\n",
        "from pyDOE import lhs  # for latin hypercube sampling"
      ]
    },
    {
      "cell_type": "code",
      "execution_count": null,
      "metadata": {
        "id": "YHc2LBqO1s-m"
      },
      "outputs": [],
      "source": [
        "# set seed for reproducibility\n",
        "tf.random.set_seed(42)\n",
        "np.random.seed(42)"
      ]
    },
    {
      "cell_type": "markdown",
      "metadata": {
        "id": "lsjkkrjh1s-m"
      },
      "source": [
        "# Solution"
      ]
    },
    {
      "cell_type": "code",
      "execution_count": null,
      "metadata": {
        "id": "86jlN-uV1s-m"
      },
      "outputs": [],
      "source": [
        "# plot exact solution\n",
        "nu = 1.0 # diffusion parameter\n",
        "\n",
        "# define grid for sampling the exact solution\n",
        "N_h = 128\n",
        "ux = np.linspace(-1.0,1.0,N_h)\n",
        "uy = np.linspace (-1.0,1.0,N_h)\n",
        "\n",
        "# sampling loop:\n",
        "u_true = np.zeros([N_h,N_h])\n",
        "for i in range(N_h):\n",
        "    u_true[:,i] = (ux[i]**2)*(uy**2)\n",
        "\n",
        "X_plot,Y_plot = np.meshgrid(ux,uy)\n",
        "plt.pcolor(X_plot, Y_plot, u_true)\n",
        "plt.axis('equal')\n",
        "plt.colorbar()\n",
        "\n"
      ]
    },
    {
      "cell_type": "code",
      "execution_count": null,
      "metadata": {
        "id": "Shlc9FsT1s-m"
      },
      "outputs": [],
      "source": [
        "# flatten grid and solution\n",
        "X,Y = np.meshgrid(ux,uy)\n",
        "X_flat = tf.convert_to_tensor(np.hstack((X.flatten()[:,None],Y.flatten()[:,None])),dtype=tf.float64)\n",
        "u_flat = u_true.T.flatten()"
      ]
    },
    {
      "cell_type": "code",
      "execution_count": null,
      "metadata": {
        "id": "D1d1xDkZ1s-m"
      },
      "outputs": [],
      "source": [
        "np.shape(u_true)"
      ]
    },
    {
      "cell_type": "code",
      "execution_count": null,
      "metadata": {
        "id": "wqZ_fC-1KON_"
      },
      "outputs": [],
      "source": [
        "\n",
        "# PINN loss function\n",
        "def loss(xcl,ycl,xmeas,ymeas,umeas,param):\n",
        "    umeas_pred = PINN(tf.concat([xmeas,ymeas],1))\n",
        "    r_pred   = r_PINN(xcl,ycl,param)\n",
        "\n",
        "    # loss components\n",
        "    mse_meas  = tf.reduce_mean(tf.pow(umeas-umeas_pred,2))\n",
        "    mse_r  = tf.reduce_mean(tf.pow(r_pred,2))\n",
        "\n",
        "    return mse_r+mse_meas # mse_0+mse_r+mse_lb+mse_ub\n",
        "\n",
        "# neural network weight gradients\n",
        "@tf.function\n",
        "# def grad(model,xcl,ycl,xmeas,ymeas,umeas):\n",
        "    with tf.GradientTape(persistent=True) as tape:\n",
        "        # loss_value = loss(xcl,ycl,xmeas,ymeas,umeas)\n",
        "        grads = tape.gradient(loss_value,model.trainable_variables)\n",
        "        # grad_param =  TO DO\n",
        "    return loss_value, grads, grad_param"
      ]
    },
    {
      "cell_type": "code",
      "execution_count": null,
      "metadata": {
        "id": "cXUPXsj0KUK0"
      },
      "outputs": [],
      "source": [
        "# collocation points\n",
        "Ncl = 2000\n",
        "X = lhs(2,Ncl)\n",
        "xcl = tf.expand_dims(tf.cast(-1.0+(2.0)*X[:,0],dtype=tf.float64),axis=-1)\n",
        "ycl = tf.expand_dims(tf.cast(-1.0+(2.0)*X[:,1],dtype=tf.float64),axis=-1)\n",
        "X_coll = tf.concat([xcl,ycl],1)\n",
        "\n",
        "# measurement points\n",
        "\n",
        "Ncl = 20\n",
        "X = lhs(2,Ncl)\n",
        "xmeas = tf.expand_dims(tf.cast(-1.0+(2.0)*X[:,0],dtype=tf.float64),axis=-1)\n",
        "ymeas = tf.expand_dims(tf.cast(-1.0+(2.0)*X[:,1],dtype=tf.float64),axis=-1)\n",
        "X_meas = tf.concat([xmeas,ymeas],1)\n",
        "umeas = (xmeas**2)*(ymeas**2)\n",
        "\n",
        "\n"
      ]
    },
    {
      "cell_type": "markdown",
      "metadata": {
        "id": "BxAYC22_1s-n"
      },
      "source": [
        "Task 1: Test the accuracy of the reconstruction with respect to the optimization configurations and the number of layers."
      ]
    },
    {
      "cell_type": "code",
      "execution_count": null,
      "metadata": {
        "id": "z_cOmQDHKX4k"
      },
      "outputs": [],
      "source": [
        "# training loop\n",
        "\n",
        "# initialize new instance of NN\n",
        "PINN = tf.keras.Sequential([\n",
        "    tf.keras.layers.Dense(8, activation='tanh', input_shape=(2,),kernel_initializer=\"glorot_normal\",dtype=tf.float64),\n",
        "    tf.keras.layers.Dense(32, activation='tanh',kernel_initializer=\"glorot_normal\",dtype=tf.float64),\n",
        "    tf.keras.layers.Dense(1,activation=None,kernel_initializer=\"glorot_normal\",dtype=tf.float64)\n",
        "])\n",
        "\n"
      ]
    },
    {
      "cell_type": "code",
      "execution_count": null,
      "metadata": {
        "id": "2JuyDZVt1s-n"
      },
      "outputs": [],
      "source": [
        "\n",
        "# residual computation based on AD\n",
        "@tf.function\n",
        "# def r_PINN(x,y):\n",
        "    u    = PINN(tf.concat([x,y], 1))\n",
        "    u_x  = tf.gradients(u,x)[0]\n",
        "    u_xx = tf.gradients(u_x, x)[0]\n",
        "    u_y  = tf.gradients(u,y)[0]\n",
        "    u_yy = tf.gradients(u_y, y)[0]\n",
        "    # return -  ( u_xx + u_yy ) + 2.0*( tf.pow(x,2) + tf.pow(y,2) )\n",
        "\n",
        "\n",
        "# Adam optimizer\n",
        "tf_optimizer = tf.keras.optimizers.Adam(learning_rate=0.003,beta_1=0.99)\n",
        "\n",
        "# parameter variable\n",
        "param = tf.Variable(0.1,trainable=True,dtype=tf.float64)\n",
        "\n",
        "for iter in range(20000):\n",
        "\n",
        "  # compute gradients using AD\n",
        "  loss_value,grads,grad_param = grad(PINN,xcl,ycl,xmeas,ymeas,umeas,param)\n",
        "\n",
        "  # update neural network weights\n",
        "  tf_optimizer.apply_gradients(zip(grads+[grad_param],PINN.trainable_variables+[param]))\n",
        "\n",
        "  # display intermediate results\n",
        "  if ((iter+1) % 200 == 0):\n",
        "    print('iter =  '+str(iter+1))\n",
        "    print('loss = {:.4f}'.format(loss_value))\n",
        "    print('diffusion coefficient estimate = {:.4f}'.format(np.exp(param.numpy())))\n",
        "    PINN_flat = PINN(X_flat)\n",
        "    err = np.linalg.norm(u_flat-PINN_flat[:,-1],2)/np.linalg.norm(u_flat,2)\n",
        "    print('L2 error: %.4e' % (err))\n"
      ]
    },
    {
      "cell_type": "code",
      "execution_count": null,
      "metadata": {
        "id": "xjbpEPkfWDJe"
      },
      "outputs": [],
      "source": [
        "#Display results\n",
        "\n",
        "fig = plt.figure(figsize=(16,9),dpi=150)\n",
        "#fig = plt.figure()\n",
        "#fig.subplots_adjust(wspace=0.3)\n",
        "plt.style.use('default')\n",
        "ax = fig.add_subplot(1,3,1)\n",
        "ax.set_aspect(1)\n",
        "im = plt.pcolor(X_plot, Y_plot, u_true)\n",
        "plt.scatter(xmeas,ymeas,marker='x',s=3)\n",
        "divider = make_axes_locatable(ax)\n",
        "cax = divider.append_axes(\"right\", size=\"5%\", pad=0.05)\n",
        "fig.colorbar(im,cax=cax)\n",
        "#ax.set_yticklabels(['-1.0','-0.6','-0.2','0.2','0.6','1.0'])\n",
        "ax.set_title('Exact Solution',fontsize=16)\n",
        "\n",
        "ax = fig.add_subplot(1,3,2)\n",
        "ax.set_aspect(1)\n",
        "im = plt.pcolor(X_plot, Y_plot, np.reshape(PINN_flat,(N_h,N_h)))\n",
        "plt.scatter(xmeas,ymeas,marker='x',s=3)\n",
        "divider = make_axes_locatable(ax)\n",
        "cax = divider.append_axes(\"right\", size=\"5%\", pad=0.05)\n",
        "fig.colorbar(im,cax=cax)\n",
        "ax.set_title('PINN Prediction'.format(err),fontsize=16)\n",
        "\n",
        "ax = fig.add_subplot(1,3,3)\n",
        "ax.set_aspect(1)\n",
        "im = plt.pcolor(X_plot, Y_plot, np.abs( np.reshape(PINN_flat,(N_h,N_h)) -u_true ) )\n",
        "divider = make_axes_locatable(ax)\n",
        "cax = divider.append_axes(\"right\", size=\"5%\", pad=0.05)\n",
        "fig.colorbar(im,cax=cax)\n",
        "ax.set_title('L2 error = {:.4f}'.format(err),fontsize=16)"
      ]
    }
  ],
  "metadata": {
    "accelerator": "GPU",
    "colab": {
      "provenance": [],
      "include_colab_link": true
    },
    "kernelspec": {
      "display_name": "Python 3",
      "language": "python",
      "name": "python3"
    },
    "language_info": {
      "codemirror_mode": {
        "name": "ipython",
        "version": 3
      },
      "file_extension": ".py",
      "mimetype": "text/x-python",
      "name": "python",
      "nbconvert_exporter": "python",
      "pygments_lexer": "ipython3",
      "version": "3.9.13"
    }
  },
  "nbformat": 4,
  "nbformat_minor": 0
}