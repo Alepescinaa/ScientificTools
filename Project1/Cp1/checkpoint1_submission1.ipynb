{
  "nbformat": 4,
  "nbformat_minor": 0,
  "metadata": {
    "colab": {
      "provenance": [],
      "authorship_tag": "ABX9TyM+SV0e3qS8ca3yoVLdQBEb",
      "include_colab_link": true
    },
    "kernelspec": {
      "name": "python3",
      "display_name": "Python 3"
    },
    "language_info": {
      "name": "python"
    }
  },
  "cells": [
    {
      "cell_type": "markdown",
      "metadata": {
        "id": "view-in-github",
        "colab_type": "text"
      },
      "source": [
        "<a href=\"https://colab.research.google.com/github/Alepescinaa/ScientificTools/blob/main/Project1/Cp1/checkpoint1_submission1.ipynb\" target=\"_parent\"><img src=\"https://colab.research.google.com/assets/colab-badge.svg\" alt=\"Open In Colab\"/></a>"
      ]
    },
    {
      "cell_type": "code",
      "execution_count": null,
      "metadata": {
        "id": "CLfVogsIbjGX"
      },
      "outputs": [],
      "source": [
        "import numpy as np\n",
        "import matplotlib.pyplot as plt\n",
        "from scipy.interpolate import griddata\n",
        "from scipy.interpolate import RBFInterpolator\n",
        "\n",
        "X, Y = np.meshgrid(np.linspace(-1.5,1.5,1501), np.linspace(-1.5,1.5,1501))\n",
        "\n",
        "def checkpoint1_solution_radial(x, y, t, X, Y, s_value):\n",
        "    coordinates = np.column_stack((x, y))\n",
        "\n",
        "    mesh_coordinates=np.column_stack((X.ravel(), Y.ravel()))\n",
        "\n",
        "    rbf = RBFInterpolator(coordinates, t, neighbors=None, smoothing=s_value, kernel='thin_plate_spline', epsilon=None, degree=1)\n",
        "\n",
        "    time_pred = rbf(mesh_coordinates)\n",
        "    time_pred=time_pred.reshape(1501,1501)\n",
        "\n",
        "    grad_x, grad_y = np.gradient(time_pred)\n",
        "\n",
        "    vel_pred = 1.0/( np.sqrt((grad_x/(3.0/1500))**2+(grad_y/(3.0/1500))**2) + 1e-4)\n",
        "\n",
        "    return time_pred, vel_pred\n",
        "\n",
        "time_pred,vel_pred = checkpoint1_solution_radial(x_meas, y_meas, t_meas, X, Y,0.0072 )"
      ]
    }
  ]
}