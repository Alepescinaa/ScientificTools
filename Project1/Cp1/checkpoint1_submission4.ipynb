{
  "nbformat": 4,
  "nbformat_minor": 0,
  "metadata": {
    "colab": {
      "provenance": [],
      "authorship_tag": "ABX9TyNK32OJVcApBYp6FE+Tmm0E",
      "include_colab_link": true
    },
    "kernelspec": {
      "name": "python3",
      "display_name": "Python 3"
    },
    "language_info": {
      "name": "python"
    }
  },
  "cells": [
    {
      "cell_type": "markdown",
      "metadata": {
        "id": "view-in-github",
        "colab_type": "text"
      },
      "source": [
        "<a href=\"https://colab.research.google.com/github/Alepescinaa/ScientificTools/blob/main/Project1/Cp1/checkpoint1_submission4.ipynb\" target=\"_parent\"><img src=\"https://colab.research.google.com/assets/colab-badge.svg\" alt=\"Open In Colab\"/></a>"
      ]
    },
    {
      "cell_type": "code",
      "execution_count": null,
      "metadata": {
        "id": "OkOCYHCVgsL7"
      },
      "outputs": [],
      "source": [
        "from scipy.interpolate import RBFInterpolator\n",
        "\n",
        "def checkpoint1_solution_radial1(x, y, t, X, Y, s_value=0.1, s_aniso_1=0.5, s_aniso_2=0.5):\n",
        "    coordinates = np.column_stack((x, y))\n",
        "\n",
        "    mesh_coordinates=np.column_stack((X.ravel(), Y.ravel()))\n",
        "\n",
        "    s = [s_value,s_value,s_value,s_value,s_value,s_value,s_value,s_value,s_value,s_value,s_aniso_1, s_value,s_value,s_value,s_value, s_aniso_2,s_value,s_value,s_value,s_value]\n",
        "\n",
        "    rbf = RBFInterpolator(coordinates, t, neighbors=None, smoothing=s, kernel='thin_plate_spline', epsilon=None, degree=1)\n",
        "\n",
        "    time_pred = rbf(mesh_coordinates)\n",
        "    time_pred=time_pred.reshape(1501,1501)\n",
        "\n",
        "    source_indices = np.where(time_pred < 1e-2)\n",
        "\n",
        "    indices_2d_m = np.array(source_indices).T\n",
        "\n",
        "\n",
        "    grad_x, grad_y = np.gradient(time_pred)\n",
        "\n",
        "    vel_pred = 1.0/( np.sqrt((grad_x/(3.0/1500))**2+(grad_y/(3.0/1500))**2) + 1e-4)\n",
        "    vel_pred[indices_2d_m[:, 0],indices_2d_m[:, 1]] = 1.0/( np.sqrt((grad_x[indices_2d_m[:, 0],indices_2d_m[:, 1]]/(3.0/1500))**2+(grad_y[indices_2d_m[:, 0],indices_2d_m[:, 1]]/(3.0/1500))**2) + 1e-3)\n",
        "\n",
        "\n",
        "    return time_pred, vel_pred"
      ]
    }
  ]
}