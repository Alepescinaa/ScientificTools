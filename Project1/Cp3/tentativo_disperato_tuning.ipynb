{
  "nbformat": 4,
  "nbformat_minor": 0,
  "metadata": {
    "colab": {
      "provenance": [],
      "authorship_tag": "ABX9TyOOZ+BZ8WU7LPkes5Ed2mEg",
      "include_colab_link": true
    },
    "kernelspec": {
      "name": "python3",
      "display_name": "Python 3"
    },
    "language_info": {
      "name": "python"
    }
  },
  "cells": [
    {
      "cell_type": "markdown",
      "metadata": {
        "id": "view-in-github",
        "colab_type": "text"
      },
      "source": [
        "<a href=\"https://colab.research.google.com/github/Alepescinaa/ScientificTools/blob/main/Project1/Cp3/tentativo_disperato_tuning.ipynb\" target=\"_parent\"><img src=\"https://colab.research.google.com/assets/colab-badge.svg\" alt=\"Open In Colab\"/></a>"
      ]
    },
    {
      "cell_type": "code",
      "execution_count": 2,
      "metadata": {
        "id": "z-Qdx7crGeGM",
        "colab": {
          "base_uri": "https://localhost:8080/"
        },
        "outputId": "3cb1062d-2e1c-4ae4-a6f7-6530ff66c524"
      },
      "outputs": [
        {
          "output_type": "stream",
          "name": "stdout",
          "text": [
            "  Preparing metadata (setup.py) ... \u001b[?25l\u001b[?25hdone\n",
            "  Building wheel for pyDOE (setup.py) ... \u001b[?25l\u001b[?25hdone\n"
          ]
        }
      ],
      "source": [
        "import numpy as np\n",
        "import cvxpy as cvx\n",
        "import matplotlib.pyplot as plt\n",
        "from sklearn.preprocessing import StandardScaler\n",
        "import scipy.io\n",
        "import numpy as np\n",
        "import tensorflow as tf\n",
        "from tensorflow import keras\n",
        "import matplotlib.pyplot as plt\n",
        "from sklearn.model_selection import train_test_split\n",
        "from mpl_toolkits.axes_grid1 import make_axes_locatable\n",
        "\n",
        "!pip -q install pyDOE\n",
        "from pyDOE import lhs\n",
        "\n",
        "tf.random.set_seed(42)\n",
        "np.random.seed(42)"
      ]
    },
    {
      "cell_type": "code",
      "source": [
        "!git clone https://github.com/Alepescinaa/ScientificTools\n",
        "%cd ScientificTools/Project1/Cp3"
      ],
      "metadata": {
        "colab": {
          "base_uri": "https://localhost:8080/"
        },
        "id": "jNdT-d57GhPu",
        "outputId": "22c5fc85-52cf-438f-cbae-39b72da402c7"
      },
      "execution_count": 3,
      "outputs": [
        {
          "output_type": "stream",
          "name": "stdout",
          "text": [
            "Cloning into 'ScientificTools'...\n",
            "remote: Enumerating objects: 657, done.\u001b[K\n",
            "remote: Counting objects: 100% (56/56), done.\u001b[K\n",
            "remote: Compressing objects: 100% (55/55), done.\u001b[K\n",
            "remote: Total 657 (delta 25), reused 1 (delta 1), pack-reused 601\u001b[K\n",
            "Receiving objects: 100% (657/657), 140.38 MiB | 22.85 MiB/s, done.\n",
            "Resolving deltas: 100% (223/223), done.\n",
            "/content/ScientificTools/Project1/Cp3\n"
          ]
        }
      ]
    },
    {
      "cell_type": "code",
      "execution_count": 4,
      "metadata": {
        "id": "jCk9Ral8GeGO"
      },
      "outputs": [],
      "source": [
        "CP3data = np.load(\"CP3data.npz\")\n",
        "CP3data = CP3data['arr_0']\n",
        "\n",
        "CP3estimate = np.load(\"CP3field.npz\")\n",
        "CP3estimate = CP3estimate['arr_0']"
      ]
    },
    {
      "cell_type": "code",
      "source": [
        "mesh_size = 151**2\n",
        "num_samples = 100\n",
        "A = np.zeros((mesh_size, num_samples))\n",
        "\n",
        "for i in range(num_samples):\n",
        "  A[:, i] = CP3estimate[i][0].flatten()\n",
        "\n",
        "[U,s,V] = np.linalg.svd(A, full_matrices=False)\n",
        "\n",
        "k = 10\n",
        "p = 100\n",
        "perm = np.random.choice(mesh_size, size=p, replace=False)\n",
        "\n",
        "C = np.zeros((p,mesh_size))\n",
        "for i in range(p):\n",
        "    C[i,perm[i]] = 1.0\n",
        "\n",
        "Theta = C @ U\n",
        "coeff_mat = np.zeros((k, 100))\n",
        "\n",
        "for i in range (100):\n",
        "  u = A[:,i]\n",
        "  y = C @ u\n",
        "  s_c = cvx.Variable(U.shape[1])\n",
        "  constraints = [Theta @ s_c == y]\n",
        "  obj = cvx.Minimize(cvx.norm(s_c, 1))\n",
        "  prob = cvx.Problem(obj, constraints)\n",
        "  prob.solve()\n",
        "  coeff_mat[:, i] = s_c.value[:k]\n",
        "  c1_min, c1_max = np.min(coeff_mat[0, :]), np.max(coeff_mat[0, :])\n",
        "c2_min, c2_max = np.min(coeff_mat[1, :]), np.max(coeff_mat[1, :])\n",
        "c3_min, c3_max = np.min(coeff_mat[2, :]), np.max(coeff_mat[2, :])\n",
        "c4_min, c4_max = np.min(coeff_mat[3, :]), np.max(coeff_mat[3, :])\n",
        "c5_min, c5_max = np.min(coeff_mat[4, :]), np.max(coeff_mat[4, :])\n",
        "c6_min, c6_max = np.min(coeff_mat[5, :]), np.max(coeff_mat[5, :])\n",
        "c7_min, c7_max = np.min(coeff_mat[6, :]), np.max(coeff_mat[6, :])\n",
        "c8_min, c8_max = np.min(coeff_mat[7, :]), np.max(coeff_mat[7, :])\n",
        "c9_min, c9_max = np.min(coeff_mat[8, :]), np.max(coeff_mat[8, :])\n",
        "c10_min, c10_max = np.min(coeff_mat[9, :]), np.max(coeff_mat[9, :])\n",
        "\n",
        "delta_c1 = c1_max - c1_min\n",
        "delta_c2 = c2_max - c2_min\n",
        "delta_c3 = c3_max - c3_min\n",
        "delta_c4 = c4_max - c4_min\n",
        "delta_c5 = c5_max - c5_min\n",
        "delta_c6 = c6_max - c6_min\n",
        "delta_c7 = c7_max - c7_min\n",
        "delta_c8 = c8_max - c8_min\n",
        "delta_c9 = c9_max - c9_min\n",
        "delta_c10 = c10_max - c10_min\n",
        "\n",
        "print(f\"c1 in ({c1_min}, {c1_max})\")\n",
        "print(f\"c2 in ({c2_min}, {c2_max})\")\n",
        "print(f\"c3 in ({c3_min}, {c3_max})\")\n",
        "print(f\"c4 in ({c4_min}, {c4_max})\")\n",
        "print(f\"c5 in ({c5_min}, {c5_max})\")\n",
        "print(f\"c6 in ({c6_min}, {c6_max})\")\n",
        "print(f\"c7 in ({c7_min}, {c7_max})\")\n",
        "print(f\"c8 in ({c8_min}, {c8_max})\")\n",
        "print(f\"c9 in ({c9_min}, {c9_max})\")\n",
        "print(f\"c10 in ({c10_min}, {c10_max})\")\n",
        "\n",
        "basis = U[:, :k]"
      ],
      "metadata": {
        "colab": {
          "base_uri": "https://localhost:8080/"
        },
        "id": "TnPdd3cvwaCv",
        "outputId": "6acd90ad-b87f-487c-f563-c866ef134efc"
      },
      "execution_count": 7,
      "outputs": [
        {
          "output_type": "stream",
          "name": "stdout",
          "text": [
            "c1 in (-14901.762094944293, -12144.026767270929)\n",
            "c2 in (-1643.3543282374405, 1582.2151986049146)\n",
            "c3 in (-1666.6222565530495, 1707.6163608834004)\n",
            "c4 in (-776.3212422595338, 1280.5858314852646)\n",
            "c5 in (-1093.9752515213913, 1047.6008504640922)\n",
            "c6 in (-717.0424992189124, 537.6185969065431)\n",
            "c7 in (-469.994381164961, 438.818028217973)\n",
            "c8 in (-328.78631161812, 528.7552626478324)\n",
            "c9 in (-257.8055527291008, 317.60595987413234)\n",
            "c10 in (-216.03993095124412, 357.62370002461455)\n"
          ]
        }
      ]
    },
    {
      "cell_type": "code",
      "source": [
        "# collocation points\n",
        "Ncl = 151**2\n",
        "Xcl = lhs(2,Ncl)\n",
        "xcl = tf.expand_dims(tf.cast(-1.5+(3.0)*Xcl[:,0],dtype=tf.float64),axis=-1)\n",
        "ycl = tf.expand_dims(tf.cast(-1.5+(3.0)*Xcl[:,1],dtype=tf.float64),axis=-1)\n",
        "X_coll = tf.concat([xcl,ycl],1)"
      ],
      "metadata": {
        "id": "gE6IjTv_BqBg"
      },
      "execution_count": 8,
      "outputs": []
    },
    {
      "cell_type": "code",
      "execution_count": 23,
      "metadata": {
        "id": "cvDwkpE9BDRH"
      },
      "outputs": [],
      "source": [
        "def penalty(param, lower_bound, upper_bound):\n",
        "    return tf.reduce_sum(tf.square(tf.maximum(param - upper_bound, 0)) +\n",
        "                         tf.square(tf.maximum(lower_bound - param, 0)))\n",
        "\n",
        "# PINN loss function\n",
        "def loss(xcl,ycl,xmeas,ymeas,umeas,coeff,regularization_strength):\n",
        "    input_data=tf.concat([xmeas,ymeas],1)\n",
        "    umeas_pred = build_pinn(regularization_strength)(input_data)\n",
        "    r_pred   = r_PINN(xcl,ycl,coeff,regularization_strength)\n",
        "\n",
        "    # loss components\n",
        "    mse_meas  = tf.reduce_mean(tf.pow(umeas-umeas_pred,2))\n",
        "    mse_r  = tf.reduce_mean(tf.abs(r_pred))\n",
        "\n",
        "    # bc\n",
        "    y0 = tf.constant([-0.517409965],dtype=tf.float64)\n",
        "    mse_bc= tf.pow( build_pinn(regularization_strength)( tf.transpose( tf.stack( [tf.constant([1.5],dtype=tf.float64), y0] ))  ) ,2)\n",
        "\n",
        "    #penalty\n",
        "    mse_penalty = penalty(coeff[0],0,1)+penalty(coeff[1],0,1)+penalty(coeff[2],0,1)+penalty(coeff[3],0,1)+penalty(coeff[4],0,1)+penalty(coeff[5],0,1)+penalty(coeff[6],0,1)+penalty(coeff[7],0,1)+penalty(coeff[8],0,1)+penalty(coeff[9],0,1)\n",
        "\n",
        "    return mse_meas + mse_r + mse_bc + mse_penalty\n",
        "\n",
        "def loss2(xcl,ycl,xmeas,ymeas,umeas,regularization_strength):\n",
        "    input_data=tf.concat([xmeas,ymeas],1)\n",
        "    umeas_pred = build_pinn(regularization_strength)(input_data)\n",
        "    r_pred   = r_PINN2(xcl,ycl,regularization_strength)\n",
        "\n",
        "\n",
        "    # loss components\n",
        "    mse_meas  = tf.reduce_mean(tf.pow(umeas-umeas_pred,2))\n",
        "    mse_r  = tf.reduce_mean(tf.abs(r_pred))\n",
        "\n",
        "    # bc\n",
        "    y0 = tf.constant([-0.517409965],dtype=tf.float64)\n",
        "    mse_bc= tf.pow( build_pinn(regularization_strength)( tf.transpose( tf.stack( [tf.constant([1.5],dtype=tf.float64), y0] ))  ) ,2)\n",
        "\n",
        "    return mse_meas + mse_r + mse_bc\n",
        "\n",
        "\n",
        "@tf.function\n",
        "def r_PINN(x,y,coeff,regularization_strength):\n",
        "    input_data=tf.concat([x,y],1)\n",
        "    u = build_pinn(regularization_strength)(input_data)\n",
        "    u_x = tf.gradients(u,x)[0]\n",
        "    u_y = tf.gradients(u,y)[0]\n",
        "    u_grad = tf.transpose(tf.concat([u_x, u_y], axis=1))\n",
        "\n",
        "    pi = tf.constant(np.pi,dtype=tf.float64)\n",
        "    theta_fiber = tf.constant([0.13757033666666668] ,dtype=tf.float64)\n",
        "    a_ratio = tf.constant([5.896298503333333], dtype=tf.float64)\n",
        "    theta0 = pi/2 - theta_fiber\n",
        "\n",
        "    a = tf.stack([tf.cos(theta0), tf.sin(theta0)])\n",
        "    b = tf.stack([tf.cos(theta0-pi/2), tf.sin(theta0-pi/2)])\n",
        "\n",
        "    D_00 = 1 / a_ratio * a[0]**2 + b[0]**2\n",
        "    D_01 = 1 / a_ratio * a[0] * a[1] + b[0] * b[1]\n",
        "    D_10 = 1 / a_ratio * a[0] * a[1] + b[0] * b[1]\n",
        "    D_11 = 1 / a_ratio * a[1]**2 + b[1]**2\n",
        "\n",
        "    c1 = c1_min + delta_c1 * coeff[0]\n",
        "    c2 = c2_min + delta_c2 * coeff[1]\n",
        "    c3 = c3_min + delta_c3 * coeff[2]\n",
        "    c4 = c4_min + delta_c4 * coeff[3]\n",
        "    c5 = c5_min + delta_c5 * coeff[4]\n",
        "    c6 = c6_min + delta_c6 * coeff[5]\n",
        "    c7 = c7_min + delta_c7 * coeff[6]\n",
        "    c8 = c8_min + delta_c8 * coeff[7]\n",
        "    c9 = c9_min + delta_c9 * coeff[8]\n",
        "    c10 = c10_min + delta_c10 * coeff[9]\n",
        "\n",
        "    coeff_true = tf.expand_dims(tf.concat([c1,c2,c3,c4,c5,c6,c7,c8,c9,c10], 0), 1)\n",
        "\n",
        "    return   (((u_x * D_00 * u_x + u_x * D_01 * u_y + u_y * D_10 * u_x + u_y * D_11 * u_y)))  - (1/(basis@coeff_true))**2\n",
        "\n",
        "@tf.function\n",
        "def r_PINN2(x,y):\n",
        "    input_data=tf.concat([x,y],1)\n",
        "    u = build_pinn(regularization_strength)(input_data)\n",
        "    u_x = tf.gradients(u,x)[0]\n",
        "    u_y = tf.gradients(u,y)[0]\n",
        "    u_grad = tf.transpose(tf.concat([u_x, u_y], axis=1))\n",
        "\n",
        "    pi = tf.constant(np.pi,dtype=tf.float64)\n",
        "    theta_fiber = tf.constant([0.13757033666666668] ,dtype=tf.float64)\n",
        "    a_ratio = tf.constant([5.896298503333333], dtype=tf.float64)\n",
        "    theta0 = pi/2 - theta_fiber\n",
        "\n",
        "    a = tf.stack([tf.cos(theta0), tf.sin(theta0)])\n",
        "    b = tf.stack([tf.cos(theta0-pi/2), tf.sin(theta0-pi/2)])\n",
        "\n",
        "    D_00 = 1 / a_ratio * a[0]**2 + b[0]**2\n",
        "    D_01 = 1 / a_ratio * a[0] * a[1] + b[0] * b[1]\n",
        "    D_10 = 1 / a_ratio * a[0] * a[1] + b[0] * b[1]\n",
        "    D_11 = 1 / a_ratio * a[1]**2 + b[1]**2\n",
        "\n",
        "    return  (((u_x * D_00 * u_x + u_x * D_01 * u_y + u_y * D_10 * u_x + u_y * D_11 * u_y)))  - (1/100)**2\n",
        "\n",
        "\n",
        "# neural network weight gradients\n",
        "@tf.function\n",
        "def grad(model,xcl,ycl,xmeas,ymeas,umeas,coeff,regularization_strength):\n",
        "    with tf.GradientTape(persistent=True) as tape:\n",
        "        loss_value = loss(xcl,ycl,xmeas,ymeas,umeas,coeff,regularization_strength)\n",
        "        grads = tape.gradient(loss_value,model.trainable_variables)\n",
        "        grads_weight= tape.gradient(loss_value,coeff)\n",
        "    return loss_value, grads, grads_weight\n",
        "    # neural network weight gradients\n",
        "\n",
        "@tf.function\n",
        "def grad2(model,xcl,ycl,xmeas,ymeas,umeas,regularization_strength):\n",
        "    with tf.GradientTape(persistent=True) as tape:\n",
        "        loss_value2 = loss2(xcl,ycl,xmeas,ymeas,umeas,regularization_strength)\n",
        "        grads2 = tape.gradient(loss_value2,model.trainable_variables)\n",
        "    return loss_value2, grads2"
      ]
    },
    {
      "cell_type": "code",
      "source": [
        "from tensorflow.keras import regularizers\n",
        "\n",
        "def build_pinn(data,regularization_strength):\n",
        "    PINN = tf.keras.Sequential([\n",
        "        tf.keras.layers.Dense(32, activation='relu',\n",
        "                              kernel_initializer=\"glorot_uniform\",\n",
        "                              kernel_regularizer=regularizers.l2(regularization_strength),\n",
        "                              dtype=tf.float64),\n",
        "        tf.keras.layers.Dense(64, activation='relu', input_shape=(2,),\n",
        "                              kernel_initializer=\"glorot_uniform\",\n",
        "                              kernel_regularizer=regularizers.l2(regularization_strength),\n",
        "                              dtype=tf.float64),\n",
        "        tf.keras.layers.Dense(128, activation='relu',\n",
        "                              kernel_initializer=\"glorot_uniform\",\n",
        "                              kernel_regularizer=regularizers.l2(regularization_strength),\n",
        "                              dtype=tf.float64),\n",
        "        tf.keras.layers.Dense(64, activation='relu', input_shape=(2,),\n",
        "                              kernel_initializer=\"glorot_uniform\",\n",
        "                              kernel_regularizer=regularizers.l2(regularization_strength),\n",
        "                              dtype=tf.float64),\n",
        "        tf.keras.layers.Dense(32, activation='relu',\n",
        "                              kernel_initializer=\"glorot_uniform\",\n",
        "                              kernel_regularizer=regularizers.l2(regularization_strength),\n",
        "                              dtype=tf.float64),\n",
        "        tf.keras.layers.Dense(1, activation=None,\n",
        "                              kernel_initializer=\"glorot_uniform\",\n",
        "                              kernel_regularizer=regularizers.l2(regularization_strength),\n",
        "                              dtype=tf.float64)\n",
        "    ])\n",
        "    return PINN\n",
        "\n"
      ],
      "metadata": {
        "id": "tM51pcFCBvdj"
      },
      "execution_count": 19,
      "outputs": []
    },
    {
      "cell_type": "code",
      "source": [
        "def checkpoint2_solution( x, y , t, regularization_strength):\n",
        "\n",
        "  xmeas_train, xmeas_val, ymeas_train, ymeas_val, tmeas_train, tmeas_val = train_test_split(x, y, t, test_size=0.05)\n",
        "  xmeas_train = tf.constant(xmeas_train.reshape(19, 1), dtype=tf.float64)\n",
        "  ymeas_train = tf.constant(ymeas_train.reshape(19, 1), dtype=tf.float64)\n",
        "  tmeas_train = tf.constant(tmeas_train.reshape(19, 1), dtype=tf.float64)\n",
        "  xmeas_val = tf.constant(xmeas_val.reshape(1, 1), dtype=tf.float64)\n",
        "  ymeas_val = tf.constant(ymeas_val.reshape(1, 1), dtype=tf.float64)\n",
        "  tmeas_val = tf.constant(tmeas_val.reshape(1, 1), dtype=tf.float64)\n",
        "\n",
        "  X, Y = np.meshgrid(np.linspace(-1.5,1.5,151), np.linspace(-1.5,1.5,151))\n",
        "\n",
        "  coeff=tf.Variable([[0.5],[0.5],[0.5],[0.5],[0.5],[0.5],[0.5],[0.5],[0.5],[0.5]], trainable=True, dtype=tf.float64)\n",
        "\n",
        "  tf_optimizer_PINN = tf.keras.optimizers.Adam(learning_rate=0.03,beta_1=0.99)\n",
        "  tf_optimizer_weights = tf.keras.optimizers.Adam(learning_rate=0.01,beta_1=0.99)\n",
        "\n",
        "\n",
        "  print()\n",
        "\n",
        "  for iter in range(100):\n",
        "\n",
        "    loss_value2,grads2 = grad2(xcl,ycl,xmeas_train, ymeas_train, tmeas_train,regularization_strength)\n",
        "\n",
        "    tf_optimizer_PINN.apply_gradients(zip(grads2,build_pinn.trainable_variables))\n",
        "\n",
        "    loss_value_val2, _= grad2( xcl, ycl, xmeas_val, ymeas_val, tmeas_val,regularization_strength)\n",
        "\n",
        "\n",
        "    if ((iter+1) % 100 == 0):\n",
        "      print('iter =  '+str(iter+1))\n",
        "      tf.print('loss =' , loss_value2)\n",
        "      tf.print('loss_val_param =' , loss_value_val2)\n",
        "\n",
        "      c1 = c1_min + delta_c1 * coeff[0]\n",
        "      c2 = c2_min + delta_c2 * coeff[1]\n",
        "      c3 = c3_min + delta_c3 * coeff[2]\n",
        "      c4 = c4_min + delta_c4 * coeff[3]\n",
        "      c5 = c5_min + delta_c5 * coeff[4]\n",
        "      c6 = c6_min + delta_c6 * coeff[5]\n",
        "      c7 = c7_min + delta_c7 * coeff[6]\n",
        "      c8 = c8_min + delta_c8 * coeff[7]\n",
        "      c9 = c9_min + delta_c9 * coeff[8]\n",
        "      c10 = c10_min + delta_c10 * coeff[9]\n",
        "\n",
        "      coeff_true = tf.expand_dims(tf.concat([c1,c2,c3,c4,c5,c6,c7,c8,c9,c10], 0), 1)\n",
        "      print(coeff_true.numpy())\n",
        "      print()\n",
        "\n",
        "\n",
        "  for iter in range(100):\n",
        "\n",
        "    loss_value,grads,grads_coeff = grad(xcl,ycl,xmeas_train, ymeas_train, tmeas_train,coeff, regularization_strength)\n",
        "\n",
        "    tf_optimizer_PINN.apply_gradients(zip(grads ,build_pinn.trainable_variables))\n",
        "    tf_optimizer_weights.apply_gradients(zip([grads_coeff], [coeff]))\n",
        "\n",
        "    loss_value_val, _, _ = grad( xcl, ycl, xmeas_val, ymeas_val, tmeas_val,coeff,regularization_strength)\n",
        "\n",
        "\n",
        "    if ((iter+1) % 100 == 0):\n",
        "      print('iter =  '+str(iter+1))\n",
        "      tf.print('loss =' , loss_value)\n",
        "      tf.print('loss_val_param =' , loss_value_val)\n",
        "\n",
        "      c1 = c1_min + delta_c1 * coeff[0]\n",
        "      c2 = c2_min + delta_c2 * coeff[1]\n",
        "      c3 = c3_min + delta_c3 * coeff[2]\n",
        "      c4 = c4_min + delta_c4 * coeff[3]\n",
        "      c5 = c5_min + delta_c5 * coeff[4]\n",
        "      c6 = c6_min + delta_c6 * coeff[5]\n",
        "      c7 = c7_min + delta_c7 * coeff[6]\n",
        "      c8 = c8_min + delta_c8 * coeff[7]\n",
        "      c9 = c9_min + delta_c9 * coeff[8]\n",
        "      c10 = c10_min + delta_c10 * coeff[9]\n",
        "\n",
        "      coeff_true = tf.expand_dims(tf.concat([c1,c2,c3,c4,c5,c6,c7,c8,c9,c10], 0), 1)\n",
        "      print(coeff_true.numpy())\n",
        "      print()\n",
        "\n",
        "\n",
        "\n",
        "  return regularization_strength, loss_value_val"
      ],
      "metadata": {
        "id": "uST9tU64B9fa"
      },
      "execution_count": 24,
      "outputs": []
    },
    {
      "cell_type": "code",
      "source": [
        "num_random_search = 10\n",
        "regularization_strengths = np.logspace(-6, 0, num=num_random_search)\n",
        "regularization_strengths"
      ],
      "metadata": {
        "colab": {
          "base_uri": "https://localhost:8080/"
        },
        "id": "f55RDRCWIWVA",
        "outputId": "2f8d337b-2680-4f55-c3ef-0e7ddf850613"
      },
      "execution_count": 17,
      "outputs": [
        {
          "output_type": "execute_result",
          "data": {
            "text/plain": [
              "array([1.00000000e-06, 4.64158883e-06, 2.15443469e-05, 1.00000000e-04,\n",
              "       4.64158883e-04, 2.15443469e-03, 1.00000000e-02, 4.64158883e-02,\n",
              "       2.15443469e-01, 1.00000000e+00])"
            ]
          },
          "metadata": {},
          "execution_count": 17
        }
      ]
    },
    {
      "cell_type": "code",
      "source": [
        "regularization_strength, loss_value_val= checkpoint2_solution(x_meas, y_meas, t_meas,regularization_strength=0.1)"
      ],
      "metadata": {
        "colab": {
          "base_uri": "https://localhost:8080/",
          "height": 1000
        },
        "id": "iJOa3APRJCOd",
        "outputId": "03170aca-70a6-45ab-acbe-e8bd7dd680b1"
      },
      "execution_count": 27,
      "outputs": [
        {
          "output_type": "stream",
          "name": "stdout",
          "text": [
            "\n"
          ]
        },
        {
          "output_type": "error",
          "ename": "TypeError",
          "evalue": "Binding inputs to tf.function failed due to `missing a required argument: 'regularization_strength'`. Received args: (<tf.Tensor: shape=(22801, 1), dtype=float64, numpy=\narray([[ 0.22830158],\n       [-0.11790101],\n       [ 0.13515415],\n       ...,\n       [ 0.56502407],\n       [ 0.29046929],\n       [ 0.0540059 ]])>, <tf.Tensor: shape=(22801, 1), dtype=float64, numpy=\narray([[-0.65131181],\n       [ 0.97227213],\n       [-0.47028016],\n       ...,\n       [ 0.4158394 ],\n       [-1.18206263],\n       [-0.03287141]])>, <tf.Tensor: shape=(19, 1), dtype=float64, numpy=\narray([[ 0.9 ],\n       [ 0.5 ],\n       [-0.7 ],\n       [ 1.04],\n       [-0.7 ],\n       [ 0.48],\n       [ 0.34],\n       [-0.28],\n       [ 0.7 ],\n       [-1.3 ],\n       [-1.28],\n       [-0.5 ],\n       [-0.14],\n       [ 1.3 ],\n       [-1.5 ],\n       [-1.48],\n       [-0.1 ],\n       [ 1.5 ],\n       [-0.5 ]])>, <tf.Tensor: shape=(19, 1), dtype=float64, numpy=\narray([[-0.94],\n       [ 0.  ],\n       [-0.12],\n       [-1.08],\n       [ 0.06],\n       [-0.5 ],\n       [-0.36],\n       [ 1.28],\n       [ 0.  ],\n       [ 0.12],\n       [-0.22],\n       [ 0.04],\n       [ 0.68],\n       [ 0.  ],\n       [ 0.12],\n       [-0.26],\n       [ 0.48],\n       [ 0.  ],\n       [-0.08]])>, <tf.Tensor: shape=(19, 1), dtype=float64, numpy=\narray([[0.01276158],\n       [0.01379244],\n       [0.02306498],\n       [0.01457582],\n       [0.02397254],\n       [0.01080015],\n       [0.01204229],\n       [0.04076596],\n       [0.01283708],\n       [0.02991459],\n       [0.02867518],\n       [0.02212399],\n       [0.02827464],\n       [0.01113296],\n       [0.03183173],\n       [0.0306198 ],\n       [0.02446409],\n       [0.01113459],\n       [0.02123072]])>, 0.1) and kwargs: {} for signature: (model, xcl, ycl, xmeas, ymeas, umeas, regularization_strength).",
          "traceback": [
            "\u001b[0;31m---------------------------------------------------------------------------\u001b[0m",
            "\u001b[0;31mTypeError\u001b[0m                                 Traceback (most recent call last)",
            "\u001b[0;32m<ipython-input-27-360284e9501d>\u001b[0m in \u001b[0;36m<cell line: 1>\u001b[0;34m()\u001b[0m\n\u001b[0;32m----> 1\u001b[0;31m \u001b[0mregularization_strength\u001b[0m\u001b[0;34m,\u001b[0m \u001b[0mloss_value_val\u001b[0m\u001b[0;34m=\u001b[0m \u001b[0mcheckpoint2_solution\u001b[0m\u001b[0;34m(\u001b[0m\u001b[0mx_meas\u001b[0m\u001b[0;34m,\u001b[0m \u001b[0my_meas\u001b[0m\u001b[0;34m,\u001b[0m \u001b[0mt_meas\u001b[0m\u001b[0;34m,\u001b[0m\u001b[0mregularization_strength\u001b[0m\u001b[0;34m=\u001b[0m\u001b[0;36m0.1\u001b[0m\u001b[0;34m)\u001b[0m\u001b[0;34m\u001b[0m\u001b[0;34m\u001b[0m\u001b[0m\n\u001b[0m",
            "\u001b[0;32m<ipython-input-24-2661a8acf60d>\u001b[0m in \u001b[0;36mcheckpoint2_solution\u001b[0;34m(x, y, t, regularization_strength)\u001b[0m\n\u001b[1;32m     21\u001b[0m   \u001b[0;32mfor\u001b[0m \u001b[0miter\u001b[0m \u001b[0;32min\u001b[0m \u001b[0mrange\u001b[0m\u001b[0;34m(\u001b[0m\u001b[0;36m100\u001b[0m\u001b[0;34m)\u001b[0m\u001b[0;34m:\u001b[0m\u001b[0;34m\u001b[0m\u001b[0;34m\u001b[0m\u001b[0m\n\u001b[1;32m     22\u001b[0m \u001b[0;34m\u001b[0m\u001b[0m\n\u001b[0;32m---> 23\u001b[0;31m     \u001b[0mloss_value2\u001b[0m\u001b[0;34m,\u001b[0m\u001b[0mgrads2\u001b[0m \u001b[0;34m=\u001b[0m \u001b[0mgrad2\u001b[0m\u001b[0;34m(\u001b[0m\u001b[0mxcl\u001b[0m\u001b[0;34m,\u001b[0m\u001b[0mycl\u001b[0m\u001b[0;34m,\u001b[0m\u001b[0mxmeas_train\u001b[0m\u001b[0;34m,\u001b[0m \u001b[0mymeas_train\u001b[0m\u001b[0;34m,\u001b[0m \u001b[0mtmeas_train\u001b[0m\u001b[0;34m,\u001b[0m\u001b[0mregularization_strength\u001b[0m\u001b[0;34m)\u001b[0m\u001b[0;34m\u001b[0m\u001b[0;34m\u001b[0m\u001b[0m\n\u001b[0m\u001b[1;32m     24\u001b[0m \u001b[0;34m\u001b[0m\u001b[0m\n\u001b[1;32m     25\u001b[0m     \u001b[0mtf_optimizer_PINN\u001b[0m\u001b[0;34m.\u001b[0m\u001b[0mapply_gradients\u001b[0m\u001b[0;34m(\u001b[0m\u001b[0mzip\u001b[0m\u001b[0;34m(\u001b[0m\u001b[0mgrads2\u001b[0m\u001b[0;34m,\u001b[0m\u001b[0mbuild_pinn\u001b[0m\u001b[0;34m.\u001b[0m\u001b[0mtrainable_variables\u001b[0m\u001b[0;34m)\u001b[0m\u001b[0;34m)\u001b[0m\u001b[0;34m\u001b[0m\u001b[0;34m\u001b[0m\u001b[0m\n",
            "\u001b[0;32m/usr/local/lib/python3.10/dist-packages/tensorflow/python/util/traceback_utils.py\u001b[0m in \u001b[0;36merror_handler\u001b[0;34m(*args, **kwargs)\u001b[0m\n\u001b[1;32m    151\u001b[0m     \u001b[0;32mexcept\u001b[0m \u001b[0mException\u001b[0m \u001b[0;32mas\u001b[0m \u001b[0me\u001b[0m\u001b[0;34m:\u001b[0m\u001b[0;34m\u001b[0m\u001b[0;34m\u001b[0m\u001b[0m\n\u001b[1;32m    152\u001b[0m       \u001b[0mfiltered_tb\u001b[0m \u001b[0;34m=\u001b[0m \u001b[0m_process_traceback_frames\u001b[0m\u001b[0;34m(\u001b[0m\u001b[0me\u001b[0m\u001b[0;34m.\u001b[0m\u001b[0m__traceback__\u001b[0m\u001b[0;34m)\u001b[0m\u001b[0;34m\u001b[0m\u001b[0;34m\u001b[0m\u001b[0m\n\u001b[0;32m--> 153\u001b[0;31m       \u001b[0;32mraise\u001b[0m \u001b[0me\u001b[0m\u001b[0;34m.\u001b[0m\u001b[0mwith_traceback\u001b[0m\u001b[0;34m(\u001b[0m\u001b[0mfiltered_tb\u001b[0m\u001b[0;34m)\u001b[0m \u001b[0;32mfrom\u001b[0m \u001b[0;32mNone\u001b[0m\u001b[0;34m\u001b[0m\u001b[0;34m\u001b[0m\u001b[0m\n\u001b[0m\u001b[1;32m    154\u001b[0m     \u001b[0;32mfinally\u001b[0m\u001b[0;34m:\u001b[0m\u001b[0;34m\u001b[0m\u001b[0;34m\u001b[0m\u001b[0m\n\u001b[1;32m    155\u001b[0m       \u001b[0;32mdel\u001b[0m \u001b[0mfiltered_tb\u001b[0m\u001b[0;34m\u001b[0m\u001b[0;34m\u001b[0m\u001b[0m\n",
            "\u001b[0;32m/usr/local/lib/python3.10/dist-packages/tensorflow/python/eager/polymorphic_function/function_type_utils.py\u001b[0m in \u001b[0;36mbind_function_inputs\u001b[0;34m(args, kwargs, function_type, default_values)\u001b[0m\n\u001b[1;32m    444\u001b[0m     )\n\u001b[1;32m    445\u001b[0m   \u001b[0;32mexcept\u001b[0m \u001b[0mException\u001b[0m \u001b[0;32mas\u001b[0m \u001b[0me\u001b[0m\u001b[0;34m:\u001b[0m\u001b[0;34m\u001b[0m\u001b[0;34m\u001b[0m\u001b[0m\n\u001b[0;32m--> 446\u001b[0;31m     raise TypeError(\n\u001b[0m\u001b[1;32m    447\u001b[0m         \u001b[0;34mf\"Binding inputs to tf.function failed due to `{e}`. \"\u001b[0m\u001b[0;34m\u001b[0m\u001b[0;34m\u001b[0m\u001b[0m\n\u001b[1;32m    448\u001b[0m         \u001b[0;34mf\"Received args: {args} and kwargs: {sanitized_kwargs} for signature:\"\u001b[0m\u001b[0;34m\u001b[0m\u001b[0;34m\u001b[0m\u001b[0m\n",
            "\u001b[0;31mTypeError\u001b[0m: Binding inputs to tf.function failed due to `missing a required argument: 'regularization_strength'`. Received args: (<tf.Tensor: shape=(22801, 1), dtype=float64, numpy=\narray([[ 0.22830158],\n       [-0.11790101],\n       [ 0.13515415],\n       ...,\n       [ 0.56502407],\n       [ 0.29046929],\n       [ 0.0540059 ]])>, <tf.Tensor: shape=(22801, 1), dtype=float64, numpy=\narray([[-0.65131181],\n       [ 0.97227213],\n       [-0.47028016],\n       ...,\n       [ 0.4158394 ],\n       [-1.18206263],\n       [-0.03287141]])>, <tf.Tensor: shape=(19, 1), dtype=float64, numpy=\narray([[ 0.9 ],\n       [ 0.5 ],\n       [-0.7 ],\n       [ 1.04],\n       [-0.7 ],\n       [ 0.48],\n       [ 0.34],\n       [-0.28],\n       [ 0.7 ],\n       [-1.3 ],\n       [-1.28],\n       [-0.5 ],\n       [-0.14],\n       [ 1.3 ],\n       [-1.5 ],\n       [-1.48],\n       [-0.1 ],\n       [ 1.5 ],\n       [-0.5 ]])>, <tf.Tensor: shape=(19, 1), dtype=float64, numpy=\narray([[-0.94],\n       [ 0.  ],\n       [-0.12],\n       [-1.08],\n       [ 0.06],\n       [-0.5 ],\n       [-0.36],\n       [ 1.28],\n       [ 0.  ],\n       [ 0.12],\n       [-0.22],\n       [ 0.04],\n       [ 0.68],\n       [ 0.  ],\n       [ 0.12],\n       [-0.26],\n       [ 0.48],\n       [ 0.  ],\n       [-0.08]])>, <tf.Tensor: shape=(19, 1), dtype=float64, numpy=\narray([[0.01276158],\n       [0.01379244],\n       [0.02306498],\n       [0.01457582],\n       [0.02397254],\n       [0.01080015],\n       [0.01204229],\n       [0.04076596],\n       [0.01283708],\n       [0.02991459],\n       [0.02867518],\n       [0.02212399],\n       [0.02827464],\n       [0.01113296],\n       [0.03183173],\n       [0.0306198 ],\n       [0.02446409],\n       [0.01113459],\n       [0.02123072]])>, 0.1) and kwargs: {} for signature: (model, xcl, ycl, xmeas, ymeas, umeas, regularization_strength)."
          ]
        }
      ]
    },
    {
      "cell_type": "code",
      "source": [
        "ind_disp = 64\n",
        "x_meas = CP3data[ind_disp][0]\n",
        "y_meas = CP3data[ind_disp][1]\n",
        "t_meas = CP3data[ind_disp][2]\n",
        "speed_field = CP3estimate[ind_disp][0]\n",
        "\n",
        "num_random_search = 10\n",
        "regularization_strengths = np.logspace(-6, 0, num=num_random_search)\n",
        "\n",
        "best_val_loss = float('inf')\n",
        "best_regularization_strength = None\n",
        "\n",
        "\n",
        "for regularization_strength in regularization_strengths:\n",
        "  regularization_strength, loss_value_val= checkpoint2_solution(x_meas, y_meas, t_meas,regularization_strength)\n",
        "  if  loss_value_val < best_val_loss:\n",
        "      best_val_loss =  loss_value_val\n",
        "      best_regularization_strength = regularization_strength\n",
        "  print(f'Best Regularization strength: {best_regularization_strength}, Best Validation Loss: { best_val_loss}')\n"
      ],
      "metadata": {
        "colab": {
          "base_uri": "https://localhost:8080/",
          "height": 1000
        },
        "id": "A2YBEKL3FxSI",
        "outputId": "dc7de3bd-53ed-4364-a999-e2db59429cb2"
      },
      "execution_count": 21,
      "outputs": [
        {
          "output_type": "stream",
          "name": "stdout",
          "text": [
            "\n"
          ]
        },
        {
          "output_type": "error",
          "ename": "TypeError",
          "evalue": "Binding inputs to tf.function failed due to `missing a required argument: 'regularization_strength'`. Received args: (<tf.Tensor: shape=(22801, 1), dtype=float64, numpy=\narray([[ 0.22830158],\n       [-0.11790101],\n       [ 0.13515415],\n       ...,\n       [ 0.56502407],\n       [ 0.29046929],\n       [ 0.0540059 ]])>, <tf.Tensor: shape=(22801, 1), dtype=float64, numpy=\narray([[-0.65131181],\n       [ 0.97227213],\n       [-0.47028016],\n       ...,\n       [ 0.4158394 ],\n       [-1.18206263],\n       [-0.03287141]])>, <tf.Tensor: shape=(19, 1), dtype=float64, numpy=\narray([[-0.5 ],\n       [-0.1 ],\n       [ 1.5 ],\n       [ 1.3 ],\n       [-0.14],\n       [-0.28],\n       [ 0.34],\n       [-0.5 ],\n       [-1.28],\n       [ 0.7 ],\n       [ 0.48],\n       [-0.7 ],\n       [ 1.04],\n       [-0.7 ],\n       [-1.48],\n       [-1.3 ],\n       [ 0.5 ],\n       [-0.32],\n       [ 0.9 ]])>, <tf.Tensor: shape=(19, 1), dtype=float64, numpy=\narray([[ 0.04],\n       [ 0.48],\n       [ 0.  ],\n       [ 0.  ],\n       [ 0.68],\n       [ 1.28],\n       [-0.36],\n       [-0.08],\n       [-0.22],\n       [ 0.  ],\n       [-0.5 ],\n       [-0.12],\n       [-1.08],\n       [ 0.06],\n       [-0.26],\n       [ 0.12],\n       [ 0.  ],\n       [ 1.46],\n       [-0.94]])>, <tf.Tensor: shape=(19, 1), dtype=float64, numpy=\narray([[0.02212399],\n       [0.02446409],\n       [0.01113459],\n       [0.01113296],\n       [0.02827464],\n       [0.04076596],\n       [0.01204229],\n       [0.02123072],\n       [0.02867518],\n       [0.01283708],\n       [0.01080015],\n       [0.02306498],\n       [0.01457582],\n       [0.02397254],\n       [0.0306198 ],\n       [0.02991459],\n       [0.01379244],\n       [0.04372048],\n       [0.01276158]])>, 1e-06) and kwargs: {} for signature: (model, xcl, ycl, xmeas, ymeas, umeas, regularization_strength).",
          "traceback": [
            "\u001b[0;31m---------------------------------------------------------------------------\u001b[0m",
            "\u001b[0;31mTypeError\u001b[0m                                 Traceback (most recent call last)",
            "\u001b[0;32m<ipython-input-21-c0ba7686d4f8>\u001b[0m in \u001b[0;36m<cell line: 14>\u001b[0;34m()\u001b[0m\n\u001b[1;32m     13\u001b[0m \u001b[0;34m\u001b[0m\u001b[0m\n\u001b[1;32m     14\u001b[0m \u001b[0;32mfor\u001b[0m \u001b[0mregularization_strength\u001b[0m \u001b[0;32min\u001b[0m \u001b[0mregularization_strengths\u001b[0m\u001b[0;34m:\u001b[0m\u001b[0;34m\u001b[0m\u001b[0;34m\u001b[0m\u001b[0m\n\u001b[0;32m---> 15\u001b[0;31m   \u001b[0mregularization_strength\u001b[0m\u001b[0;34m,\u001b[0m \u001b[0mloss_value_val\u001b[0m\u001b[0;34m=\u001b[0m \u001b[0mcheckpoint2_solution\u001b[0m\u001b[0;34m(\u001b[0m\u001b[0mx_meas\u001b[0m\u001b[0;34m,\u001b[0m \u001b[0my_meas\u001b[0m\u001b[0;34m,\u001b[0m \u001b[0mt_meas\u001b[0m\u001b[0;34m,\u001b[0m\u001b[0mregularization_strength\u001b[0m\u001b[0;34m)\u001b[0m\u001b[0;34m\u001b[0m\u001b[0;34m\u001b[0m\u001b[0m\n\u001b[0m\u001b[1;32m     16\u001b[0m   \u001b[0;32mif\u001b[0m  \u001b[0mloss_value_val\u001b[0m \u001b[0;34m<\u001b[0m \u001b[0mbest_val_loss\u001b[0m\u001b[0;34m:\u001b[0m\u001b[0;34m\u001b[0m\u001b[0;34m\u001b[0m\u001b[0m\n\u001b[1;32m     17\u001b[0m       \u001b[0mbest_val_loss\u001b[0m \u001b[0;34m=\u001b[0m  \u001b[0mloss_value_val\u001b[0m\u001b[0;34m\u001b[0m\u001b[0;34m\u001b[0m\u001b[0m\n",
            "\u001b[0;32m<ipython-input-20-2661a8acf60d>\u001b[0m in \u001b[0;36mcheckpoint2_solution\u001b[0;34m(x, y, t, regularization_strength)\u001b[0m\n\u001b[1;32m     21\u001b[0m   \u001b[0;32mfor\u001b[0m \u001b[0miter\u001b[0m \u001b[0;32min\u001b[0m \u001b[0mrange\u001b[0m\u001b[0;34m(\u001b[0m\u001b[0;36m100\u001b[0m\u001b[0;34m)\u001b[0m\u001b[0;34m:\u001b[0m\u001b[0;34m\u001b[0m\u001b[0;34m\u001b[0m\u001b[0m\n\u001b[1;32m     22\u001b[0m \u001b[0;34m\u001b[0m\u001b[0m\n\u001b[0;32m---> 23\u001b[0;31m     \u001b[0mloss_value2\u001b[0m\u001b[0;34m,\u001b[0m\u001b[0mgrads2\u001b[0m \u001b[0;34m=\u001b[0m \u001b[0mgrad2\u001b[0m\u001b[0;34m(\u001b[0m\u001b[0mxcl\u001b[0m\u001b[0;34m,\u001b[0m\u001b[0mycl\u001b[0m\u001b[0;34m,\u001b[0m\u001b[0mxmeas_train\u001b[0m\u001b[0;34m,\u001b[0m \u001b[0mymeas_train\u001b[0m\u001b[0;34m,\u001b[0m \u001b[0mtmeas_train\u001b[0m\u001b[0;34m,\u001b[0m\u001b[0mregularization_strength\u001b[0m\u001b[0;34m)\u001b[0m\u001b[0;34m\u001b[0m\u001b[0;34m\u001b[0m\u001b[0m\n\u001b[0m\u001b[1;32m     24\u001b[0m \u001b[0;34m\u001b[0m\u001b[0m\n\u001b[1;32m     25\u001b[0m     \u001b[0mtf_optimizer_PINN\u001b[0m\u001b[0;34m.\u001b[0m\u001b[0mapply_gradients\u001b[0m\u001b[0;34m(\u001b[0m\u001b[0mzip\u001b[0m\u001b[0;34m(\u001b[0m\u001b[0mgrads2\u001b[0m\u001b[0;34m,\u001b[0m\u001b[0mbuild_pinn\u001b[0m\u001b[0;34m.\u001b[0m\u001b[0mtrainable_variables\u001b[0m\u001b[0;34m)\u001b[0m\u001b[0;34m)\u001b[0m\u001b[0;34m\u001b[0m\u001b[0;34m\u001b[0m\u001b[0m\n",
            "\u001b[0;32m/usr/local/lib/python3.10/dist-packages/tensorflow/python/util/traceback_utils.py\u001b[0m in \u001b[0;36merror_handler\u001b[0;34m(*args, **kwargs)\u001b[0m\n\u001b[1;32m    151\u001b[0m     \u001b[0;32mexcept\u001b[0m \u001b[0mException\u001b[0m \u001b[0;32mas\u001b[0m \u001b[0me\u001b[0m\u001b[0;34m:\u001b[0m\u001b[0;34m\u001b[0m\u001b[0;34m\u001b[0m\u001b[0m\n\u001b[1;32m    152\u001b[0m       \u001b[0mfiltered_tb\u001b[0m \u001b[0;34m=\u001b[0m \u001b[0m_process_traceback_frames\u001b[0m\u001b[0;34m(\u001b[0m\u001b[0me\u001b[0m\u001b[0;34m.\u001b[0m\u001b[0m__traceback__\u001b[0m\u001b[0;34m)\u001b[0m\u001b[0;34m\u001b[0m\u001b[0;34m\u001b[0m\u001b[0m\n\u001b[0;32m--> 153\u001b[0;31m       \u001b[0;32mraise\u001b[0m \u001b[0me\u001b[0m\u001b[0;34m.\u001b[0m\u001b[0mwith_traceback\u001b[0m\u001b[0;34m(\u001b[0m\u001b[0mfiltered_tb\u001b[0m\u001b[0;34m)\u001b[0m \u001b[0;32mfrom\u001b[0m \u001b[0;32mNone\u001b[0m\u001b[0;34m\u001b[0m\u001b[0;34m\u001b[0m\u001b[0m\n\u001b[0m\u001b[1;32m    154\u001b[0m     \u001b[0;32mfinally\u001b[0m\u001b[0;34m:\u001b[0m\u001b[0;34m\u001b[0m\u001b[0;34m\u001b[0m\u001b[0m\n\u001b[1;32m    155\u001b[0m       \u001b[0;32mdel\u001b[0m \u001b[0mfiltered_tb\u001b[0m\u001b[0;34m\u001b[0m\u001b[0;34m\u001b[0m\u001b[0m\n",
            "\u001b[0;32m/usr/local/lib/python3.10/dist-packages/tensorflow/python/eager/polymorphic_function/function_type_utils.py\u001b[0m in \u001b[0;36mbind_function_inputs\u001b[0;34m(args, kwargs, function_type, default_values)\u001b[0m\n\u001b[1;32m    444\u001b[0m     )\n\u001b[1;32m    445\u001b[0m   \u001b[0;32mexcept\u001b[0m \u001b[0mException\u001b[0m \u001b[0;32mas\u001b[0m \u001b[0me\u001b[0m\u001b[0;34m:\u001b[0m\u001b[0;34m\u001b[0m\u001b[0;34m\u001b[0m\u001b[0m\n\u001b[0;32m--> 446\u001b[0;31m     raise TypeError(\n\u001b[0m\u001b[1;32m    447\u001b[0m         \u001b[0;34mf\"Binding inputs to tf.function failed due to `{e}`. \"\u001b[0m\u001b[0;34m\u001b[0m\u001b[0;34m\u001b[0m\u001b[0m\n\u001b[1;32m    448\u001b[0m         \u001b[0;34mf\"Received args: {args} and kwargs: {sanitized_kwargs} for signature:\"\u001b[0m\u001b[0;34m\u001b[0m\u001b[0;34m\u001b[0m\u001b[0m\n",
            "\u001b[0;31mTypeError\u001b[0m: Binding inputs to tf.function failed due to `missing a required argument: 'regularization_strength'`. Received args: (<tf.Tensor: shape=(22801, 1), dtype=float64, numpy=\narray([[ 0.22830158],\n       [-0.11790101],\n       [ 0.13515415],\n       ...,\n       [ 0.56502407],\n       [ 0.29046929],\n       [ 0.0540059 ]])>, <tf.Tensor: shape=(22801, 1), dtype=float64, numpy=\narray([[-0.65131181],\n       [ 0.97227213],\n       [-0.47028016],\n       ...,\n       [ 0.4158394 ],\n       [-1.18206263],\n       [-0.03287141]])>, <tf.Tensor: shape=(19, 1), dtype=float64, numpy=\narray([[-0.5 ],\n       [-0.1 ],\n       [ 1.5 ],\n       [ 1.3 ],\n       [-0.14],\n       [-0.28],\n       [ 0.34],\n       [-0.5 ],\n       [-1.28],\n       [ 0.7 ],\n       [ 0.48],\n       [-0.7 ],\n       [ 1.04],\n       [-0.7 ],\n       [-1.48],\n       [-1.3 ],\n       [ 0.5 ],\n       [-0.32],\n       [ 0.9 ]])>, <tf.Tensor: shape=(19, 1), dtype=float64, numpy=\narray([[ 0.04],\n       [ 0.48],\n       [ 0.  ],\n       [ 0.  ],\n       [ 0.68],\n       [ 1.28],\n       [-0.36],\n       [-0.08],\n       [-0.22],\n       [ 0.  ],\n       [-0.5 ],\n       [-0.12],\n       [-1.08],\n       [ 0.06],\n       [-0.26],\n       [ 0.12],\n       [ 0.  ],\n       [ 1.46],\n       [-0.94]])>, <tf.Tensor: shape=(19, 1), dtype=float64, numpy=\narray([[0.02212399],\n       [0.02446409],\n       [0.01113459],\n       [0.01113296],\n       [0.02827464],\n       [0.04076596],\n       [0.01204229],\n       [0.02123072],\n       [0.02867518],\n       [0.01283708],\n       [0.01080015],\n       [0.02306498],\n       [0.01457582],\n       [0.02397254],\n       [0.0306198 ],\n       [0.02991459],\n       [0.01379244],\n       [0.04372048],\n       [0.01276158]])>, 1e-06) and kwargs: {} for signature: (model, xcl, ycl, xmeas, ymeas, umeas, regularization_strength)."
          ]
        }
      ]
    }
  ]
}