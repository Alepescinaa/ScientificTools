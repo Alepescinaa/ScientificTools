{
  "cells": [
    {
      "cell_type": "markdown",
      "metadata": {
        "id": "view-in-github",
        "colab_type": "text"
      },
      "source": [
        "<a href=\"https://colab.research.google.com/github/Alepescinaa/ScientificTools/blob/main/Project1/Cp2/PINN.ipynb\" target=\"_parent\"><img src=\"https://colab.research.google.com/assets/colab-badge.svg\" alt=\"Open In Colab\"/></a>"
      ]
    },
    {
      "cell_type": "markdown",
      "metadata": {
        "id": "9QxtRkHFzOQi"
      },
      "source": [
        "# Exercises: physics-informed neural network\n",
        "\n",
        "Exercise on the implementation of physics-informed neural network.\n",
        "\n",
        "Date: 2024\n",
        "\n",
        "Course: 056936 - SCIENTIFIC COMPUTING TOOLS FOR ADVANCED MATHEMATICAL MODELLING (PAGANI STEFANO) [2023-24].\n",
        "\n",
        "Example adapted from this [notebook](https://colab.research.google.com/drive/1qBrbgevkSBqqYc8bOPiaoJG1MBrBrluN?usp=share_link)."
      ]
    },
    {
      "cell_type": "markdown",
      "metadata": {
        "id": "f-vC4ZgNMNSA"
      },
      "source": [
        "\n",
        "Let us consider the problem\n",
        "\n",
        "\\begin{aligned}\n",
        "  & v_f *\\sqrt(\\nabla u\\cdot D\\nabla u) =1  \\,, \\quad (x,y) \\in [-1.5,1.5] \\times [-1.5,1.5]\\,\\\\\n",
        "\\end{aligned}\n",
        "\n",
        "where $\\nu$ is unknown. We consider the PINN framework for solving the state/parameter estimation."
      ]
    },
    {
      "cell_type": "code",
      "execution_count": 44,
      "metadata": {
        "id": "XJzSWQcWh85s"
      },
      "outputs": [],
      "source": [
        "# import required libraries\n",
        "\n",
        "import tensorflow as tf\n",
        "import numpy as np\n",
        "import scipy.io\n",
        "from tensorflow import keras\n",
        "import matplotlib.pyplot as plt\n",
        "from mpl_toolkits.axes_grid1 import make_axes_locatable\n",
        "!pip -q install pyDOE\n",
        "from pyDOE import lhs  # for latin hypercube sampling\n"
      ]
    },
    {
      "cell_type": "code",
      "execution_count": 45,
      "metadata": {
        "id": "iPZ7AMmXMNSB"
      },
      "outputs": [],
      "source": [
        "# set seed for reproducibility\n",
        "tf.random.set_seed(42)\n",
        "np.random.seed(42)"
      ]
    },
    {
      "cell_type": "code",
      "source": [
        "!git clone https://github.com/Alepescinaa/ScientificTools\n",
        "%cd ScientificTools/Project1/Cp2"
      ],
      "metadata": {
        "colab": {
          "base_uri": "https://localhost:8080/"
        },
        "id": "81xKLGYAPWAn",
        "outputId": "3f1a89b7-f5e3-4c24-8ff3-e06ad795f7cf"
      },
      "execution_count": 46,
      "outputs": [
        {
          "output_type": "stream",
          "name": "stdout",
          "text": [
            "Cloning into 'ScientificTools'...\n",
            "remote: Enumerating objects: 296, done.\u001b[K\n",
            "remote: Counting objects: 100% (140/140), done.\u001b[K\n",
            "remote: Compressing objects: 100% (124/124), done.\u001b[K\n",
            "remote: Total 296 (delta 39), reused 1 (delta 1), pack-reused 156\u001b[K\n",
            "Receiving objects: 100% (296/296), 59.84 MiB | 11.93 MiB/s, done.\n",
            "Resolving deltas: 100% (77/77), done.\n",
            "/content/ScientificTools/Project1/Cp2/ScientificTools/Project1/Cp2\n"
          ]
        }
      ]
    },
    {
      "cell_type": "code",
      "source": [
        "\n",
        "# loading of the dataset\n",
        "\n",
        "CP2data = np.load(\"CP2data.npz\")\n",
        "CP2data = CP2data['arr_0']"
      ],
      "metadata": {
        "id": "DyWUj69OzdAk"
      },
      "execution_count": 47,
      "outputs": []
    },
    {
      "cell_type": "code",
      "source": [
        "# loading of the estimate\n",
        "\n",
        "CP2estimate = np.load(\"CP2estimate.npz\")\n",
        "CP2estimate = CP2estimate['arr_0']"
      ],
      "metadata": {
        "id": "uZuKEdpozkw5"
      },
      "execution_count": 48,
      "outputs": []
    },
    {
      "cell_type": "markdown",
      "metadata": {
        "id": "klhbmUomMNSC"
      },
      "source": [
        "# Solution"
      ]
    },
    {
      "cell_type": "code",
      "source": [
        "X, Y = np.meshgrid(np.linspace(-1.5,1.5,1501), np.linspace(-1.5,1.5,1501))\n",
        "X_flat = tf.convert_to_tensor(np.hstack((X.flatten()[:,None],Y.flatten()[:,None])),dtype=tf.float64)\n",
        "x0 = 1.5\n",
        "#activation_time = anysotropic_FMM( x0 , y0 , X, Y, sigma_11,sigma_12, sigma_21, sigma_22 )"
      ],
      "metadata": {
        "id": "sE3cYo19z9-6"
      },
      "execution_count": 49,
      "outputs": []
    },
    {
      "cell_type": "code",
      "execution_count": 88,
      "metadata": {
        "id": "wqZ_fC-1KON_"
      },
      "outputs": [],
      "source": [
        "# PINN loss function\n",
        "def loss(xcl,ycl,xmeas,ymeas,umeas,param):\n",
        "    umeas_pred = PINN(tf.concat([xmeas,ymeas],1))\n",
        "    r_pred   = r_PINN(xcl,ycl,param)\n",
        "\n",
        "    # loss components\n",
        "    mse_meas  = tf.reduce_mean(tf.pow(umeas-umeas_pred,2))\n",
        "    mse_r  = tf.reduce_mean(tf.pow(r_pred,2))\n",
        "\n",
        "    u_mesh= tf.reshape(PINN(X_flat),[1501,1501])\n",
        "    rounded_param = tf.squeeze(tf.cast(tf.round((param[2] + 1.5) * 500), tf.int32))\n",
        "    mse_bc = tf.pow(u_mesh[rounded_param, 1500], 2)\n",
        "\n",
        "\n",
        "    return mse_r+mse_meas+mse_bc # mse_0+mse_r+mse_lb+mse_ub\n",
        "\n",
        "# neural network weight gradients\n",
        "@tf.function\n",
        "def grad(model,xcl,ycl,xmeas,ymeas,umeas,param):\n",
        "    with tf.GradientTape(persistent=True) as tape:\n",
        "        loss_value = loss(xcl,ycl,xmeas,ymeas,umeas,param)\n",
        "        grads = tape.gradient(loss_value,model.trainable_variables)\n",
        "        grad_param = tape.gradient(loss_value,param)\n",
        "    return loss_value, grads, grad_param\n"
      ]
    },
    {
      "cell_type": "code",
      "execution_count": 67,
      "metadata": {
        "id": "cXUPXsj0KUK0"
      },
      "outputs": [],
      "source": [
        "# collocation points\n",
        "Ncl = 5000\n",
        "Xcl = lhs(2,Ncl)\n",
        "xcl = tf.expand_dims(tf.cast(-1.5+(3.0)*Xcl[:,0],dtype=tf.float64),axis=-1)\n",
        "ycl = tf.expand_dims(tf.cast(-1.5+(3.0)*Xcl[:,1],dtype=tf.float64),axis=-1)\n",
        "X_coll = tf.concat([xcl,ycl],1)\n",
        "\n",
        "# measurement points\n",
        "ind_disp=4\n",
        "xmeas = CP2data[ind_disp][0]\n",
        "ymeas = CP2data[ind_disp][1]\n",
        "tmeas = CP2data[ind_disp][2]\n",
        "xmeas = tf.constant(xmeas.reshape(20, 1), dtype=tf.float64)\n",
        "ymeas = tf.constant(ymeas.reshape(20, 1), dtype=tf.float64)\n",
        "tmeas = tf.constant(tmeas.reshape(20, 1), dtype=tf.float64)\n",
        "\n",
        "\n"
      ]
    },
    {
      "cell_type": "code",
      "execution_count": 68,
      "metadata": {
        "id": "z_cOmQDHKX4k"
      },
      "outputs": [],
      "source": [
        "# training loop\n",
        "\n",
        "# initialize new instance of NN\n",
        "PINN = tf.keras.Sequential([\n",
        "    tf.keras.layers.Dense(8, activation='tanh', input_shape=(2,),kernel_initializer=\"glorot_normal\",dtype=tf.float64),\n",
        "    tf.keras.layers.Dense(32, activation='tanh',kernel_initializer=\"glorot_normal\",dtype=tf.float64),\n",
        "    tf.keras.layers.Dense(1,activation=None,kernel_initializer=\"glorot_normal\",dtype=tf.float64)\n",
        "])\n",
        "\n"
      ]
    },
    {
      "cell_type": "code",
      "execution_count": null,
      "metadata": {
        "id": "mNvGaMruMNSD"
      },
      "outputs": [],
      "source": [
        "\n",
        "# residual computation based on AD\n",
        "@tf.function\n",
        "def r_PINN(x,y,param):\n",
        "    u    = PINN(tf.concat([x,y], 1))\n",
        "    u_x= tf.gradients(u,x)[0]\n",
        "    u_y= tf.gradients(u,y)[0]\n",
        "    u_grad = tf.transpose(tf.concat([u_x, u_y], axis=1))\n",
        "    pi=tf.constant(np.pi/2,dtype=tf.float64)\n",
        "    theta0 = pi - param[0]\n",
        "    a = tf.stack([tf.cos(theta0), tf.sin(theta0)])\n",
        "    b = tf.stack([tf.cos(theta0-pi), tf.sin(theta0-pi)])\n",
        "    D = ( (1/param[1])* tf.linalg.matmul(a,tf.transpose(a)) + tf.linalg.matmul(b,tf.transpose(b)) )\n",
        "    return  tf.sqrt(tf.linalg.matmul(tf.transpose(u_grad), tf.linalg.matmul(D,u_grad)))-1/100 #check gradient shape\n",
        "\n",
        "\n",
        "# Adam optimizer\n",
        "tf_optimizer = tf.keras.optimizers.Adam(learning_rate=0.003,beta_1=0.99)\n",
        "\n",
        "# parameter variable\n",
        "#param 0 -> fiber anlge (-pi/10,pi/10)\n",
        "#param 1-> aniso (0,1)\n",
        "#param 2-> source y0 (-1.5,1,5)\n",
        "param = tf.Variable([[np.pi/20], [0.5], [0.7]], trainable=True,dtype=tf.float64)\n",
        "\n",
        "for iter in range(20000):\n",
        "\n",
        "\n",
        "  # compute gradients using AD\n",
        "  loss_value,grads,grad_param = grad(PINN,xcl,ycl,xmeas,ymeas,tmeas,param)\n",
        "\n",
        "  # update neural network weights\n",
        "  tf_optimizer.apply_gradients(zip(grads+[grad_param],PINN.trainable_variables+[param]))\n",
        "\n",
        "\n",
        "\n",
        "  # display intermediate results\n",
        "  if ((iter+1) % 200 == 0):\n",
        "    print('iter =  '+str(iter+1))\n",
        "    print('loss = {:.4f}'.format(loss_value))\n",
        "    print('coefficient estimate = {:.4f}'.format((param.numpy())))\n",
        "    PINN_flat = PINN(X_flat)\n",
        "    mse = 0.0\n",
        "    time_pred = tf.reshape(PINN_flat, (1501, 1501))\n",
        "    xmeas=xmeas.numpy().squeeze()\n",
        "    ymeas=ymeas.numpy().squeeze()\n",
        "    tmeas=tmeas.numpy().squeeze()\n",
        "    time_pred=time_pred.numpy()\n",
        "    for k in range(20):\n",
        "            i, j = np.where((X == xmeas[k]) & (Y == ymeas[k]))\n",
        "            mse+= (time_pred[i, j] - tmeas[k]) ** 2\n",
        "    print('mse error: %.4e' % (np.sqrt(mse/20)))\n",
        "    xmeas = tf.constant(xmeas.reshape(20, 1), dtype=tf.float64)\n",
        "    ymeas = tf.constant(ymeas.reshape(20, 1), dtype=tf.float64)\n",
        "    tmeas = tf.constant(tmeas.reshape(20, 1), dtype=tf.float64)\n",
        "\n",
        "\n"
      ]
    },
    {
      "cell_type": "code",
      "execution_count": null,
      "metadata": {
        "id": "xjbpEPkfWDJe"
      },
      "outputs": [],
      "source": [
        "#Display results\n",
        "\n",
        "fig = plt.figure(figsize=(16,9),dpi=150)\n",
        "#fig = plt.figure()\n",
        "#fig.subplots_adjust(wspace=0.3)\n",
        "plt.style.use('default')\n",
        "ax = fig.add_subplot(1,3,1)\n",
        "ax.set_aspect(1)\n",
        "im = plt.pcolor(X_plot, Y_plot, u_true)\n",
        "plt.scatter(xmeas,ymeas,marker='x',s=3)\n",
        "divider = make_axes_locatable(ax)\n",
        "cax = divider.append_axes(\"right\", size=\"5%\", pad=0.05)\n",
        "fig.colorbar(im,cax=cax)\n",
        "#ax.set_yticklabels(['-1.0','-0.6','-0.2','0.2','0.6','1.0'])\n",
        "ax.set_title('Exact Solution',fontsize=16)\n",
        "\n",
        "ax = fig.add_subplot(1,3,2)\n",
        "ax.set_aspect(1)\n",
        "im = plt.pcolor(X_plot, Y_plot, np.reshape(PINN_flat,(N_h,N_h)))\n",
        "plt.scatter(xmeas,ymeas,marker='x',s=3)\n",
        "divider = make_axes_locatable(ax)\n",
        "cax = divider.append_axes(\"right\", size=\"5%\", pad=0.05)\n",
        "fig.colorbar(im,cax=cax)\n",
        "ax.set_title('PINN Prediction'.format(err),fontsize=16)\n",
        "\n",
        "ax = fig.add_subplot(1,3,3)\n",
        "ax.set_aspect(1)\n",
        "im = plt.pcolor(X_plot, Y_plot, np.abs( np.reshape(PINN_flat,(N_h,N_h)) -u_true ) )\n",
        "divider = make_axes_locatable(ax)\n",
        "cax = divider.append_axes(\"right\", size=\"5%\", pad=0.05)\n",
        "fig.colorbar(im,cax=cax)\n",
        "ax.set_title('L2 error = {:.4f}'.format(err),fontsize=16)"
      ]
    },
    {
      "cell_type": "markdown",
      "source": [
        "scale parametri\n",
        "inizializzazione parametri incogniti ma nontrainable\n"
      ],
      "metadata": {
        "id": "7q7-Tgvsq1k9"
      }
    }
  ],
  "metadata": {
    "accelerator": "GPU",
    "colab": {
      "provenance": [],
      "gpuType": "T4",
      "include_colab_link": true
    },
    "kernelspec": {
      "display_name": "Python 3",
      "name": "python3"
    },
    "language_info": {
      "codemirror_mode": {
        "name": "ipython",
        "version": 3
      },
      "file_extension": ".py",
      "mimetype": "text/x-python",
      "name": "python",
      "nbconvert_exporter": "python",
      "pygments_lexer": "ipython3",
      "version": "3.9.13"
    }
  },
  "nbformat": 4,
  "nbformat_minor": 0
}