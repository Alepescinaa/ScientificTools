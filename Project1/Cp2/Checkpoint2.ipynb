{
  "cells": [
    {
      "cell_type": "markdown",
      "metadata": {
        "id": "C30_aD5_s8uw"
      },
      "source": [
        "# Checkpoint 2\n",
        "\n",
        "Implement here your algorithm to estimate the unknown parameters (fiber angle, anisotropy ratio and starting point position) from timings recorded in the 20 electrodes of the mapping catheter.\n",
        "\n",
        "The algorithm should output the following information:\n",
        "- your estimates of the fiber angle, anisotropy ratio and starting point position\n"
      ]
    },
    {
      "cell_type": "code",
      "execution_count": 1,
      "metadata": {
        "id": "sOd91o7Fs8uy"
      },
      "outputs": [],
      "source": [
        "# imports\n",
        "\n",
        "import numpy as np\n",
        "import matplotlib.pyplot as plt"
      ]
    },
    {
      "cell_type": "code",
      "source": [
        "!git clone https://github.com/Alepescinaa/ScientificTools\n",
        "%cd ScientificTools/Project1/Cp2"
      ],
      "metadata": {
        "id": "OxC9ZXPdtEMV",
        "outputId": "3bc84b7a-759a-4c8c-e953-a3d7fef85fd1",
        "colab": {
          "base_uri": "https://localhost:8080/"
        }
      },
      "execution_count": 2,
      "outputs": [
        {
          "output_type": "stream",
          "name": "stdout",
          "text": [
            "Cloning into 'ScientificTools'...\n",
            "remote: Enumerating objects: 354, done.\u001b[K\n",
            "remote: Counting objects: 100% (198/198), done.\u001b[K\n",
            "remote: Compressing objects: 100% (182/182), done.\u001b[K\n",
            "remote: Total 354 (delta 56), reused 1 (delta 1), pack-reused 156\u001b[K\n",
            "Receiving objects: 100% (354/354), 99.94 MiB | 9.61 MiB/s, done.\n",
            "Resolving deltas: 100% (94/94), done.\n",
            "/content/ScientificTools/Project1/Cp2\n"
          ]
        }
      ]
    },
    {
      "cell_type": "code",
      "execution_count": 66,
      "metadata": {
        "id": "tVFUk_F-s8uz"
      },
      "outputs": [],
      "source": [
        "# loading of the dataset\n",
        "\n",
        "CP2data = np.load(\"CP2data.npz\")\n",
        "CP2data = CP2data['arr_0']"
      ]
    },
    {
      "cell_type": "markdown",
      "metadata": {
        "id": "_y5iIPXcs8u0"
      },
      "source": [
        "# Display one recording"
      ]
    },
    {
      "cell_type": "code",
      "execution_count": 67,
      "metadata": {
        "id": "cKKmrurOs8u0"
      },
      "outputs": [],
      "source": [
        "ind_disp = 4\n",
        "x_meas = CP2data[ind_disp][0]\n",
        "y_meas = CP2data[ind_disp][1]\n",
        "t_meas = CP2data[ind_disp][2]"
      ]
    },
    {
      "cell_type": "code",
      "execution_count": 68,
      "metadata": {
        "id": "KAFNui8ws8u0",
        "outputId": "a194080e-1fbf-48ef-c8ba-ea2bc551c0cf",
        "colab": {
          "base_uri": "https://localhost:8080/",
          "height": 438
        }
      },
      "outputs": [
        {
          "output_type": "execute_result",
          "data": {
            "text/plain": [
              "<matplotlib.colorbar.Colorbar at 0x7a5ab249bbe0>"
            ]
          },
          "metadata": {},
          "execution_count": 68
        },
        {
          "output_type": "display_data",
          "data": {
            "text/plain": [
              "<Figure size 640x480 with 2 Axes>"
            ],
            "image/png": "[encoded data removed]"
          },
          "metadata": {}
        }
      ],
      "source": [
        "# Display a sample\n",
        "\n",
        "plt.figure(1)\n",
        "plt.scatter( x_meas,  y_meas, c=t_meas, vmin= 0, vmax=np.max(t_meas) )\n",
        "plt.gca().set_aspect(1)\n",
        "plt.colorbar()"
      ]
    },
    {
      "cell_type": "code",
      "execution_count": 69,
      "metadata": {
        "id": "GsR7iUdCs8u0"
      },
      "outputs": [],
      "source": [
        "# loading of the estimate\n",
        "\n",
        "CP2estimate = np.load(\"CP2estimate.npz\")\n",
        "CP2estimate = CP2estimate['arr_0']"
      ]
    },
    {
      "cell_type": "code",
      "execution_count": 70,
      "metadata": {
        "id": "X3Xi_X1Es8u0"
      },
      "outputs": [],
      "source": [
        "theta_fiber = CP2estimate[ind_disp][0]\n",
        "a_ratio  = CP2estimate[ind_disp][1]\n",
        "y0 = CP2estimate[ind_disp][2]"
      ]
    },
    {
      "cell_type": "code",
      "source": [
        "for i in range(5):\n",
        "  print(CP2estimate[i])"
      ],
      "metadata": {
        "id": "HcJizsZvyQkn",
        "outputId": "585199a4-ef16-4cd7-817a-1e0f69a1daa9",
        "colab": {
          "base_uri": "https://localhost:8080/"
        }
      },
      "execution_count": 71,
      "outputs": [
        {
          "output_type": "stream",
          "name": "stdout",
          "text": [
            "[-0.25064471  8.42790456  0.94861542]\n",
            "[ 0.03235073  6.62969993 -0.17485953]\n",
            "[ 0.25291165  4.68768325 -1.22127016]\n",
            "[-0.29207564  5.27909383  0.9323303 ]\n",
            "[0.1226488  3.6316356  0.84714825]\n"
          ]
        }
      ]
    },
    {
      "cell_type": "markdown",
      "metadata": {
        "id": "Why1AHS-s8u0"
      },
      "source": [
        "# Function\n",
        "\n",
        "Implemenatation of the algorithm presented in :\n",
        "\n",
        "Sermesant, Maxime, et al. \"An anisotropic multi-front fast marching method for real-time simulation of cardiac electrophysiology.\" Functional Imaging and Modeling of the Heart: 4th International Conference, FIHM 2007, Salt Lake City, UT, USA, June 7-9, 2007. Proceedings 4. Springer Berlin Heidelberg, 2007."
      ]
    },
    {
      "cell_type": "code",
      "execution_count": 72,
      "metadata": {
        "id": "H-Zkw5Jns8u1"
      },
      "outputs": [],
      "source": [
        "def anysotropic_FMM( x0 , y0 , X, Y, sigma_11,sigma_12, sigma_21, sigma_22 ):\n",
        "\n",
        "    (j,i)= ( (np.abs(X-x0)).argmin(1)[0] , (np.abs(Y-y0)).argmin(0)[0]  )\n",
        "    #print( i,j )\n",
        "    #print(x0,y0)\n",
        "    #print(X[i,j], Y[i,j])\n",
        "    #print()\n",
        "\n",
        "    T = (10^4)*(np.ones(np.shape(X)))\n",
        "    T[i,j] = 0\n",
        "\n",
        "    T_final = (10^4)*(np.ones(np.shape(X)))\n",
        "    T_final[i,j] = 0\n",
        "\n",
        "    TRIAL = [ (i,j) ]\n",
        "    KNOWN = []\n",
        "    KNOWN_C = []\n",
        "    CHANGED = []\n",
        "\n",
        "    KNOWN_MAT = (np.zeros(np.shape(X)))\n",
        "    CHANGED_MAT = (np.zeros(np.shape(X)))\n",
        "\n",
        "    def update_fun( T_xi,T_x,T_y, X_xi, X_x, X_y, Y_xi, Y_x, Y_y, flag_known, speed_val):\n",
        "\n",
        "        if ( flag_known ):\n",
        "            triangle_list = [ p*T_x+(1-p)*T_y + np.sqrt( sigma_11*( p*(X_xi-X_x) + (1-p)*(X_xi-X_y) )**2 + 2*sigma_12*( p*(X_xi-X_x) + (1-p)*(X_xi-X_y) )*( p*(Y_xi-Y_x) + (1-p)*(Y_xi-Y_y) ) + sigma_22*( p*(Y_xi-Y_x) + (1-p)*(Y_xi-Y_y) )**2 )/speed_val for p in np.arange(0,1.1,0.1)]\n",
        "            T_xi = np.min( [ T_xi , np.min(triangle_list) ] )\n",
        "        else:\n",
        "            T_xi = np.min( [ T_xi , T_x + np.sqrt( sigma_11*( (X_xi-X_x) )**2 + 2*sigma_12*( (X_xi-X_x) )*( Y_xi-Y_x ) + sigma_22*( Y_xi-Y_x )**2 )/speed_val ] )\n",
        "\n",
        "        return T_xi\n",
        "\n",
        "    while (np.shape(TRIAL)[0]>0) | (np.shape(CHANGED)[0]>0):\n",
        "\n",
        "        if (np.shape(CHANGED)[0]==0):\n",
        "            ind_sel =  ( np.array([T_final[i,j] for (i,j) in TRIAL]) ).argmin()\n",
        "            (i_sel,j_sel) = TRIAL[ind_sel]\n",
        "            # add X to known\n",
        "            KNOWN.append( TRIAL[ind_sel] )\n",
        "            KNOWN_MAT[i_sel,j_sel] = 1\n",
        "            # remove X from trial\n",
        "            del TRIAL[ind_sel]\n",
        "        else:\n",
        "            ind_sel =  ( np.array([T_final[i,j] for (i,j) in CHANGED]) ).argmin()\n",
        "            (i_sel,j_sel) = CHANGED[ind_sel]\n",
        "            CHANGED_MAT[i_sel,j_sel] = 0\n",
        "            # remove X from changed\n",
        "            del CHANGED[ind_sel]\n",
        "\n",
        "        T_X = T[i_sel,j_sel]\n",
        "\n",
        "        # UPDATE 1\n",
        "\n",
        "        if (i_sel!=0):\n",
        "\n",
        "            #if ((i_sel-1,j_sel) in KNOWN ):\n",
        "            if (KNOWN_MAT[i_sel-1,j_sel] == 1 ):\n",
        "\n",
        "                #T[i_sel-1,j_sel] = 10^4\n",
        "\n",
        "                if (j_sel!=150):\n",
        "\n",
        "                    T[i_sel-1,j_sel] = update_fun(T_xi = T[i_sel-1,j_sel],T_x = T[i_sel,j_sel],T_y = T[i_sel-1,j_sel+1],\n",
        "                                                X_xi = X[i_sel-1,j_sel], X_x= X[i_sel,j_sel], X_y= X[i_sel-1,j_sel+1],\n",
        "                                                    Y_xi= Y[i_sel-1,j_sel], Y_x=Y[i_sel,j_sel], Y_y=Y[i_sel-1,j_sel+1],\n",
        "                                                    flag_known =  (KNOWN_MAT[i_sel-1,j_sel+1] == 1 ),\n",
        "                                                    speed_val = 100 )\n",
        "\n",
        "\n",
        "                if (j_sel!=0):\n",
        "                    #if ((i_sel-1,j_sel-1) in KNOWN ):\n",
        "\n",
        "                    T[i_sel-1,j_sel] = update_fun(T_xi = T[i_sel-1,j_sel],T_x = T[i_sel,j_sel],T_y = T[i_sel-1,j_sel-1],\n",
        "                                                X_xi = X[i_sel-1,j_sel], X_x= X[i_sel,j_sel], X_y= X[i_sel-1,j_sel-1],\n",
        "                                                    Y_xi= Y[i_sel-1,j_sel], Y_x=Y[i_sel,j_sel], Y_y=Y[i_sel-1,j_sel-1],\n",
        "                                                    flag_known =  (KNOWN_MAT[i_sel-1,j_sel-1] == 1 ),\n",
        "                                                    speed_val = 100  )\n",
        "\n",
        "\n",
        "                # if ((i_sel-1,j_sel) not in TRIAL ):\n",
        "                #     TRIAL.append( (i_sel-1,j_sel) )\n",
        "                if ( CHANGED_MAT[i_sel-1,j_sel] != 1 ):\n",
        "                    if ( T[i_sel-1,j_sel] < T_final[i_sel-1,j_sel] ):\n",
        "                        T_final[i_sel-1,j_sel] = T[i_sel-1,j_sel]\n",
        "                        CHANGED.append( (i_sel-1,j_sel) )\n",
        "                        CHANGED_MAT[i_sel-1,j_sel] = 1\n",
        "\n",
        "        if (j_sel!=0):\n",
        "            #if ((i_sel,j_sel-1) in KNOWN ):\n",
        "            if (KNOWN_MAT[i_sel,j_sel-1] == 1 ):\n",
        "\n",
        "                #T[i_sel,j_sel-1] = 10^4\n",
        "\n",
        "\n",
        "                if (i_sel!=150):\n",
        "                    #if ((i_sel+1,j_sel-1) in KNOWN ):\n",
        "\n",
        "                    T[i_sel,j_sel-1] = update_fun(T_xi = T[i_sel,j_sel-1],T_x = T[i_sel,j_sel],T_y = T[i_sel+1,j_sel-1],\n",
        "                                                X_xi = X[i_sel,j_sel-1], X_x= X[i_sel,j_sel], X_y= X[i_sel+1,j_sel-1],\n",
        "                                                    Y_xi= Y[i_sel,j_sel-1], Y_x=Y[i_sel,j_sel], Y_y=Y[i_sel+1,j_sel-1],\n",
        "                                                    flag_known =  (KNOWN_MAT[i_sel+1,j_sel-1] == 1 ) ,\n",
        "                                                    speed_val = 100)\n",
        "\n",
        "\n",
        "                if (i_sel!=0):\n",
        "                    #if ((i_sel-1,j_sel-1) in KNOWN ):\n",
        "\n",
        "                    T[i_sel,j_sel-1] = update_fun(T_xi = T[i_sel,j_sel-1],T_x = T[i_sel,j_sel],T_y = T[i_sel-1,j_sel-1],\n",
        "                                                X_xi = X[i_sel,j_sel-1], X_x= X[i_sel,j_sel], X_y= X[i_sel-1,j_sel-1],\n",
        "                                                    Y_xi= Y[i_sel,j_sel-1], Y_x=Y[i_sel,j_sel], Y_y=Y[i_sel-1,j_sel-1],\n",
        "                                                    flag_known =  (KNOWN_MAT[i_sel-1,j_sel-1] == 1 ) ,\n",
        "                                                    speed_val = 100 )\n",
        "\n",
        "                #if ((i_sel,j_sel-1) not in TRIAL ):\n",
        "                #    TRIAL.append( (i_sel,j_sel-1) )\n",
        "                if ( CHANGED_MAT[i_sel,j_sel-1] != 1 ):\n",
        "                    if ( T[i_sel,j_sel-1] < T_final[i_sel,j_sel-1] ):\n",
        "                        T_final[i_sel,j_sel-1] = T[i_sel,j_sel-1]\n",
        "                        CHANGED.append( (i_sel,j_sel-1) )\n",
        "                        CHANGED_MAT[i_sel,j_sel-1] = 1\n",
        "                    #T[i_sel,j_sel-1] = T[i_sel,j_sel] + np.sqrt( ( X[i_sel,j_sel-1]-X[i_sel,j_sel] )**2 + ( Y[i_sel,j_sel-1]-Y[i_sel,j_sel] )**2 )/100\n",
        "\n",
        "        if (i_sel!=150):\n",
        "            #if ((i_sel+1,j_sel) in KNOWN ):\n",
        "            if (KNOWN_MAT[i_sel+1,j_sel] == 1 ):\n",
        "\n",
        "                #T[i_sel+1,j_sel] = 10^4\n",
        "\n",
        "                if (j_sel!=150):\n",
        "                    #if ((i_sel+1,j_sel+1) in KNOWN ):\n",
        "\n",
        "                    T[i_sel+1,j_sel] = update_fun(T_xi = T[i_sel+1,j_sel],T_x = T[i_sel,j_sel],T_y = T[i_sel+1,j_sel+1],\n",
        "                                                X_xi = X[i_sel+1,j_sel], X_x= X[i_sel,j_sel], X_y= X[i_sel+1,j_sel+1],\n",
        "                                                    Y_xi= Y[i_sel+1,j_sel], Y_x=Y[i_sel,j_sel], Y_y=Y[i_sel+1,j_sel+1],\n",
        "                                                    flag_known =  (KNOWN_MAT[i_sel+1,j_sel+1] == 1 ) ,\n",
        "                                                    speed_val = 100)\n",
        "\n",
        "                if (j_sel!=0) :\n",
        "                    #if ((i_sel+1,j_sel-1) in KNOWN ):\n",
        "\n",
        "                    T[i_sel+1,j_sel] = update_fun(T_xi = T[i_sel+1,j_sel],T_x = T[i_sel,j_sel],T_y = T[i_sel+1,j_sel-1],\n",
        "                                                X_xi = X[i_sel+1,j_sel], X_x= X[i_sel,j_sel], X_y= X[i_sel+1,j_sel-1],\n",
        "                                                    Y_xi= Y[i_sel+1,j_sel], Y_x=Y[i_sel,j_sel], Y_y=Y[i_sel+1,j_sel-1],\n",
        "                                                    flag_known =  (KNOWN_MAT[i_sel+1,j_sel-1] == 1 ) ,\n",
        "                                                    speed_val = 100 )\n",
        "\n",
        "                # if ((i_sel+1,j_sel) not in TRIAL ):\n",
        "                #     TRIAL.append( (i_sel+1,j_sel) )\n",
        "                if ( CHANGED_MAT[i_sel+1,j_sel] != 1 ):\n",
        "                    if ( T[i_sel+1,j_sel] < T_final[i_sel+1,j_sel] ):\n",
        "                        T_final[i_sel+1,j_sel] = T[i_sel+1,j_sel]\n",
        "                        CHANGED.append( (i_sel+1,j_sel) )\n",
        "                        CHANGED_MAT[i_sel+1,j_sel] = 1\n",
        "\n",
        "        if (j_sel!=150):\n",
        "            #if ((i_sel,j_sel+1) in KNOWN ):\n",
        "            if (KNOWN_MAT[i_sel,j_sel+1] == 1 ):\n",
        "\n",
        "                #T[i_sel,j_sel+1] = 10^4\n",
        "\n",
        "                if (i_sel!=150):\n",
        "                    #if ((i_sel+1,j_sel+1) in KNOWN ):\n",
        "                    T[i_sel,j_sel+1] = update_fun(T_xi = T[i_sel,j_sel+1],T_x = T[i_sel,j_sel],T_y = T[i_sel+1,j_sel+1],\n",
        "                                                X_xi = X[i_sel,j_sel+1], X_x= X[i_sel,j_sel], X_y= X[i_sel+1,j_sel+1],\n",
        "                                                    Y_xi= Y[i_sel,j_sel+1], Y_x=Y[i_sel,j_sel], Y_y=Y[i_sel+1,j_sel+1],\n",
        "                                                    flag_known =  (KNOWN_MAT[i_sel+1,j_sel+1] == 1 ) ,\n",
        "                                                    speed_val = 100 )\n",
        "\n",
        "                if (i_sel!=0):\n",
        "                    #if ((i_sel-1,j_sel+1) in KNOWN ):\n",
        "\n",
        "                    T[i_sel,j_sel+1] = update_fun(T_xi = T[i_sel,j_sel+1],T_x = T[i_sel,j_sel],T_y = T[i_sel-1,j_sel+1],\n",
        "                                                X_xi = X[i_sel,j_sel+1], X_x= X[i_sel,j_sel], X_y= X[i_sel-1,j_sel+1],\n",
        "                                                    Y_xi= Y[i_sel,j_sel+1], Y_x=Y[i_sel,j_sel], Y_y=Y[i_sel-1,j_sel+1],\n",
        "                                                    flag_known =  (KNOWN_MAT[i_sel-1,j_sel+1] == 1 ) ,\n",
        "                                                    speed_val = 100 )\n",
        "\n",
        "\n",
        "                # if ((i_sel,j_sel+1) not in TRIAL ):\n",
        "                #     TRIAL.append( (i_sel,j_sel+1) )\n",
        "                if ( CHANGED_MAT[i_sel,j_sel+1] != 1 ):\n",
        "                    if ( T[i_sel,j_sel+1] < T_final[i_sel,j_sel+1] ):\n",
        "                        T_final[i_sel,j_sel+1] = T[i_sel,j_sel+1]\n",
        "                        CHANGED.append( (i_sel,j_sel+1) )\n",
        "                        CHANGED_MAT[i_sel,j_sel+1] = 1\n",
        "\n",
        "        # UPDATE 2\n",
        "\n",
        "        if (i_sel!=0):\n",
        "\n",
        "            #if ((i_sel-1,j_sel) not in KNOWN ) :\n",
        "            if (KNOWN_MAT[i_sel-1,j_sel] != 1 ):\n",
        "\n",
        "                T[i_sel-1,j_sel] = 10^4\n",
        "\n",
        "                if (j_sel!=150):\n",
        "                    #if ((i_sel-1,j_sel+1) in KNOWN ):\n",
        "\n",
        "                    T[i_sel-1,j_sel] = update_fun(T_xi = T[i_sel-1,j_sel],T_x = T[i_sel,j_sel],T_y = T[i_sel-1,j_sel+1],\n",
        "                                                X_xi = X[i_sel-1,j_sel], X_x= X[i_sel,j_sel], X_y= X[i_sel-1,j_sel+1],\n",
        "                                                    Y_xi= Y[i_sel-1,j_sel], Y_x=Y[i_sel,j_sel], Y_y=Y[i_sel-1,j_sel+1],\n",
        "                                                    flag_known =  (KNOWN_MAT[i_sel-1,j_sel+1] == 1 ) ,\n",
        "                                                    speed_val = 100 )\n",
        "\n",
        "                if (j_sel!=0):\n",
        "                    #if ((i_sel-1,j_sel-1) in KNOWN ):\n",
        "\n",
        "                    T[i_sel-1,j_sel] = update_fun(T_xi = T[i_sel-1,j_sel],T_x = T[i_sel,j_sel],T_y = T[i_sel-1,j_sel-1],\n",
        "                                                X_xi = X[i_sel-1,j_sel], X_x= X[i_sel,j_sel], X_y= X[i_sel-1,j_sel-1],\n",
        "                                                    Y_xi= Y[i_sel-1,j_sel], Y_x=Y[i_sel,j_sel], Y_y=Y[i_sel-1,j_sel-1],\n",
        "                                                    flag_known =  (KNOWN_MAT[i_sel-1,j_sel-1] == 1 ) ,\n",
        "                                                    speed_val = 100 )\n",
        "\n",
        "                if ((i_sel-1,j_sel) in TRIAL ):\n",
        "                    if ( T[i_sel-1,j_sel] < T_final[i_sel-1,j_sel] ):\n",
        "                        T_final[i_sel-1,j_sel] = T[i_sel-1,j_sel]\n",
        "                else: # ((i_sel-1,j_sel) not in KNOWN ):\n",
        "                    if ( T[i_sel-1,j_sel] < T_final[i_sel-1,j_sel] ):\n",
        "                        T_final[i_sel-1,j_sel] = T[i_sel-1,j_sel]\n",
        "                    #KNOWN_C.append( (i_sel-1,j_sel) )\n",
        "                    TRIAL.append( (i_sel-1,j_sel) )\n",
        "\n",
        "        if (j_sel!=0):\n",
        "            #if ((i_sel,j_sel-1) not in KNOWN ) :\n",
        "            if (KNOWN_MAT[i_sel,j_sel-1] != 1 ):\n",
        "\n",
        "                T[i_sel,j_sel-1] = 10^4\n",
        "\n",
        "\n",
        "                if (i_sel!=150):\n",
        "                    #if ((i_sel+1,j_sel-1) in KNOWN ):\n",
        "\n",
        "                    T[i_sel,j_sel-1] = update_fun(T_xi = T[i_sel,j_sel-1],T_x = T[i_sel,j_sel],T_y = T[i_sel+1,j_sel-1],\n",
        "                                                X_xi = X[i_sel,j_sel-1], X_x= X[i_sel,j_sel], X_y= X[i_sel+1,j_sel-1],\n",
        "                                                    Y_xi= Y[i_sel,j_sel-1], Y_x=Y[i_sel,j_sel], Y_y=Y[i_sel+1,j_sel-1],\n",
        "                                                    flag_known =  (KNOWN_MAT[i_sel+1,j_sel-1] == 1 ) ,\n",
        "                                                    speed_val = 100 )\n",
        "\n",
        "                if (i_sel!=0):\n",
        "                    #if ((i_sel-1,j_sel-1) in KNOWN ):\n",
        "\n",
        "                    T[i_sel,j_sel-1] = update_fun(T_xi = T[i_sel,j_sel-1],T_x = T[i_sel,j_sel],T_y = T[i_sel-1,j_sel-1],\n",
        "                                                X_xi = X[i_sel,j_sel-1], X_x= X[i_sel,j_sel], X_y= X[i_sel-1,j_sel-1],\n",
        "                                                    Y_xi= Y[i_sel,j_sel-1], Y_x=Y[i_sel,j_sel], Y_y=Y[i_sel-1,j_sel-1],\n",
        "                                                    flag_known =  (KNOWN_MAT[i_sel-1,j_sel-1] == 1 ),\n",
        "                                                    speed_val = 100  )\n",
        "\n",
        "\n",
        "                if ((i_sel,j_sel-1) in TRIAL ):\n",
        "                    if ( T[i_sel,j_sel-1] < T_final[i_sel,j_sel-1] ):\n",
        "                        T_final[i_sel,j_sel-1] = T[i_sel,j_sel-1]\n",
        "                else : # ((i_sel,j_sel-1) not in KNOWN ):\n",
        "                    if ( T[i_sel,j_sel-1] < T_final[i_sel,j_sel-1] ):\n",
        "                        T_final[i_sel,j_sel-1] = T[i_sel,j_sel-1]\n",
        "                    #KNOWN_C.append( (i_sel,j_sel-1) )\n",
        "                    TRIAL.append( (i_sel,j_sel-1) )\n",
        "                #T[i_sel,j_sel-1] = T[i_sel,j_sel] + np.sqrt( ( X[i_sel,j_sel-1]-X[i_sel,j_sel] )**2 + ( Y[i_sel,j_sel-1]-Y[i_sel,j_sel] )**2 )/100\n",
        "\n",
        "        if (i_sel!=150):\n",
        "            #if ((i_sel+1,j_sel) not in KNOWN ) :\n",
        "            if (KNOWN_MAT[i_sel+1,j_sel] != 1 ):\n",
        "\n",
        "                T[i_sel+1,j_sel] = 10^4\n",
        "\n",
        "                if (j_sel!=150):\n",
        "                    #if ((i_sel+1,j_sel+1) in KNOWN ):\n",
        "\n",
        "                    T[i_sel+1,j_sel] = update_fun(T_xi = T[i_sel+1,j_sel],T_x = T[i_sel,j_sel],T_y = T[i_sel+1,j_sel+1],\n",
        "                                                X_xi = X[i_sel+1,j_sel], X_x= X[i_sel,j_sel], X_y= X[i_sel+1,j_sel+1],\n",
        "                                                    Y_xi= Y[i_sel+1,j_sel], Y_x=Y[i_sel,j_sel], Y_y=Y[i_sel+1,j_sel+1],\n",
        "                                                    flag_known = (KNOWN_MAT[i_sel+1,j_sel+1] == 1 ) ,\n",
        "                                                    speed_val = 100 )\n",
        "\n",
        "                if (j_sel!=0) :\n",
        "                    #if ((i_sel+1,j_sel-1) in KNOWN ):\n",
        "\n",
        "                    T[i_sel+1,j_sel] = update_fun(T_xi = T[i_sel+1,j_sel],T_x = T[i_sel,j_sel],T_y = T[i_sel+1,j_sel-1],\n",
        "                                                X_xi = X[i_sel+1,j_sel], X_x= X[i_sel,j_sel], X_y= X[i_sel+1,j_sel-1],\n",
        "                                                    Y_xi= Y[i_sel+1,j_sel], Y_x=Y[i_sel,j_sel], Y_y=Y[i_sel+1,j_sel-1],\n",
        "                                                    flag_known = (KNOWN_MAT[i_sel+1,j_sel-1] == 1 ),\n",
        "                                                    speed_val = 100  )\n",
        "\n",
        "\n",
        "                if ((i_sel+1,j_sel) in TRIAL ):\n",
        "                    if ( T[i_sel+1,j_sel] < T_final[i_sel+1,j_sel] ):\n",
        "                        T_final[i_sel+1,j_sel] = T[i_sel+1,j_sel]\n",
        "                else: #if ((i_sel+1,j_sel) not in KNOWN ):\n",
        "                    if ( T[i_sel+1,j_sel] < T_final[i_sel+1,j_sel] ):\n",
        "                        T_final[i_sel+1,j_sel] = T[i_sel+1,j_sel]\n",
        "                    #KNOWN_C.append( (i_sel+1,j_sel) )\n",
        "                    TRIAL.append( (i_sel+1,j_sel) )\n",
        "\n",
        "        if (j_sel!=150):\n",
        "            #if ((i_sel,j_sel+1) not in KNOWN ) :\n",
        "            if (KNOWN_MAT[i_sel,j_sel+1] != 1 ):\n",
        "\n",
        "                T[i_sel,j_sel+1] = 10^4\n",
        "\n",
        "                if (i_sel!=150):\n",
        "                    #if ((i_sel+1,j_sel+1) in KNOWN ):\n",
        "\n",
        "                    T[i_sel,j_sel+1] = update_fun(T_xi = T[i_sel,j_sel+1],T_x = T[i_sel,j_sel],T_y = T[i_sel+1,j_sel+1],\n",
        "                                                X_xi = X[i_sel,j_sel+1], X_x= X[i_sel,j_sel], X_y= X[i_sel+1,j_sel+1],\n",
        "                                                    Y_xi= Y[i_sel,j_sel+1], Y_x=Y[i_sel,j_sel], Y_y=Y[i_sel+1,j_sel+1],\n",
        "                                                    flag_known = (KNOWN_MAT[i_sel+1,j_sel+1] == 1 ) ,\n",
        "                                                    speed_val = 100 )\n",
        "\n",
        "                if (i_sel!=0):\n",
        "                    #if ((i_sel-1,j_sel+1) in KNOWN ):\n",
        "\n",
        "                    T[i_sel,j_sel+1] = update_fun(T_xi = T[i_sel,j_sel+1],T_x = T[i_sel,j_sel],T_y = T[i_sel-1,j_sel+1],\n",
        "                                                X_xi = X[i_sel,j_sel+1], X_x= X[i_sel,j_sel], X_y= X[i_sel-1,j_sel+1],\n",
        "                                                    Y_xi= Y[i_sel,j_sel+1], Y_x=Y[i_sel,j_sel], Y_y=Y[i_sel-1,j_sel+1],\n",
        "                                                    flag_known = (KNOWN_MAT[i_sel-1,j_sel+1] == 1 ) ,\n",
        "                                                    speed_val = 100  )\n",
        "\n",
        "\n",
        "                if ((i_sel,j_sel+1) in TRIAL ):\n",
        "                    if ( T[i_sel,j_sel+1] < T_final[i_sel,j_sel+1] ):\n",
        "                        T_final[i_sel,j_sel+1] = T[i_sel,j_sel+1]\n",
        "                else: #if ((i_sel,j_sel+1) not in KNOWN ):\n",
        "                    if ( T[i_sel,j_sel+1] < T_final[i_sel,j_sel+1] ):\n",
        "                        T_final[i_sel,j_sel+1] = T[i_sel,j_sel+1]\n",
        "                    #KNOWN_C.append( (i_sel,j_sel+1) )\n",
        "                    TRIAL.append( (i_sel,j_sel+1) )\n",
        "\n",
        "    return T_final"
      ]
    },
    {
      "cell_type": "code",
      "execution_count": 73,
      "metadata": {
        "id": "lNmZeZZKs8u2",
        "outputId": "ce577f90-0fe7-4494-e420-c2bcaddca71e",
        "colab": {
          "base_uri": "https://localhost:8080/"
        }
      },
      "outputs": [
        {
          "output_type": "stream",
          "name": "stdout",
          "text": [
            "[[ 0.98915396 -0.08798785]\n",
            " [-0.08798785  0.28620407]]\n"
          ]
        }
      ],
      "source": [
        "X, Y = np.meshgrid(np.linspace(-1.5,1.5,151), np.linspace(-1.5,1.5,151))\n",
        "\n",
        "x0 = 1.5\n",
        "\n",
        "theta0 = np.pi/2 - theta_fiber\n",
        "a = np.array([np.cos(theta0), np.sin(theta0)]).T\n",
        "b = np.array([np.cos(theta0-np.pi/2), np.sin(theta0-np.pi/2)]).T\n",
        "\n",
        "D = ( (1/a_ratio)*np.tensordot(a, a,  axes=0) + np.tensordot(b, b,  axes=0) )\n",
        "print(D)\n",
        "\n",
        "D_inv = np.linalg.inv(D)\n",
        "sigma_11 = D_inv[0][0]\n",
        "sigma_12 = D_inv[0][1]\n",
        "sigma_21 = D_inv[1][0]\n",
        "sigma_22 = D_inv[1][1]\n",
        "\n",
        "activation_time = anysotropic_FMM(x0 , y0 , X, Y, sigma_11,sigma_12, sigma_21, sigma_22) #funzione che mappa dallo spazio dei parametri a quello dei tempi"
      ]
    },
    {
      "cell_type": "code",
      "execution_count": 74,
      "metadata": {
        "id": "YQkXZ_7gs8u2",
        "outputId": "3f7e4314-c142-4419-fffe-e02236023be0",
        "colab": {
          "base_uri": "https://localhost:8080/",
          "height": 453
        }
      },
      "outputs": [
        {
          "output_type": "execute_result",
          "data": {
            "text/plain": [
              "<matplotlib.colorbar.Colorbar at 0x7a5ab21af3d0>"
            ]
          },
          "metadata": {},
          "execution_count": 74
        },
        {
          "output_type": "display_data",
          "data": {
            "text/plain": [
              "<Figure size 640x480 with 2 Axes>"
            ],
            "image/png": "[encoded data removed]"
          },
          "metadata": {}
        }
      ],
      "source": [
        "plt.contour(X, Y, activation_time , 10)\n",
        "plt.scatter( x_meas,  y_meas, c=t_meas, vmin= 0, vmax=np.max(activation_time) )\n",
        "plt.gca().set_aspect(1)\n",
        "plt.colorbar()"
      ]
    },
    {
      "cell_type": "markdown",
      "metadata": {
        "id": "1b_P8FOjs8u3"
      },
      "source": [
        "# signature of the function\n",
        "\n",
        "def checkpoint2_solution( x, y , t ):\n",
        "\n",
        "return theta_fiber, a_ratio, y0\n",
        "\n"
      ]
    },
    {
      "cell_type": "code",
      "source": [
        "def CostFunctional(param, x_meas, y_meas, t_meas):\n",
        "\n",
        "  theta_fiber=param[0]\n",
        "  a_ratio=param[1]\n",
        "  y0=param[2]\n",
        "  theta0 = np.pi/2 - theta_fiber\n",
        "  a = np.array([np.cos(theta0), np.sin(theta0)]).T\n",
        "  b = np.array([np.cos(theta0-np.pi/2), np.sin(theta0-np.pi/2)]).T\n",
        "\n",
        "  D = ( (1/a_ratio) * np.tensordot(a, a,  axes=0) + np.tensordot(b, b,  axes=0) )\n",
        "  #print(D)\n",
        "\n",
        "  D_inv = np.linalg.inv(D)\n",
        "  sigma_11 = D_inv[0][0]\n",
        "  sigma_12 = D_inv[0][1]\n",
        "  sigma_21 = D_inv[1][0]\n",
        "  sigma_22 = D_inv[1][1]\n",
        "\n",
        "  activation_time = anysotropic_FMM(x0 , y0 , X, Y, sigma_11,sigma_12, sigma_21, sigma_22)\n",
        "  sum = 0.0\n",
        "\n",
        "  for k in range(20):\n",
        "      i, j = np.where((X == x_meas[k]) & (Y == y_meas[k]))\n",
        "      sum += (activation_time[i, j] - t_meas[k]) ** 2\n",
        "\n",
        "  J = np.sqrt(sum/20)\n",
        "\n",
        "  return J"
      ],
      "metadata": {
        "id": "1eHuV1aBh5Pr"
      },
      "execution_count": 78,
      "outputs": []
    },
    {
      "cell_type": "code",
      "execution_count": 99,
      "metadata": {
        "id": "Se4CqyV9s8u3"
      },
      "outputs": [],
      "source": [
        "import scipy\n",
        "import time\n",
        "\n",
        "def callback(xk):\n",
        "    # This function will be called at each iteration\n",
        "    print(\"Iteration:\", callback.iteration)\n",
        "    print(\"Parameters:\", xk)\n",
        "\n",
        "    callback.iteration += 1\n",
        "\n",
        "callback.iteration = 1\n",
        "\n",
        "def checkpoint2_solution(x, y , t):\n",
        "\n",
        "    theta_fiber = 0\n",
        "    a_ratio = 3\n",
        "    y0 = 0\n",
        "    param=(theta_fiber, a_ratio, y0)\n",
        "\n",
        "    res = scipy.optimize.minimize(CostFunctional, param, args = (x,y,t), method='Nelder-Mead', tol = 1e-5, bounds = [(-np.pi / 20, np.pi / 20), (1, 9), (-1.5, 1.5)], callback = callback, options = {'maxiter': 200})\n",
        "    print(res)\n",
        "\n",
        "    return res.x"
      ]
    },
    {
      "cell_type": "code",
      "source": [
        "theta_fiber, a_ratio, y0 = checkpoint2_solution(x_meas, y_meas , t_meas)"
      ],
      "metadata": {
        "id": "gNn4MbpFlwNO",
        "outputId": "b45b51c6-f9cb-46cd-acc5-f2e94f56fa8c",
        "colab": {
          "base_uri": "https://localhost:8080/"
        }
      },
      "execution_count": null,
      "outputs": [
        {
          "output_type": "stream",
          "name": "stdout",
          "text": [
            "Iteration: 1\n",
            "Parameters: [0.   3.15 0.  ]\n",
            "Iteration: 2\n",
            "Parameters: [ 4.16666667e-04  3.25000000e+00 -2.50000000e-04]\n",
            "Iteration: 3\n",
            "Parameters: [ 8.33333333e-05  3.50000000e+00 -5.00000000e-04]\n",
            "Iteration: 4\n",
            "Parameters: [ 1.66666667e-04  3.70000000e+00 -2.50000000e-04]\n",
            "Iteration: 5\n",
            "Parameters: [ 6.66666667e-04  4.15000000e+00 -1.00000000e-03]\n",
            "Iteration: 6\n",
            "Parameters: [ 6.66666667e-04  4.15000000e+00 -1.00000000e-03]\n",
            "Iteration: 7\n",
            "Parameters: [ 6.66666667e-04  4.15000000e+00 -1.00000000e-03]\n",
            "Iteration: 8\n",
            "Parameters: [ 6.66666667e-04  4.15000000e+00 -1.00000000e-03]\n",
            "Iteration: 9\n",
            "Parameters: [ 6.66666667e-04  4.15000000e+00 -1.00000000e-03]\n",
            "Iteration: 10\n",
            "Parameters: [ 5.39094650e-04  4.47067901e+00 -9.79938272e-04]\n",
            "Iteration: 11\n",
            "Parameters: [ 5.17318244e-04  4.41826132e+00 -1.04758230e-03]\n",
            "Iteration: 12\n",
            "Parameters: [ 1.33419067e-03  4.40560700e+00 -1.19418724e-03]\n",
            "Iteration: 13\n",
            "Parameters: [ 1.33419067e-03  4.40560700e+00 -1.19418724e-03]\n",
            "Iteration: 14\n",
            "Parameters: [ 1.33419067e-03  4.40560700e+00 -1.19418724e-03]\n",
            "Iteration: 15\n",
            "Parameters: [ 2.21441091e-03  4.13224737e+00 -1.34184957e-03]\n",
            "Iteration: 16\n",
            "Parameters: [ 3.26815653e-03  4.22874371e+00 -1.66800983e-03]\n",
            "Iteration: 17\n",
            "Parameters: [ 4.45057918e-03  4.22178784e+00 -1.79229538e-03]\n",
            "Iteration: 18\n",
            "Parameters: [ 4.45057918e-03  4.22178784e+00 -1.79229538e-03]\n",
            "Iteration: 19\n",
            "Parameters: [ 8.57782096e-03  4.16894909e+00 -2.78385536e-03]\n",
            "Iteration: 20\n",
            "Parameters: [ 8.57782096e-03  4.16894909e+00 -2.78385536e-03]\n",
            "Iteration: 21\n",
            "Parameters: [ 1.13953009e-02  4.44526812e+00 -3.28257570e-03]\n",
            "Iteration: 22\n",
            "Parameters: [ 0.02001468  4.19099731 -0.00520276]\n",
            "Iteration: 23\n",
            "Parameters: [ 0.02001468  4.19099731 -0.00520276]\n",
            "Iteration: 24\n",
            "Parameters: [ 0.03197016  4.81482117 -0.0077095 ]\n",
            "Iteration: 25\n",
            "Parameters: [ 0.0350718   4.56958014 -0.00852018]\n",
            "Iteration: 26\n",
            "Parameters: [ 0.04032194  4.53381182 -0.00949643]\n",
            "Iteration: 27\n",
            "Parameters: [ 0.04032194  4.53381182 -0.00949643]\n",
            "Iteration: 28\n",
            "Parameters: [ 0.04032194  4.53381182 -0.00949643]\n",
            "Iteration: 29\n",
            "Parameters: [ 0.07440609  5.12844409 -0.01667093]\n",
            "Iteration: 30\n",
            "Parameters: [ 0.07440609  5.12844409 -0.01667093]\n",
            "Iteration: 31\n",
            "Parameters: [ 0.07440609  5.12844409 -0.01667093]\n",
            "Iteration: 32\n",
            "Parameters: [ 0.11763958  5.27469867 -0.0256475 ]\n",
            "Iteration: 33\n",
            "Parameters: [ 0.11763958  5.27469867 -0.0256475 ]\n",
            "Iteration: 34\n",
            "Parameters: [ 0.13789275  5.94566925 -0.02996248]\n",
            "Iteration: 35\n",
            "Parameters: [ 0.15707963  6.12490693 -0.03644717]\n",
            "Iteration: 36\n",
            "Parameters: [ 0.15707963  5.90385796 -0.03730428]\n",
            "Iteration: 37\n",
            "Parameters: [ 0.15707963  5.90385796 -0.03730428]\n",
            "Iteration: 38\n",
            "Parameters: [ 0.15707963  5.90385796 -0.03730428]\n",
            "Iteration: 39\n",
            "Parameters: [ 0.15707963  5.63578192 -0.04091231]\n",
            "Iteration: 40\n",
            "Parameters: [ 0.15707963  5.63578192 -0.04091231]\n",
            "Iteration: 41\n",
            "Parameters: [ 0.15707963  5.63578192 -0.04091231]\n",
            "Iteration: 42\n",
            "Parameters: [ 0.15707963  5.63578192 -0.04091231]\n",
            "Iteration: 43\n",
            "Parameters: [ 0.15707963  5.6128561  -0.03648103]\n",
            "Iteration: 44\n",
            "Parameters: [ 0.15707963  5.6128561  -0.03648103]\n",
            "Iteration: 45\n",
            "Parameters: [ 0.15707963  5.54925215 -0.03451619]\n",
            "Iteration: 46\n",
            "Parameters: [ 0.15707963  5.56055467 -0.03854823]\n",
            "Iteration: 47\n",
            "Parameters: [ 0.15707963  5.56055467 -0.03854823]\n",
            "Iteration: 48\n",
            "Parameters: [ 0.15707963  5.56055467 -0.03854823]\n",
            "Iteration: 49\n",
            "Parameters: [ 0.15707963  5.58617343 -0.0376793 ]\n",
            "Iteration: 50\n",
            "Parameters: [ 0.15707963  5.56445233 -0.03610772]\n",
            "Iteration: 51\n",
            "Parameters: [ 0.15707963  5.58131145 -0.03715765]\n",
            "Iteration: 52\n",
            "Parameters: [ 0.15707963  5.56893354 -0.03776489]\n",
            "Iteration: 53\n",
            "Parameters: [ 0.15707963  5.5788696  -0.03734469]\n",
            "Iteration: 54\n",
            "Parameters: [ 0.15707963  5.5788696  -0.03734469]\n",
            "Iteration: 55\n",
            "Parameters: [ 0.15707963  5.57702491 -0.0372246 ]\n",
            "Iteration: 56\n",
            "Parameters: [ 0.15707963  5.57702491 -0.0372246 ]\n",
            "Iteration: 57\n",
            "Parameters: [ 0.15707963  5.57321914 -0.03705044]\n",
            "Iteration: 58\n",
            "Parameters: [ 0.15707963  5.57321914 -0.03705044]\n",
            "Iteration: 59\n",
            "Parameters: [ 0.15707963  5.57388397 -0.03731346]\n",
            "Iteration: 60\n",
            "Parameters: [ 0.15707963  5.57388397 -0.03731346]\n",
            "Iteration: 61\n",
            "Parameters: [ 0.15707963  5.57540041 -0.03724317]\n",
            "Iteration: 62\n",
            "Parameters: [ 0.15707963  5.57412041 -0.03715491]\n",
            "Iteration: 63\n",
            "Parameters: [ 0.15707963  5.57512447 -0.03722933]\n"
          ]
        }
      ]
    },
    {
      "cell_type": "code",
      "source": [
        "print(theta_fiber, a_ratio, y0)\n",
        "print(CP2estimate[ind_disp][0], CP2estimate[ind_disp][1], CP2estimate[ind_disp][2])"
      ],
      "metadata": {
        "id": "ZU2Ov6WopOke",
        "outputId": "1dc65ac6-a7b4-45a1-806f-8d1980481c6d",
        "colab": {
          "base_uri": "https://localhost:8080/"
        }
      },
      "execution_count": 36,
      "outputs": [
        {
          "output_type": "stream",
          "name": "stdout",
          "text": [
            "0.15707963267948966 5.574382863601569 -0.03726130074866188\n",
            "0.12264880421068648 3.6316355952332042 0.8471482485529079\n"
          ]
        }
      ]
    }
  ],
  "metadata": {
    "kernelspec": {
      "display_name": "teachenv",
      "language": "python",
      "name": "python3"
    },
    "language_info": {
      "codemirror_mode": {
        "name": "ipython",
        "version": 3
      },
      "file_extension": ".py",
      "mimetype": "text/x-python",
      "name": "python",
      "nbconvert_exporter": "python",
      "pygments_lexer": "ipython3",
      "version": "3.9.13"
    },
    "colab": {
      "provenance": []
    }
  },
  "nbformat": 4,
  "nbformat_minor": 0
}